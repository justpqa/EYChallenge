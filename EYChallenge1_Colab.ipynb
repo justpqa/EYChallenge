{
  "cells": [
    {
      "cell_type": "markdown",
      "source": [
        "#### Installation code for the Colab session"
      ],
      "metadata": {
        "id": "nRpNmCmpMpuJ"
      },
      "id": "nRpNmCmpMpuJ"
    },
    {
      "cell_type": "code",
      "source": [
        "pip install rasterio"
      ],
      "metadata": {
        "id": "z_ESIHC0WJMg"
      },
      "id": "z_ESIHC0WJMg",
      "execution_count": null,
      "outputs": []
    },
    {
      "cell_type": "code",
      "source": [
        "pip install rioxarray"
      ],
      "metadata": {
        "id": "cQMQy_IpWYhC"
      },
      "id": "cQMQy_IpWYhC",
      "execution_count": null,
      "outputs": []
    },
    {
      "cell_type": "code",
      "source": [
        "pip install xarray-spatial"
      ],
      "metadata": {
        "id": "WhhXeuHKWr8g"
      },
      "id": "WhhXeuHKWr8g",
      "execution_count": null,
      "outputs": []
    },
    {
      "cell_type": "code",
      "source": [
        "pip install pystac-client"
      ],
      "metadata": {
        "id": "qO72y3kNW6X9"
      },
      "id": "qO72y3kNW6X9",
      "execution_count": null,
      "outputs": []
    },
    {
      "cell_type": "code",
      "source": [
        "pip install planetary-computer"
      ],
      "metadata": {
        "id": "_Uy9NNJ7XDYj"
      },
      "id": "_Uy9NNJ7XDYj",
      "execution_count": null,
      "outputs": []
    },
    {
      "cell_type": "code",
      "source": [
        "pip install odc-stac"
      ],
      "metadata": {
        "id": "nd16zVWfXI54"
      },
      "id": "nd16zVWfXI54",
      "execution_count": null,
      "outputs": []
    },
    {
      "cell_type": "code",
      "source": [
        "pip install odc-algo"
      ],
      "metadata": {
        "id": "ZoGzt2naXN0x"
      },
      "id": "ZoGzt2naXN0x",
      "execution_count": null,
      "outputs": []
    },
    {
      "cell_type": "markdown",
      "source": [
        "#### Load the necessary libraries"
      ],
      "metadata": {
        "id": "KnMJW1sXMt7Y"
      },
      "id": "KnMJW1sXMt7Y"
    },
    {
      "cell_type": "code",
      "execution_count": null,
      "id": "036e2e6d",
      "metadata": {
        "id": "036e2e6d"
      },
      "outputs": [],
      "source": [
        "# Supress Warnings \n",
        "import warnings\n",
        "warnings.filterwarnings('ignore')\n",
        "\n",
        "# Import common GIS tools\n",
        "import numpy as np\n",
        "import pandas as pd\n",
        "import xarray as xr\n",
        "import matplotlib.pyplot as plt\n",
        "import rasterio.features\n",
        "import rioxarray as rio\n",
        "import xrspatial.multispectral as ms\n",
        "\n",
        "# Import Planetary Computer tools\n",
        "import pystac_client\n",
        "import planetary_computer as pc\n",
        "pc.settings.set_subscription_key('99d0028b4d864147958f0b6b44663e5f')\n",
        "#import odc\n",
        "from odc.stac import stac_load\n",
        "from odc.algo import to_rgba\n",
        "from tqdm import tqdm\n",
        "\n",
        "# For finetuning ResNet-18\n",
        "import torch\n",
        "import torch.nn as nn\n",
        "import torch.optim as optim\n",
        "import torchvision\n",
        "from torchvision import models\n",
        "from torch.utils.data import DataLoader, TensorDataset\n",
        "\n",
        "device = torch.device(\"cuda:0\" if torch.cuda.is_available() else \"cpu\")\n",
        "\n",
        "import time"
      ]
    },
    {
      "cell_type": "markdown",
      "source": [
        "#### Get the data from drive "
      ],
      "metadata": {
        "id": "5NPbfLO2MMs7"
      },
      "id": "5NPbfLO2MMs7"
    },
    {
      "cell_type": "code",
      "source": [
        "from google.colab import drive\n",
        "drive.mount('...')"
      ],
      "metadata": {
        "id": "txmNrCgvXZLk"
      },
      "id": "txmNrCgvXZLk",
      "execution_count": null,
      "outputs": []
    },
    {
      "cell_type": "code",
      "execution_count": null,
      "id": "fb2bb9d9",
      "metadata": {
        "id": "fb2bb9d9"
      },
      "outputs": [],
      "source": [
        "crop_presence_data = pd.read_csv(\".../Crop_Location_Data_20221201.csv\")"
      ]
    },
    {
      "cell_type": "code",
      "execution_count": null,
      "id": "a57bd8cd",
      "metadata": {
        "id": "a57bd8cd"
      },
      "outputs": [],
      "source": [
        "crop_presence_data[\"Latitude\"] = crop_presence_data[\"Latitude and Longitude\"].apply(lambda x: float(x[1:-1].split(\",\")[0]))\n",
        "crop_presence_data[\"Longitude\"] = crop_presence_data[\"Latitude and Longitude\"].apply(lambda x: float(x[1:-1].split(\",\")[1]))"
      ]
    },
    {
      "cell_type": "code",
      "execution_count": null,
      "id": "7cc9bf5d",
      "metadata": {
        "id": "7cc9bf5d"
      },
      "outputs": [],
      "source": [
        "crop_presence_data[\"Class\"] = crop_presence_data[\"Class of Land\"].apply(lambda x: 1 if x == \"Rice\" else 0)"
      ]
    },
    {
      "cell_type": "code",
      "execution_count": null,
      "id": "3ef5784a",
      "metadata": {
        "colab": {
          "base_uri": "https://localhost:8080/",
          "height": 204
        },
        "id": "3ef5784a",
        "outputId": "eb05488d-9e9f-478a-e1b0-6f2ef960111d"
      },
      "outputs": [
        {
          "output_type": "execute_result",
          "data": {
            "text/plain": [
              "                     Latitude and Longitude Class of Land   Latitude  \\\n",
              "0   (10.323727047081501, 105.2516346045924)          Rice  10.323727   \n",
              "1  (10.322364360592521, 105.27843410554115)          Rice  10.322364   \n",
              "2  (10.321455902933202, 105.25254306225168)          Rice  10.321456   \n",
              "3  (10.324181275911162, 105.25118037576274)          Rice  10.324181   \n",
              "4  (10.324635504740822, 105.27389181724476)          Rice  10.324636   \n",
              "\n",
              "    Longitude  Class  \n",
              "0  105.251635      1  \n",
              "1  105.278434      1  \n",
              "2  105.252543      1  \n",
              "3  105.251180      1  \n",
              "4  105.273892      1  "
            ],
            "text/html": [
              "\n",
              "  <div id=\"df-b7c674b9-56fa-481f-a01c-4700d5a2573d\">\n",
              "    <div class=\"colab-df-container\">\n",
              "      <div>\n",
              "<style scoped>\n",
              "    .dataframe tbody tr th:only-of-type {\n",
              "        vertical-align: middle;\n",
              "    }\n",
              "\n",
              "    .dataframe tbody tr th {\n",
              "        vertical-align: top;\n",
              "    }\n",
              "\n",
              "    .dataframe thead th {\n",
              "        text-align: right;\n",
              "    }\n",
              "</style>\n",
              "<table border=\"1\" class=\"dataframe\">\n",
              "  <thead>\n",
              "    <tr style=\"text-align: right;\">\n",
              "      <th></th>\n",
              "      <th>Latitude and Longitude</th>\n",
              "      <th>Class of Land</th>\n",
              "      <th>Latitude</th>\n",
              "      <th>Longitude</th>\n",
              "      <th>Class</th>\n",
              "    </tr>\n",
              "  </thead>\n",
              "  <tbody>\n",
              "    <tr>\n",
              "      <th>0</th>\n",
              "      <td>(10.323727047081501, 105.2516346045924)</td>\n",
              "      <td>Rice</td>\n",
              "      <td>10.323727</td>\n",
              "      <td>105.251635</td>\n",
              "      <td>1</td>\n",
              "    </tr>\n",
              "    <tr>\n",
              "      <th>1</th>\n",
              "      <td>(10.322364360592521, 105.27843410554115)</td>\n",
              "      <td>Rice</td>\n",
              "      <td>10.322364</td>\n",
              "      <td>105.278434</td>\n",
              "      <td>1</td>\n",
              "    </tr>\n",
              "    <tr>\n",
              "      <th>2</th>\n",
              "      <td>(10.321455902933202, 105.25254306225168)</td>\n",
              "      <td>Rice</td>\n",
              "      <td>10.321456</td>\n",
              "      <td>105.252543</td>\n",
              "      <td>1</td>\n",
              "    </tr>\n",
              "    <tr>\n",
              "      <th>3</th>\n",
              "      <td>(10.324181275911162, 105.25118037576274)</td>\n",
              "      <td>Rice</td>\n",
              "      <td>10.324181</td>\n",
              "      <td>105.251180</td>\n",
              "      <td>1</td>\n",
              "    </tr>\n",
              "    <tr>\n",
              "      <th>4</th>\n",
              "      <td>(10.324635504740822, 105.27389181724476)</td>\n",
              "      <td>Rice</td>\n",
              "      <td>10.324636</td>\n",
              "      <td>105.273892</td>\n",
              "      <td>1</td>\n",
              "    </tr>\n",
              "  </tbody>\n",
              "</table>\n",
              "</div>\n",
              "      <button class=\"colab-df-convert\" onclick=\"convertToInteractive('df-b7c674b9-56fa-481f-a01c-4700d5a2573d')\"\n",
              "              title=\"Convert this dataframe to an interactive table.\"\n",
              "              style=\"display:none;\">\n",
              "        \n",
              "  <svg xmlns=\"http://www.w3.org/2000/svg\" height=\"24px\"viewBox=\"0 0 24 24\"\n",
              "       width=\"24px\">\n",
              "    <path d=\"M0 0h24v24H0V0z\" fill=\"none\"/>\n",
              "    <path d=\"M18.56 5.44l.94 2.06.94-2.06 2.06-.94-2.06-.94-.94-2.06-.94 2.06-2.06.94zm-11 1L8.5 8.5l.94-2.06 2.06-.94-2.06-.94L8.5 2.5l-.94 2.06-2.06.94zm10 10l.94 2.06.94-2.06 2.06-.94-2.06-.94-.94-2.06-.94 2.06-2.06.94z\"/><path d=\"M17.41 7.96l-1.37-1.37c-.4-.4-.92-.59-1.43-.59-.52 0-1.04.2-1.43.59L10.3 9.45l-7.72 7.72c-.78.78-.78 2.05 0 2.83L4 21.41c.39.39.9.59 1.41.59.51 0 1.02-.2 1.41-.59l7.78-7.78 2.81-2.81c.8-.78.8-2.07 0-2.86zM5.41 20L4 18.59l7.72-7.72 1.47 1.35L5.41 20z\"/>\n",
              "  </svg>\n",
              "      </button>\n",
              "      \n",
              "  <style>\n",
              "    .colab-df-container {\n",
              "      display:flex;\n",
              "      flex-wrap:wrap;\n",
              "      gap: 12px;\n",
              "    }\n",
              "\n",
              "    .colab-df-convert {\n",
              "      background-color: #E8F0FE;\n",
              "      border: none;\n",
              "      border-radius: 50%;\n",
              "      cursor: pointer;\n",
              "      display: none;\n",
              "      fill: #1967D2;\n",
              "      height: 32px;\n",
              "      padding: 0 0 0 0;\n",
              "      width: 32px;\n",
              "    }\n",
              "\n",
              "    .colab-df-convert:hover {\n",
              "      background-color: #E2EBFA;\n",
              "      box-shadow: 0px 1px 2px rgba(60, 64, 67, 0.3), 0px 1px 3px 1px rgba(60, 64, 67, 0.15);\n",
              "      fill: #174EA6;\n",
              "    }\n",
              "\n",
              "    [theme=dark] .colab-df-convert {\n",
              "      background-color: #3B4455;\n",
              "      fill: #D2E3FC;\n",
              "    }\n",
              "\n",
              "    [theme=dark] .colab-df-convert:hover {\n",
              "      background-color: #434B5C;\n",
              "      box-shadow: 0px 1px 3px 1px rgba(0, 0, 0, 0.15);\n",
              "      filter: drop-shadow(0px 1px 2px rgba(0, 0, 0, 0.3));\n",
              "      fill: #FFFFFF;\n",
              "    }\n",
              "  </style>\n",
              "\n",
              "      <script>\n",
              "        const buttonEl =\n",
              "          document.querySelector('#df-b7c674b9-56fa-481f-a01c-4700d5a2573d button.colab-df-convert');\n",
              "        buttonEl.style.display =\n",
              "          google.colab.kernel.accessAllowed ? 'block' : 'none';\n",
              "\n",
              "        async function convertToInteractive(key) {\n",
              "          const element = document.querySelector('#df-b7c674b9-56fa-481f-a01c-4700d5a2573d');\n",
              "          const dataTable =\n",
              "            await google.colab.kernel.invokeFunction('convertToInteractive',\n",
              "                                                     [key], {});\n",
              "          if (!dataTable) return;\n",
              "\n",
              "          const docLinkHtml = 'Like what you see? Visit the ' +\n",
              "            '<a target=\"_blank\" href=https://colab.research.google.com/notebooks/data_table.ipynb>data table notebook</a>'\n",
              "            + ' to learn more about interactive tables.';\n",
              "          element.innerHTML = '';\n",
              "          dataTable['output_type'] = 'display_data';\n",
              "          await google.colab.output.renderOutput(dataTable, element);\n",
              "          const docLink = document.createElement('div');\n",
              "          docLink.innerHTML = docLinkHtml;\n",
              "          element.appendChild(docLink);\n",
              "        }\n",
              "      </script>\n",
              "    </div>\n",
              "  </div>\n",
              "  "
            ]
          },
          "metadata": {},
          "execution_count": 13
        }
      ],
      "source": [
        "crop_presence_data.head()"
      ]
    },
    {
      "cell_type": "markdown",
      "source": [
        "#### Get satellite data based on latitude and longitude"
      ],
      "metadata": {
        "id": "riKF2nIyMZas"
      },
      "id": "riKF2nIyMZas"
    },
    {
      "cell_type": "code",
      "execution_count": null,
      "id": "9f85fba9",
      "metadata": {
        "id": "9f85fba9"
      },
      "outputs": [],
      "source": [
        "box_size_deg = 0.10\n",
        "resolution = 20  # meters per pixel \n",
        "scale = resolution / 111320.0 # degrees per pixel for CRS:4326 \n",
        "stac = pystac_client.Client.open(\"https://planetarycomputer.microsoft.com/api/stac/v1\")"
      ]
    },
    {
      "cell_type": "code",
      "execution_count": null,
      "id": "0cea0566",
      "metadata": {
        "id": "0cea0566"
      },
      "outputs": [],
      "source": [
        "def get_data_latlong(lat, long, time_window = \"2020-03-20/2020-03-21\"):\n",
        "    min_lon = long-box_size_deg/2\n",
        "    min_lat = lat-box_size_deg/2\n",
        "    max_lon = long+box_size_deg/2\n",
        "    max_lat = lat+box_size_deg/2\n",
        "    bounds = (min_lon, min_lat, max_lon, max_lat)\n",
        "    search = stac.search(collections=[\"sentinel-2-l2a\"], bbox=bounds, datetime=time_window)\n",
        "    items = list(search.get_all_items())\n",
        "    xx = stac_load(\n",
        "        items,\n",
        "        bands=[\"red\", \"green\", \"blue\", \"nir\", \"SCL\"],\n",
        "        crs=\"EPSG:4326\", # Latitude-Longitude\n",
        "        resolution=scale, # Degrees\n",
        "        chunks={\"x\": 2048, \"y\": 2048},\n",
        "        dtype=\"uint16\",\n",
        "        patch_url=pc.sign,\n",
        "        bbox=bounds\n",
        "    )\n",
        "    return xx"
      ]
    },
    {
      "cell_type": "code",
      "execution_count": null,
      "id": "0d72f613",
      "metadata": {
        "id": "0d72f613"
      },
      "outputs": [],
      "source": [
        "lat_arr = crop_presence_data[\"Latitude\"]\n",
        "long_arr = crop_presence_data[\"Longitude\"]"
      ]
    },
    {
      "cell_type": "code",
      "execution_count": null,
      "id": "202b3274",
      "metadata": {
        "scrolled": true,
        "colab": {
          "base_uri": "https://localhost:8080/"
        },
        "id": "202b3274",
        "outputId": "5b1ed863-89f6-4257-ca2c-9c6f88d2e344"
      },
      "outputs": [
        {
          "output_type": "stream",
          "name": "stderr",
          "text": [
            "Running: 100%|██████████| 600/600 [02:47<00:00,  3.58it/s]\n"
          ]
        }
      ],
      "source": [
        "xx_lst_1 = [0]*len(crop_presence_data)\n",
        "stac = pystac_client.Client.open(\"https://planetarycomputer.microsoft.com/api/stac/v1\")\n",
        "for inx in tqdm(range(len(crop_presence_data)), desc = \"Running\"):\n",
        "    xx = get_data_latlong(lat_arr[inx], long_arr[inx])\n",
        "    xx_lst_1[inx] = xx"
      ]
    },
    {
      "cell_type": "markdown",
      "source": [
        "Need to divide 600 location to 3 batchs in order to make the code works"
      ],
      "metadata": {
        "id": "b2SBKs29NWNb"
      },
      "id": "b2SBKs29NWNb"
    },
    {
      "cell_type": "code",
      "execution_count": null,
      "id": "3649519a",
      "metadata": {
        "colab": {
          "base_uri": "https://localhost:8080/"
        },
        "id": "3649519a",
        "outputId": "ae34ab58-f201-4e14-b48c-baa8ac7dc07d"
      },
      "outputs": [
        {
          "output_type": "stream",
          "name": "stderr",
          "text": [
            "Running: 100%|██████████| 200/200 [02:51<00:00,  1.17it/s]\n"
          ]
        }
      ],
      "source": [
        "xx_lst_np_11 = [0] * 200\n",
        "for inx in tqdm(range(200), desc = \"Running\"):\n",
        "    temp = xx_lst_1[inx].isel(time=0)[[\"red\", \"green\", \"blue\"]].to_array()\n",
        "    xx_lst_np_11[inx] = temp.data.compute() # output: xarray.dataArray"
      ]
    },
    {
      "cell_type": "code",
      "execution_count": null,
      "id": "b7235990",
      "metadata": {
        "id": "b7235990",
        "colab": {
          "base_uri": "https://localhost:8080/"
        },
        "outputId": "22d1f09a-b641-45cd-b234-92b06d2847bd"
      },
      "outputs": [
        {
          "output_type": "stream",
          "name": "stderr",
          "text": [
            "Running: 100%|██████████| 200/200 [03:01<00:00,  1.10it/s]\n"
          ]
        }
      ],
      "source": [
        "xx_lst_np_12 = [0] * 200\n",
        "for inx in tqdm(range(200), desc = \"Running\"):\n",
        "    temp = xx_lst_1[inx].isel(time=0)[[\"red\", \"green\", \"blue\"]].to_array()\n",
        "    xx_lst_np_12[inx] = temp.data.compute()"
      ]
    },
    {
      "cell_type": "code",
      "execution_count": null,
      "id": "2f8e34b7",
      "metadata": {
        "id": "2f8e34b7",
        "colab": {
          "base_uri": "https://localhost:8080/"
        },
        "outputId": "15a15679-f9f7-4a36-f970-7acb9dc91922"
      },
      "outputs": [
        {
          "output_type": "stream",
          "name": "stderr",
          "text": [
            "Running: 100%|██████████| 200/200 [04:18<00:00,  1.29s/it]\n"
          ]
        }
      ],
      "source": [
        "xx_lst_np_13 = [0] * 200\n",
        "for inx in tqdm(range(200), desc = \"Running\"):\n",
        "    temp = xx_lst_1[400+inx].isel(time=0)[[\"red\", \"green\", \"blue\"]].to_array()\n",
        "    xx_lst_np_13[inx] = temp.data.compute()"
      ]
    },
    {
      "cell_type": "code",
      "source": [
        "# Convert this to this size before using on any model \n",
        "for inx in range(200):\n",
        "    xx_lst_np_11[inx] = np.resize(xx_lst_np_11[inx], (3, 557, 557))\n",
        "    xx_lst_np_12[inx] = np.resize(xx_lst_np_12[inx], (3, 557, 557))\n",
        "    xx_lst_np_13[inx] = np.resize(xx_lst_np_13[inx], (3, 557, 557))"
      ],
      "metadata": {
        "id": "IKVGmSzzV9E0"
      },
      "id": "IKVGmSzzV9E0",
      "execution_count": null,
      "outputs": []
    },
    {
      "cell_type": "markdown",
      "source": [
        "#### Training and Testing using Resnet-18"
      ],
      "metadata": {
        "id": "PJ2iBA2CJUSu"
      },
      "id": "PJ2iBA2CJUSu"
    },
    {
      "cell_type": "markdown",
      "source": [
        "Concat and transform the data to right format"
      ],
      "metadata": {
        "id": "AULeUgMNNvWy"
      },
      "id": "AULeUgMNNvWy"
    },
    {
      "cell_type": "code",
      "source": [
        "data = xx_lst_np_11 + xx_lst_np_12 + xx_lst_np_13"
      ],
      "metadata": {
        "id": "xzfI-sPpJXye"
      },
      "id": "xzfI-sPpJXye",
      "execution_count": null,
      "outputs": []
    },
    {
      "cell_type": "code",
      "source": [
        "transformations = torchvision.transforms.Compose([\n",
        "    torchvision.transforms.ToPILImage(),\n",
        "    torchvision.transforms.Resize(256),\n",
        "    torchvision.transforms.CenterCrop(224),\n",
        "    torchvision.transforms.ToTensor(),\n",
        "    torchvision.transforms.Normalize(mean=[0.485, 0.456, 0.406], std=[0.229, 0.224, 0.225])\n",
        "])"
      ],
      "metadata": {
        "id": "5p0OukdsLr8E"
      },
      "id": "5p0OukdsLr8E",
      "execution_count": null,
      "outputs": []
    },
    {
      "cell_type": "code",
      "source": [
        "for i in range(600):\n",
        "  data[i] = transformations(data[i].reshape(557,557,3).astype('uint8'))"
      ],
      "metadata": {
        "id": "derWlsheLu0b"
      },
      "id": "derWlsheLu0b",
      "execution_count": null,
      "outputs": []
    },
    {
      "cell_type": "code",
      "source": [
        "import random\n",
        "# get sample index in order to divide into train and test set\n",
        "num_index = 600\n",
        "random_sample_80 = random.sample(range(num_index), int(num_index * 0.8))\n",
        "train_arr = []\n",
        "test_arr = []\n",
        "train_label = []\n",
        "test_label = []\n",
        "for i in range(num_index):\n",
        "  if i in random_sample_80:\n",
        "    train_arr.append(data[i])\n",
        "    train_label.append(crop_presence_data[\"Class\"].iloc[i])\n",
        "  else:\n",
        "    test_arr.append(data[i])\n",
        "    test_label.append(crop_presence_data[\"Class\"].iloc[i])"
      ],
      "metadata": {
        "id": "9lqTy4W1MdEr"
      },
      "id": "9lqTy4W1MdEr",
      "execution_count": null,
      "outputs": []
    },
    {
      "cell_type": "markdown",
      "source": [
        "Create the train and testing data + label, then make it into a training and testing dataset, then convert it to dataloader as it will be divided into many batches."
      ],
      "metadata": {
        "id": "4FC7pKK0N5FN"
      },
      "id": "4FC7pKK0N5FN"
    },
    {
      "cell_type": "code",
      "source": [
        "train_arr = torch.stack(train_arr)\n",
        "test_arr = torch.stack(test_arr)"
      ],
      "metadata": {
        "id": "58ADqK-GNweD"
      },
      "id": "58ADqK-GNweD",
      "execution_count": null,
      "outputs": []
    },
    {
      "cell_type": "code",
      "source": [
        "train_label = torch.tensor(np.array(train_label))\n",
        "test_label = torch.tensor(np.array(test_label))"
      ],
      "metadata": {
        "id": "VP21aHg1N6Vz"
      },
      "id": "VP21aHg1N6Vz",
      "execution_count": null,
      "outputs": []
    },
    {
      "cell_type": "code",
      "source": [
        "train_arr = torch.FloatTensor(train_arr)\n",
        "train_label = torch.LongTensor(train_label)\n",
        "test_arr = torch.FloatTensor(test_arr)\n",
        "test_label = torch.LongTensor(test_label)"
      ],
      "metadata": {
        "id": "KcXJxMqQOGzf"
      },
      "id": "KcXJxMqQOGzf",
      "execution_count": null,
      "outputs": []
    },
    {
      "cell_type": "code",
      "source": [
        "train_dataset = TensorDataset(train_arr, train_label)\n",
        "test_dataset = TensorDataset(test_arr, test_label)"
      ],
      "metadata": {
        "id": "a_GZ1NOgOOdT"
      },
      "id": "a_GZ1NOgOOdT",
      "execution_count": null,
      "outputs": []
    },
    {
      "cell_type": "code",
      "source": [
        "train_dataloader = torch.utils.data.DataLoader(train_dataset, batch_size=20, shuffle=True, num_workers=8)\n",
        "test_dataloader = torch.utils.data.DataLoader(test_dataset, batch_size=20, shuffle=False, num_workers=8)"
      ],
      "metadata": {
        "id": "l4pG4tPBOZ87"
      },
      "id": "l4pG4tPBOZ87",
      "execution_count": null,
      "outputs": []
    },
    {
      "cell_type": "markdown",
      "source": [
        "Load the model and train the model"
      ],
      "metadata": {
        "id": "AeSpgmTNOFZS"
      },
      "id": "AeSpgmTNOFZS"
    },
    {
      "cell_type": "code",
      "source": [
        "model = models.resnet18(pretrained=True)   #load resnet18 model\n",
        "num_features = model.fc.in_features     #extract fc layers features\n",
        "model.fc = nn.Linear(num_features, 2) #(num_of_class == 2)\n",
        "model = model.to(device) \n",
        "criterion = nn.CrossEntropyLoss()  #(set loss function)\n",
        "optimizer = optim.SGD(model.parameters(), lr=0.001, momentum=0.9)"
      ],
      "metadata": {
        "id": "QDCBxULlMBe6"
      },
      "id": "QDCBxULlMBe6",
      "execution_count": null,
      "outputs": []
    },
    {
      "cell_type": "code",
      "source": [
        "num_epochs = 60   #(set no of epochs)\n",
        "start_time = time.time() #(for showing time)\n",
        "for epoch in range(num_epochs): #(loop for every epoch)\n",
        "    print(\"Epoch {} running\".format(epoch)) #(printing message)\n",
        "    \"\"\" Training Phase \"\"\"\n",
        "    model.train()    #(training model)\n",
        "    running_loss = 0.   #(set loss 0)\n",
        "    running_corrects = 0 \n",
        "    # load a batch data of images\n",
        "    for i, (inputs, labels) in enumerate(train_dataloader):\n",
        "        inputs = inputs.to(device)\n",
        "        labels = labels.to(device) \n",
        "        # forward inputs and get output\n",
        "        optimizer.zero_grad()\n",
        "        outputs = model(inputs)\n",
        "        _, preds = torch.max(outputs, 1)\n",
        "        loss = criterion(outputs, labels)\n",
        "        # get loss value and update the network weights\n",
        "        loss.backward()\n",
        "        optimizer.step()\n",
        "        running_loss += loss.item() * inputs.size(0)\n",
        "        running_corrects += torch.sum(preds == labels.data)\n",
        "    epoch_loss = running_loss / len(train_dataset)\n",
        "    epoch_acc = running_corrects / len(train_dataset) * 100.\n",
        "    print('[Train #{}] Loss: {:.4f} Acc: {:.4f}% Time: {:.4f}s'.format(epoch, epoch_loss, epoch_acc, time.time() -start_time))\n",
        "    \n",
        "    \"\"\" Testing Phase \"\"\"\n",
        "    model.eval()\n",
        "    with torch.no_grad():\n",
        "        running_loss = 0.\n",
        "        running_corrects = 0\n",
        "        for inputs, labels in test_dataloader:\n",
        "            inputs = inputs.to(device)\n",
        "            labels = labels.to(device)\n",
        "            outputs = model(inputs)\n",
        "            _, preds = torch.max(outputs, 1)\n",
        "            loss = criterion(outputs, labels)\n",
        "            running_loss += loss.item() * inputs.size(0)\n",
        "            running_corrects += torch.sum(preds == labels.data)\n",
        "        epoch_loss = running_loss / len(test_dataset)\n",
        "        epoch_acc = running_corrects / len(test_dataset) * 100.\n",
        "        print('[Test #{}] Loss: {:.4f} Acc: {:.4f}% Time: {:.4f}s'.format(epoch, epoch_loss, epoch_acc, time.time()- start_time))"
      ],
      "metadata": {
        "id": "plh3hklwPCJZ"
      },
      "id": "plh3hklwPCJZ",
      "execution_count": null,
      "outputs": []
    },
    {
      "cell_type": "markdown",
      "source": [
        "Save the model as a pth file to use it later"
      ],
      "metadata": {
        "id": "lMQR7QPeONKq"
      },
      "id": "lMQR7QPeONKq"
    },
    {
      "cell_type": "code",
      "source": [
        "save_path = '.../resnet18-eychallenge.pth'\n",
        "torch.save(model.state_dict(), save_path)"
      ],
      "metadata": {
        "id": "lgXEjmzbQ1oL"
      },
      "id": "lgXEjmzbQ1oL",
      "execution_count": null,
      "outputs": []
    },
    {
      "cell_type": "markdown",
      "source": [
        "Testing process of the model"
      ],
      "metadata": {
        "id": "CmFEvjXmOV6z"
      },
      "id": "CmFEvjXmOV6z"
    },
    {
      "cell_type": "code",
      "source": [
        "model = models.resnet18(pretrained=True)   #load resnet18 model\n",
        "num_features = model.fc.in_features #extract fc layers features\n",
        "model.fc = nn.Linear(num_features, 2)#(num_of_class == 2)\n",
        "model.load_state_dict(torch.load('.../resnet18-eychallenge.pth'))\n",
        "model.to(device)"
      ],
      "metadata": {
        "id": "mPRe9HD-zmVZ"
      },
      "id": "mPRe9HD-zmVZ",
      "execution_count": null,
      "outputs": []
    },
    {
      "cell_type": "code",
      "source": [
        "model.eval()\n",
        "start_time = time.time()\n",
        "criterion = nn.CrossEntropyLoss()\n",
        "optimizer = optim.SGD(model.parameters(), lr=0.001, momentum=0.9)\n",
        "with torch.no_grad():\n",
        "    running_loss = 0.\n",
        "    running_corrects = 0\n",
        "    for i, (inputs, labels) in enumerate(test_dataloader):\n",
        "        inputs = inputs.to(device)\n",
        "        labels = labels.to(device)\n",
        "        outputs = model(inputs)\n",
        "        _, preds = torch.max(outputs, 1)\n",
        "        loss = criterion(outputs, labels)\n",
        "        running_loss += loss.item() * inputs.size(0)\n",
        "        running_corrects += torch.sum(preds == labels.data)\n",
        "    epoch_loss = running_loss / len(test_dataset)\n",
        "    epoch_acc = running_corrects / len(test_dataset) * 100.\n",
        "    print('[Test #{}] Loss: {:.4f} Acc: {:.4f}% Time: {:.4f}s'.\n",
        "          format(epoch, epoch_loss, epoch_acc, time.time() - start_time))"
      ],
      "metadata": {
        "colab": {
          "base_uri": "https://localhost:8080/"
        },
        "id": "AEpPNchxzynL",
        "outputId": "e96f9194-4c60-4e39-8a41-25fc82088dab"
      },
      "id": "AEpPNchxzynL",
      "execution_count": null,
      "outputs": [
        {
          "output_type": "stream",
          "name": "stdout",
          "text": [
            "[Test #59] Loss: 1.0771 Acc: 69.1667% Time: 2.1985s\n"
          ]
        }
      ]
    },
    {
      "cell_type": "markdown",
      "source": [
        "#### Training and Testing using Decision Tree and Logistic Regression"
      ],
      "metadata": {
        "id": "Z50JNQlfJPq5"
      },
      "id": "Z50JNQlfJPq5"
    },
    {
      "cell_type": "code",
      "execution_count": null,
      "id": "c76fc688",
      "metadata": {
        "id": "c76fc688"
      },
      "outputs": [],
      "source": [
        "# Now convert to 1D array to use\n",
        "for inx in range(200):\n",
        "    xx_lst_np_11[inx] = xx_lst_np_11[inx].reshape(3*557*557)\n",
        "    xx_lst_np_12[inx] = xx_lst_np_12[inx].reshape(3*557*557)\n",
        "    xx_lst_np_13[inx] = xx_lst_np_13[inx].reshape(3*557*557)"
      ]
    },
    {
      "cell_type": "code",
      "execution_count": null,
      "id": "c3940f04",
      "metadata": {
        "id": "c3940f04"
      },
      "outputs": [],
      "source": [
        "x = np.concatenate([np.array(xx_lst_np_11), np.array(xx_lst_np_12), np.array(xx_lst_np_13)], axis = 0)\n",
        "# np.array(xx_lst_np_21), np.array(xx_lst_np_22), np.array(xx_lst_np_23)\n",
        "# we now have 2D array"
      ]
    },
    {
      "cell_type": "code",
      "source": [
        "from sklearn.preprocessing import MinMaxScaler\n",
        "\n",
        "Scaler = MinMaxScaler()\n",
        "x = Scaler.fit_transform(x)"
      ],
      "metadata": {
        "id": "H6eMRnRVM3s9"
      },
      "id": "H6eMRnRVM3s9",
      "execution_count": null,
      "outputs": []
    },
    {
      "cell_type": "code",
      "execution_count": null,
      "id": "d8ec0c01",
      "metadata": {
        "id": "d8ec0c01"
      },
      "outputs": [],
      "source": [
        "y = np.concatenate([np.array(crop_presence_data[\"Class\"])])"
      ]
    },
    {
      "cell_type": "code",
      "execution_count": null,
      "id": "dbedcc06",
      "metadata": {
        "id": "dbedcc06"
      },
      "outputs": [],
      "source": [
        "from sklearn.model_selection import train_test_split\n",
        "\n",
        "x_train, x_test, y_train, y_test = train_test_split(x, y, test_size = 0.3, random_state = 101)"
      ]
    },
    {
      "cell_type": "code",
      "source": [
        "from sklearn.linear_model import LogisticRegression"
      ],
      "metadata": {
        "id": "xyz7fOSkMsNI"
      },
      "id": "xyz7fOSkMsNI",
      "execution_count": null,
      "outputs": []
    },
    {
      "cell_type": "code",
      "source": [
        "LR = LogisticRegression()"
      ],
      "metadata": {
        "id": "0iB5DlJqNFd5"
      },
      "id": "0iB5DlJqNFd5",
      "execution_count": null,
      "outputs": []
    },
    {
      "cell_type": "code",
      "source": [
        "LR.fit(x_train, y_train)"
      ],
      "metadata": {
        "id": "LhUhmXtHPQ30"
      },
      "id": "LhUhmXtHPQ30",
      "execution_count": null,
      "outputs": []
    },
    {
      "cell_type": "code",
      "source": [
        "pred_LR = LR.predict(x_test)"
      ],
      "metadata": {
        "id": "ed0q1YiSOmNR"
      },
      "id": "ed0q1YiSOmNR",
      "execution_count": null,
      "outputs": []
    },
    {
      "cell_type": "code",
      "execution_count": null,
      "id": "b866624c",
      "metadata": {
        "id": "b866624c"
      },
      "outputs": [],
      "source": [
        "from sklearn.metrics import classification_report"
      ]
    },
    {
      "cell_type": "code",
      "source": [
        "print(classification_report(y_test, pred_LR))"
      ],
      "metadata": {
        "id": "0huecoQSOhdH"
      },
      "id": "0huecoQSOhdH",
      "execution_count": null,
      "outputs": []
    },
    {
      "cell_type": "code",
      "execution_count": null,
      "id": "18a9a869",
      "metadata": {
        "id": "18a9a869"
      },
      "outputs": [],
      "source": [
        "from sklearn.tree import DecisionTreeClassifier\n",
        "\n",
        "clf = DecisionTreeClassifier()"
      ]
    },
    {
      "cell_type": "code",
      "execution_count": null,
      "id": "6af12e87",
      "metadata": {
        "colab": {
          "base_uri": "https://localhost:8080/",
          "height": 74
        },
        "id": "6af12e87",
        "outputId": "97dab6c9-1b62-49c7-d315-5d27cf6dd011"
      },
      "outputs": [
        {
          "output_type": "execute_result",
          "data": {
            "text/plain": [
              "DecisionTreeClassifier()"
            ],
            "text/html": [
              "<style>#sk-container-id-1 {color: black;background-color: white;}#sk-container-id-1 pre{padding: 0;}#sk-container-id-1 div.sk-toggleable {background-color: white;}#sk-container-id-1 label.sk-toggleable__label {cursor: pointer;display: block;width: 100%;margin-bottom: 0;padding: 0.3em;box-sizing: border-box;text-align: center;}#sk-container-id-1 label.sk-toggleable__label-arrow:before {content: \"▸\";float: left;margin-right: 0.25em;color: #696969;}#sk-container-id-1 label.sk-toggleable__label-arrow:hover:before {color: black;}#sk-container-id-1 div.sk-estimator:hover label.sk-toggleable__label-arrow:before {color: black;}#sk-container-id-1 div.sk-toggleable__content {max-height: 0;max-width: 0;overflow: hidden;text-align: left;background-color: #f0f8ff;}#sk-container-id-1 div.sk-toggleable__content pre {margin: 0.2em;color: black;border-radius: 0.25em;background-color: #f0f8ff;}#sk-container-id-1 input.sk-toggleable__control:checked~div.sk-toggleable__content {max-height: 200px;max-width: 100%;overflow: auto;}#sk-container-id-1 input.sk-toggleable__control:checked~label.sk-toggleable__label-arrow:before {content: \"▾\";}#sk-container-id-1 div.sk-estimator input.sk-toggleable__control:checked~label.sk-toggleable__label {background-color: #d4ebff;}#sk-container-id-1 div.sk-label input.sk-toggleable__control:checked~label.sk-toggleable__label {background-color: #d4ebff;}#sk-container-id-1 input.sk-hidden--visually {border: 0;clip: rect(1px 1px 1px 1px);clip: rect(1px, 1px, 1px, 1px);height: 1px;margin: -1px;overflow: hidden;padding: 0;position: absolute;width: 1px;}#sk-container-id-1 div.sk-estimator {font-family: monospace;background-color: #f0f8ff;border: 1px dotted black;border-radius: 0.25em;box-sizing: border-box;margin-bottom: 0.5em;}#sk-container-id-1 div.sk-estimator:hover {background-color: #d4ebff;}#sk-container-id-1 div.sk-parallel-item::after {content: \"\";width: 100%;border-bottom: 1px solid gray;flex-grow: 1;}#sk-container-id-1 div.sk-label:hover label.sk-toggleable__label {background-color: #d4ebff;}#sk-container-id-1 div.sk-serial::before {content: \"\";position: absolute;border-left: 1px solid gray;box-sizing: border-box;top: 0;bottom: 0;left: 50%;z-index: 0;}#sk-container-id-1 div.sk-serial {display: flex;flex-direction: column;align-items: center;background-color: white;padding-right: 0.2em;padding-left: 0.2em;position: relative;}#sk-container-id-1 div.sk-item {position: relative;z-index: 1;}#sk-container-id-1 div.sk-parallel {display: flex;align-items: stretch;justify-content: center;background-color: white;position: relative;}#sk-container-id-1 div.sk-item::before, #sk-container-id-1 div.sk-parallel-item::before {content: \"\";position: absolute;border-left: 1px solid gray;box-sizing: border-box;top: 0;bottom: 0;left: 50%;z-index: -1;}#sk-container-id-1 div.sk-parallel-item {display: flex;flex-direction: column;z-index: 1;position: relative;background-color: white;}#sk-container-id-1 div.sk-parallel-item:first-child::after {align-self: flex-end;width: 50%;}#sk-container-id-1 div.sk-parallel-item:last-child::after {align-self: flex-start;width: 50%;}#sk-container-id-1 div.sk-parallel-item:only-child::after {width: 0;}#sk-container-id-1 div.sk-dashed-wrapped {border: 1px dashed gray;margin: 0 0.4em 0.5em 0.4em;box-sizing: border-box;padding-bottom: 0.4em;background-color: white;}#sk-container-id-1 div.sk-label label {font-family: monospace;font-weight: bold;display: inline-block;line-height: 1.2em;}#sk-container-id-1 div.sk-label-container {text-align: center;}#sk-container-id-1 div.sk-container {/* jupyter's `normalize.less` sets `[hidden] { display: none; }` but bootstrap.min.css set `[hidden] { display: none !important; }` so we also need the `!important` here to be able to override the default hidden behavior on the sphinx rendered scikit-learn.org. See: https://github.com/scikit-learn/scikit-learn/issues/21755 */display: inline-block !important;position: relative;}#sk-container-id-1 div.sk-text-repr-fallback {display: none;}</style><div id=\"sk-container-id-1\" class=\"sk-top-container\"><div class=\"sk-text-repr-fallback\"><pre>DecisionTreeClassifier()</pre><b>In a Jupyter environment, please rerun this cell to show the HTML representation or trust the notebook. <br />On GitHub, the HTML representation is unable to render, please try loading this page with nbviewer.org.</b></div><div class=\"sk-container\" hidden><div class=\"sk-item\"><div class=\"sk-estimator sk-toggleable\"><input class=\"sk-toggleable__control sk-hidden--visually\" id=\"sk-estimator-id-1\" type=\"checkbox\" checked><label for=\"sk-estimator-id-1\" class=\"sk-toggleable__label sk-toggleable__label-arrow\">DecisionTreeClassifier</label><div class=\"sk-toggleable__content\"><pre>DecisionTreeClassifier()</pre></div></div></div></div></div>"
            ]
          },
          "metadata": {},
          "execution_count": 43
        }
      ],
      "source": [
        "clf.fit(x_train, y_train)"
      ]
    },
    {
      "cell_type": "code",
      "execution_count": null,
      "id": "327dbfaa",
      "metadata": {
        "id": "327dbfaa"
      },
      "outputs": [],
      "source": [
        "pred_clf = clf.predict(x_test)"
      ]
    },
    {
      "cell_type": "code",
      "execution_count": null,
      "id": "d7c2d9f4",
      "metadata": {
        "colab": {
          "base_uri": "https://localhost:8080/"
        },
        "id": "d7c2d9f4",
        "outputId": "ef4149ec-7022-4b03-8078-79dfa278915b"
      },
      "outputs": [
        {
          "output_type": "stream",
          "name": "stdout",
          "text": [
            "              precision    recall  f1-score   support\n",
            "\n",
            "           0       0.64      0.78      0.70       166\n",
            "           1       0.77      0.62      0.69       194\n",
            "\n",
            "    accuracy                           0.69       360\n",
            "   macro avg       0.70      0.70      0.69       360\n",
            "weighted avg       0.71      0.69      0.69       360\n",
            "\n"
          ]
        }
      ],
      "source": [
        "print(classification_report(y_test, pred_clf))"
      ]
    },
    {
      "cell_type": "markdown",
      "source": [
        "#### Make prediction on challenge's data"
      ],
      "metadata": {
        "id": "Kdli8jHfOrK0"
      },
      "id": "Kdli8jHfOrK0"
    },
    {
      "cell_type": "markdown",
      "source": [
        "Load the challenge's test data"
      ],
      "metadata": {
        "id": "YBIQS_fVO0Na"
      },
      "id": "YBIQS_fVO0Na"
    },
    {
      "cell_type": "code",
      "execution_count": null,
      "id": "ec00d5d3",
      "metadata": {
        "id": "ec00d5d3"
      },
      "outputs": [],
      "source": [
        "test_data = pd.read_csv(\".../challenge_1_submission_template_correct_columns_fixed.csv\")"
      ]
    },
    {
      "cell_type": "code",
      "execution_count": null,
      "id": "8f853a51",
      "metadata": {
        "colab": {
          "base_uri": "https://localhost:8080/",
          "height": 204
        },
        "id": "8f853a51",
        "outputId": "b8e712e5-938a-4a4e-f932-3467c3432ad4"
      },
      "outputs": [
        {
          "output_type": "execute_result",
          "data": {
            "text/plain": [
              "                                         id  target\n",
              "0   (10.18019073690894, 105.32022315786804)     NaN\n",
              "1  (10.561107033461816, 105.12772097986661)     NaN\n",
              "2  (10.623790611954897, 105.13771401411867)     NaN\n",
              "3  (10.583364246115156, 105.23946127195805)     NaN\n",
              "4   (10.20744446668854, 105.26844107128906)     NaN"
            ],
            "text/html": [
              "\n",
              "  <div id=\"df-6ae5725f-a372-4247-af26-afd2eb261603\">\n",
              "    <div class=\"colab-df-container\">\n",
              "      <div>\n",
              "<style scoped>\n",
              "    .dataframe tbody tr th:only-of-type {\n",
              "        vertical-align: middle;\n",
              "    }\n",
              "\n",
              "    .dataframe tbody tr th {\n",
              "        vertical-align: top;\n",
              "    }\n",
              "\n",
              "    .dataframe thead th {\n",
              "        text-align: right;\n",
              "    }\n",
              "</style>\n",
              "<table border=\"1\" class=\"dataframe\">\n",
              "  <thead>\n",
              "    <tr style=\"text-align: right;\">\n",
              "      <th></th>\n",
              "      <th>id</th>\n",
              "      <th>target</th>\n",
              "    </tr>\n",
              "  </thead>\n",
              "  <tbody>\n",
              "    <tr>\n",
              "      <th>0</th>\n",
              "      <td>(10.18019073690894, 105.32022315786804)</td>\n",
              "      <td>NaN</td>\n",
              "    </tr>\n",
              "    <tr>\n",
              "      <th>1</th>\n",
              "      <td>(10.561107033461816, 105.12772097986661)</td>\n",
              "      <td>NaN</td>\n",
              "    </tr>\n",
              "    <tr>\n",
              "      <th>2</th>\n",
              "      <td>(10.623790611954897, 105.13771401411867)</td>\n",
              "      <td>NaN</td>\n",
              "    </tr>\n",
              "    <tr>\n",
              "      <th>3</th>\n",
              "      <td>(10.583364246115156, 105.23946127195805)</td>\n",
              "      <td>NaN</td>\n",
              "    </tr>\n",
              "    <tr>\n",
              "      <th>4</th>\n",
              "      <td>(10.20744446668854, 105.26844107128906)</td>\n",
              "      <td>NaN</td>\n",
              "    </tr>\n",
              "  </tbody>\n",
              "</table>\n",
              "</div>\n",
              "      <button class=\"colab-df-convert\" onclick=\"convertToInteractive('df-6ae5725f-a372-4247-af26-afd2eb261603')\"\n",
              "              title=\"Convert this dataframe to an interactive table.\"\n",
              "              style=\"display:none;\">\n",
              "        \n",
              "  <svg xmlns=\"http://www.w3.org/2000/svg\" height=\"24px\"viewBox=\"0 0 24 24\"\n",
              "       width=\"24px\">\n",
              "    <path d=\"M0 0h24v24H0V0z\" fill=\"none\"/>\n",
              "    <path d=\"M18.56 5.44l.94 2.06.94-2.06 2.06-.94-2.06-.94-.94-2.06-.94 2.06-2.06.94zm-11 1L8.5 8.5l.94-2.06 2.06-.94-2.06-.94L8.5 2.5l-.94 2.06-2.06.94zm10 10l.94 2.06.94-2.06 2.06-.94-2.06-.94-.94-2.06-.94 2.06-2.06.94z\"/><path d=\"M17.41 7.96l-1.37-1.37c-.4-.4-.92-.59-1.43-.59-.52 0-1.04.2-1.43.59L10.3 9.45l-7.72 7.72c-.78.78-.78 2.05 0 2.83L4 21.41c.39.39.9.59 1.41.59.51 0 1.02-.2 1.41-.59l7.78-7.78 2.81-2.81c.8-.78.8-2.07 0-2.86zM5.41 20L4 18.59l7.72-7.72 1.47 1.35L5.41 20z\"/>\n",
              "  </svg>\n",
              "      </button>\n",
              "      \n",
              "  <style>\n",
              "    .colab-df-container {\n",
              "      display:flex;\n",
              "      flex-wrap:wrap;\n",
              "      gap: 12px;\n",
              "    }\n",
              "\n",
              "    .colab-df-convert {\n",
              "      background-color: #E8F0FE;\n",
              "      border: none;\n",
              "      border-radius: 50%;\n",
              "      cursor: pointer;\n",
              "      display: none;\n",
              "      fill: #1967D2;\n",
              "      height: 32px;\n",
              "      padding: 0 0 0 0;\n",
              "      width: 32px;\n",
              "    }\n",
              "\n",
              "    .colab-df-convert:hover {\n",
              "      background-color: #E2EBFA;\n",
              "      box-shadow: 0px 1px 2px rgba(60, 64, 67, 0.3), 0px 1px 3px 1px rgba(60, 64, 67, 0.15);\n",
              "      fill: #174EA6;\n",
              "    }\n",
              "\n",
              "    [theme=dark] .colab-df-convert {\n",
              "      background-color: #3B4455;\n",
              "      fill: #D2E3FC;\n",
              "    }\n",
              "\n",
              "    [theme=dark] .colab-df-convert:hover {\n",
              "      background-color: #434B5C;\n",
              "      box-shadow: 0px 1px 3px 1px rgba(0, 0, 0, 0.15);\n",
              "      filter: drop-shadow(0px 1px 2px rgba(0, 0, 0, 0.3));\n",
              "      fill: #FFFFFF;\n",
              "    }\n",
              "  </style>\n",
              "\n",
              "      <script>\n",
              "        const buttonEl =\n",
              "          document.querySelector('#df-6ae5725f-a372-4247-af26-afd2eb261603 button.colab-df-convert');\n",
              "        buttonEl.style.display =\n",
              "          google.colab.kernel.accessAllowed ? 'block' : 'none';\n",
              "\n",
              "        async function convertToInteractive(key) {\n",
              "          const element = document.querySelector('#df-6ae5725f-a372-4247-af26-afd2eb261603');\n",
              "          const dataTable =\n",
              "            await google.colab.kernel.invokeFunction('convertToInteractive',\n",
              "                                                     [key], {});\n",
              "          if (!dataTable) return;\n",
              "\n",
              "          const docLinkHtml = 'Like what you see? Visit the ' +\n",
              "            '<a target=\"_blank\" href=https://colab.research.google.com/notebooks/data_table.ipynb>data table notebook</a>'\n",
              "            + ' to learn more about interactive tables.';\n",
              "          element.innerHTML = '';\n",
              "          dataTable['output_type'] = 'display_data';\n",
              "          await google.colab.output.renderOutput(dataTable, element);\n",
              "          const docLink = document.createElement('div');\n",
              "          docLink.innerHTML = docLinkHtml;\n",
              "          element.appendChild(docLink);\n",
              "        }\n",
              "      </script>\n",
              "    </div>\n",
              "  </div>\n",
              "  "
            ]
          },
          "metadata": {},
          "execution_count": 59
        }
      ],
      "source": [
        "test_data.head()"
      ]
    },
    {
      "cell_type": "code",
      "execution_count": null,
      "id": "fd94e835",
      "metadata": {
        "id": "fd94e835"
      },
      "outputs": [],
      "source": [
        "test_data[\"Latitude\"] = test_data[\"id\"].apply(lambda x: float(x[1:-1].split(\",\")[0]))\n",
        "test_data[\"Longitude\"] = test_data[\"id\"].apply(lambda x: float(x[1:-1].split(\",\")[1]))"
      ]
    },
    {
      "cell_type": "code",
      "execution_count": null,
      "id": "08ab6a61",
      "metadata": {
        "colab": {
          "base_uri": "https://localhost:8080/",
          "height": 204
        },
        "id": "08ab6a61",
        "outputId": "55fdad32-3152-4a39-a3d0-60e967f66361"
      },
      "outputs": [
        {
          "output_type": "execute_result",
          "data": {
            "text/plain": [
              "                                         id  target   Latitude   Longitude\n",
              "0   (10.18019073690894, 105.32022315786804)     NaN  10.180191  105.320223\n",
              "1  (10.561107033461816, 105.12772097986661)     NaN  10.561107  105.127721\n",
              "2  (10.623790611954897, 105.13771401411867)     NaN  10.623791  105.137714\n",
              "3  (10.583364246115156, 105.23946127195805)     NaN  10.583364  105.239461\n",
              "4   (10.20744446668854, 105.26844107128906)     NaN  10.207444  105.268441"
            ],
            "text/html": [
              "\n",
              "  <div id=\"df-c0c9cb69-99f7-42c7-b502-02cb4474977d\">\n",
              "    <div class=\"colab-df-container\">\n",
              "      <div>\n",
              "<style scoped>\n",
              "    .dataframe tbody tr th:only-of-type {\n",
              "        vertical-align: middle;\n",
              "    }\n",
              "\n",
              "    .dataframe tbody tr th {\n",
              "        vertical-align: top;\n",
              "    }\n",
              "\n",
              "    .dataframe thead th {\n",
              "        text-align: right;\n",
              "    }\n",
              "</style>\n",
              "<table border=\"1\" class=\"dataframe\">\n",
              "  <thead>\n",
              "    <tr style=\"text-align: right;\">\n",
              "      <th></th>\n",
              "      <th>id</th>\n",
              "      <th>target</th>\n",
              "      <th>Latitude</th>\n",
              "      <th>Longitude</th>\n",
              "    </tr>\n",
              "  </thead>\n",
              "  <tbody>\n",
              "    <tr>\n",
              "      <th>0</th>\n",
              "      <td>(10.18019073690894, 105.32022315786804)</td>\n",
              "      <td>NaN</td>\n",
              "      <td>10.180191</td>\n",
              "      <td>105.320223</td>\n",
              "    </tr>\n",
              "    <tr>\n",
              "      <th>1</th>\n",
              "      <td>(10.561107033461816, 105.12772097986661)</td>\n",
              "      <td>NaN</td>\n",
              "      <td>10.561107</td>\n",
              "      <td>105.127721</td>\n",
              "    </tr>\n",
              "    <tr>\n",
              "      <th>2</th>\n",
              "      <td>(10.623790611954897, 105.13771401411867)</td>\n",
              "      <td>NaN</td>\n",
              "      <td>10.623791</td>\n",
              "      <td>105.137714</td>\n",
              "    </tr>\n",
              "    <tr>\n",
              "      <th>3</th>\n",
              "      <td>(10.583364246115156, 105.23946127195805)</td>\n",
              "      <td>NaN</td>\n",
              "      <td>10.583364</td>\n",
              "      <td>105.239461</td>\n",
              "    </tr>\n",
              "    <tr>\n",
              "      <th>4</th>\n",
              "      <td>(10.20744446668854, 105.26844107128906)</td>\n",
              "      <td>NaN</td>\n",
              "      <td>10.207444</td>\n",
              "      <td>105.268441</td>\n",
              "    </tr>\n",
              "  </tbody>\n",
              "</table>\n",
              "</div>\n",
              "      <button class=\"colab-df-convert\" onclick=\"convertToInteractive('df-c0c9cb69-99f7-42c7-b502-02cb4474977d')\"\n",
              "              title=\"Convert this dataframe to an interactive table.\"\n",
              "              style=\"display:none;\">\n",
              "        \n",
              "  <svg xmlns=\"http://www.w3.org/2000/svg\" height=\"24px\"viewBox=\"0 0 24 24\"\n",
              "       width=\"24px\">\n",
              "    <path d=\"M0 0h24v24H0V0z\" fill=\"none\"/>\n",
              "    <path d=\"M18.56 5.44l.94 2.06.94-2.06 2.06-.94-2.06-.94-.94-2.06-.94 2.06-2.06.94zm-11 1L8.5 8.5l.94-2.06 2.06-.94-2.06-.94L8.5 2.5l-.94 2.06-2.06.94zm10 10l.94 2.06.94-2.06 2.06-.94-2.06-.94-.94-2.06-.94 2.06-2.06.94z\"/><path d=\"M17.41 7.96l-1.37-1.37c-.4-.4-.92-.59-1.43-.59-.52 0-1.04.2-1.43.59L10.3 9.45l-7.72 7.72c-.78.78-.78 2.05 0 2.83L4 21.41c.39.39.9.59 1.41.59.51 0 1.02-.2 1.41-.59l7.78-7.78 2.81-2.81c.8-.78.8-2.07 0-2.86zM5.41 20L4 18.59l7.72-7.72 1.47 1.35L5.41 20z\"/>\n",
              "  </svg>\n",
              "      </button>\n",
              "      \n",
              "  <style>\n",
              "    .colab-df-container {\n",
              "      display:flex;\n",
              "      flex-wrap:wrap;\n",
              "      gap: 12px;\n",
              "    }\n",
              "\n",
              "    .colab-df-convert {\n",
              "      background-color: #E8F0FE;\n",
              "      border: none;\n",
              "      border-radius: 50%;\n",
              "      cursor: pointer;\n",
              "      display: none;\n",
              "      fill: #1967D2;\n",
              "      height: 32px;\n",
              "      padding: 0 0 0 0;\n",
              "      width: 32px;\n",
              "    }\n",
              "\n",
              "    .colab-df-convert:hover {\n",
              "      background-color: #E2EBFA;\n",
              "      box-shadow: 0px 1px 2px rgba(60, 64, 67, 0.3), 0px 1px 3px 1px rgba(60, 64, 67, 0.15);\n",
              "      fill: #174EA6;\n",
              "    }\n",
              "\n",
              "    [theme=dark] .colab-df-convert {\n",
              "      background-color: #3B4455;\n",
              "      fill: #D2E3FC;\n",
              "    }\n",
              "\n",
              "    [theme=dark] .colab-df-convert:hover {\n",
              "      background-color: #434B5C;\n",
              "      box-shadow: 0px 1px 3px 1px rgba(0, 0, 0, 0.15);\n",
              "      filter: drop-shadow(0px 1px 2px rgba(0, 0, 0, 0.3));\n",
              "      fill: #FFFFFF;\n",
              "    }\n",
              "  </style>\n",
              "\n",
              "      <script>\n",
              "        const buttonEl =\n",
              "          document.querySelector('#df-c0c9cb69-99f7-42c7-b502-02cb4474977d button.colab-df-convert');\n",
              "        buttonEl.style.display =\n",
              "          google.colab.kernel.accessAllowed ? 'block' : 'none';\n",
              "\n",
              "        async function convertToInteractive(key) {\n",
              "          const element = document.querySelector('#df-c0c9cb69-99f7-42c7-b502-02cb4474977d');\n",
              "          const dataTable =\n",
              "            await google.colab.kernel.invokeFunction('convertToInteractive',\n",
              "                                                     [key], {});\n",
              "          if (!dataTable) return;\n",
              "\n",
              "          const docLinkHtml = 'Like what you see? Visit the ' +\n",
              "            '<a target=\"_blank\" href=https://colab.research.google.com/notebooks/data_table.ipynb>data table notebook</a>'\n",
              "            + ' to learn more about interactive tables.';\n",
              "          element.innerHTML = '';\n",
              "          dataTable['output_type'] = 'display_data';\n",
              "          await google.colab.output.renderOutput(dataTable, element);\n",
              "          const docLink = document.createElement('div');\n",
              "          docLink.innerHTML = docLinkHtml;\n",
              "          element.appendChild(docLink);\n",
              "        }\n",
              "      </script>\n",
              "    </div>\n",
              "  </div>\n",
              "  "
            ]
          },
          "metadata": {},
          "execution_count": 61
        }
      ],
      "source": [
        "test_data.head()"
      ]
    },
    {
      "cell_type": "markdown",
      "source": [
        "Get the satellite data of new location"
      ],
      "metadata": {
        "id": "MdL-HDjlO6zM"
      },
      "id": "MdL-HDjlO6zM"
    },
    {
      "cell_type": "code",
      "execution_count": null,
      "id": "93faf7ec",
      "metadata": {
        "colab": {
          "base_uri": "https://localhost:8080/"
        },
        "id": "93faf7ec",
        "outputId": "10370151-30fd-42c3-b31d-4d46d50ab730"
      },
      "outputs": [
        {
          "output_type": "stream",
          "name": "stderr",
          "text": [
            "Running: 100%|██████████| 250/250 [01:09<00:00,  3.59it/s]\n"
          ]
        }
      ],
      "source": [
        "test_lst = [0]*250\n",
        "lat_arr_test = test_data[\"Latitude\"]\n",
        "long_arr_test = test_data[\"Longitude\"]\n",
        "for inx in tqdm(range(250), desc=\"Running\"):\n",
        "    xx = get_data_latlong(lat_arr_test[inx], long_arr_test[inx], \"2022-03-20/2022-03-21\")\n",
        "    test_lst[inx] = xx"
      ]
    },
    {
      "cell_type": "code",
      "execution_count": null,
      "id": "54d1a58b",
      "metadata": {
        "scrolled": true,
        "colab": {
          "base_uri": "https://localhost:8080/"
        },
        "id": "54d1a58b",
        "outputId": "863d9d36-93e0-4d71-880d-fcaa80f36bae"
      },
      "outputs": [
        {
          "output_type": "stream",
          "name": "stderr",
          "text": [
            "Running: 100%|██████████| 125/125 [02:12<00:00,  1.06s/it]\n"
          ]
        }
      ],
      "source": [
        "test_lst_np_1 = [0] * 125\n",
        "for inx in tqdm(range(125), desc=\"Running\"):\n",
        "    temp = test_lst[inx].isel(time=0)[[\"red\", \"green\", \"blue\"]].to_array()\n",
        "    test_lst_np_1[inx] = temp.data.compute()"
      ]
    },
    {
      "cell_type": "code",
      "execution_count": null,
      "id": "997e3115",
      "metadata": {
        "colab": {
          "base_uri": "https://localhost:8080/"
        },
        "id": "997e3115",
        "outputId": "1a2f600b-9966-4ce6-8193-e96472e9e384"
      },
      "outputs": [
        {
          "output_type": "stream",
          "name": "stderr",
          "text": [
            "Running: 100%|██████████| 125/125 [01:57<00:00,  1.06it/s]\n"
          ]
        }
      ],
      "source": [
        "test_lst_np_2 = [0] * 125\n",
        "for inx in tqdm(range(125), desc=\"Running\"):\n",
        "    temp = test_lst[125+inx].isel(time=0)[[\"red\", \"green\", \"blue\"]].to_array()\n",
        "    test_lst_np_2[inx] = temp.data.compute()"
      ]
    },
    {
      "cell_type": "code",
      "execution_count": null,
      "id": "a597cbbe",
      "metadata": {
        "id": "a597cbbe"
      },
      "outputs": [],
      "source": [
        "for inx in range(125):\n",
        "    test_lst_np_1[inx] = np.resize(test_lst_np_1[inx], (3, 557, 557))\n",
        "    test_lst_np_2[inx] = np.resize(test_lst_np_2[inx], (3, 557, 557))"
      ]
    },
    {
      "cell_type": "markdown",
      "source": [
        "Use resnet-18 to predict"
      ],
      "metadata": {
        "id": "D5Z-cGfy1zB-"
      },
      "id": "D5Z-cGfy1zB-"
    },
    {
      "cell_type": "code",
      "source": [
        "my_test_data = test_lst_np_1 + test_lst_np_2"
      ],
      "metadata": {
        "id": "gzYOXyA7AF3o"
      },
      "id": "gzYOXyA7AF3o",
      "execution_count": null,
      "outputs": []
    },
    {
      "cell_type": "code",
      "source": [
        "transformations = torchvision.transforms.Compose([\n",
        "    torchvision.transforms.ToPILImage(),\n",
        "    torchvision.transforms.Resize(256),\n",
        "    torchvision.transforms.CenterCrop(224),\n",
        "    torchvision.transforms.ToTensor(),\n",
        "    torchvision.transforms.Normalize(mean=[0.485, 0.456, 0.406], std=[0.229, 0.224, 0.225])\n",
        "])"
      ],
      "metadata": {
        "id": "UDWqtW8016pW"
      },
      "id": "UDWqtW8016pW",
      "execution_count": null,
      "outputs": []
    },
    {
      "cell_type": "code",
      "source": [
        "for i in range(250):\n",
        "  my_test_data[i] = transformations(my_test_data[i].reshape(557,557,3).astype('uint8'))"
      ],
      "metadata": {
        "id": "jeDMXYgv2HJM"
      },
      "id": "jeDMXYgv2HJM",
      "execution_count": null,
      "outputs": []
    },
    {
      "cell_type": "code",
      "source": [
        "my_test_arr = torch.stack(my_test_data)\n",
        "my_test_arr = torch.FloatTensor(my_test_arr)"
      ],
      "metadata": {
        "id": "62YZu96v2NQF"
      },
      "id": "62YZu96v2NQF",
      "execution_count": null,
      "outputs": []
    },
    {
      "cell_type": "code",
      "source": [
        "my_dummy_label = [0] * 250\n",
        "my_dummy_label = torch.LongTensor(np.array(my_dummy_label))"
      ],
      "metadata": {
        "id": "mYDVkg934UiN"
      },
      "id": "mYDVkg934UiN",
      "execution_count": null,
      "outputs": []
    },
    {
      "cell_type": "code",
      "source": [
        "my_test_dataset = TensorDataset(my_test_arr, my_dummy_label)"
      ],
      "metadata": {
        "id": "087v_aS12kvN"
      },
      "id": "087v_aS12kvN",
      "execution_count": null,
      "outputs": []
    },
    {
      "cell_type": "code",
      "source": [
        "my_test_dataloader = torch.utils.data.DataLoader(my_test_dataset, batch_size=20, shuffle=False, num_workers=8)"
      ],
      "metadata": {
        "id": "bVhheaxm2p7K"
      },
      "id": "bVhheaxm2p7K",
      "execution_count": null,
      "outputs": []
    },
    {
      "cell_type": "code",
      "source": [
        "# Loop over the DataLoader and pass the data through the model\n",
        "predictions = []\n",
        "with torch.no_grad():\n",
        "    for i, (inputs, labels) in enumerate(my_test_dataloader):\n",
        "        inputs = inputs.to(device)\n",
        "        labels = labels.to(device)\n",
        "        outputs = model(inputs)\n",
        "        _, preds = torch.max(outputs, 1)\n",
        "        predictions += preds.tolist()\n",
        "\n",
        "# Save the predictions to a file\n",
        "df = pd.DataFrame({'target': predictions})"
      ],
      "metadata": {
        "id": "K-x3yQIN20O4"
      },
      "id": "K-x3yQIN20O4",
      "execution_count": null,
      "outputs": []
    },
    {
      "cell_type": "code",
      "source": [
        "df.head()"
      ],
      "metadata": {
        "colab": {
          "base_uri": "https://localhost:8080/",
          "height": 419
        },
        "id": "OqY9YO6a42Yg",
        "outputId": "7db6cacf-aefc-49e7-e391-af1bd0823bdb"
      },
      "id": "OqY9YO6a42Yg",
      "execution_count": null,
      "outputs": [
        {
          "output_type": "execute_result",
          "data": {
            "text/plain": [
              "     target\n",
              "0         1\n",
              "1         0\n",
              "2         1\n",
              "3         1\n",
              "4         1\n",
              "..      ...\n",
              "245       0\n",
              "246       1\n",
              "247       1\n",
              "248       1\n",
              "249       0\n",
              "\n",
              "[250 rows x 1 columns]"
            ],
            "text/html": [
              "\n",
              "  <div id=\"df-88e71384-744a-4dc8-91e6-226c96ced52d\">\n",
              "    <div class=\"colab-df-container\">\n",
              "      <div>\n",
              "<style scoped>\n",
              "    .dataframe tbody tr th:only-of-type {\n",
              "        vertical-align: middle;\n",
              "    }\n",
              "\n",
              "    .dataframe tbody tr th {\n",
              "        vertical-align: top;\n",
              "    }\n",
              "\n",
              "    .dataframe thead th {\n",
              "        text-align: right;\n",
              "    }\n",
              "</style>\n",
              "<table border=\"1\" class=\"dataframe\">\n",
              "  <thead>\n",
              "    <tr style=\"text-align: right;\">\n",
              "      <th></th>\n",
              "      <th>target</th>\n",
              "    </tr>\n",
              "  </thead>\n",
              "  <tbody>\n",
              "    <tr>\n",
              "      <th>0</th>\n",
              "      <td>1</td>\n",
              "    </tr>\n",
              "    <tr>\n",
              "      <th>1</th>\n",
              "      <td>0</td>\n",
              "    </tr>\n",
              "    <tr>\n",
              "      <th>2</th>\n",
              "      <td>1</td>\n",
              "    </tr>\n",
              "    <tr>\n",
              "      <th>3</th>\n",
              "      <td>1</td>\n",
              "    </tr>\n",
              "    <tr>\n",
              "      <th>4</th>\n",
              "      <td>1</td>\n",
              "    </tr>\n",
              "    <tr>\n",
              "      <th>...</th>\n",
              "      <td>...</td>\n",
              "    </tr>\n",
              "    <tr>\n",
              "      <th>245</th>\n",
              "      <td>0</td>\n",
              "    </tr>\n",
              "    <tr>\n",
              "      <th>246</th>\n",
              "      <td>1</td>\n",
              "    </tr>\n",
              "    <tr>\n",
              "      <th>247</th>\n",
              "      <td>1</td>\n",
              "    </tr>\n",
              "    <tr>\n",
              "      <th>248</th>\n",
              "      <td>1</td>\n",
              "    </tr>\n",
              "    <tr>\n",
              "      <th>249</th>\n",
              "      <td>0</td>\n",
              "    </tr>\n",
              "  </tbody>\n",
              "</table>\n",
              "<p>250 rows × 1 columns</p>\n",
              "</div>\n",
              "      <button class=\"colab-df-convert\" onclick=\"convertToInteractive('df-88e71384-744a-4dc8-91e6-226c96ced52d')\"\n",
              "              title=\"Convert this dataframe to an interactive table.\"\n",
              "              style=\"display:none;\">\n",
              "        \n",
              "  <svg xmlns=\"http://www.w3.org/2000/svg\" height=\"24px\"viewBox=\"0 0 24 24\"\n",
              "       width=\"24px\">\n",
              "    <path d=\"M0 0h24v24H0V0z\" fill=\"none\"/>\n",
              "    <path d=\"M18.56 5.44l.94 2.06.94-2.06 2.06-.94-2.06-.94-.94-2.06-.94 2.06-2.06.94zm-11 1L8.5 8.5l.94-2.06 2.06-.94-2.06-.94L8.5 2.5l-.94 2.06-2.06.94zm10 10l.94 2.06.94-2.06 2.06-.94-2.06-.94-.94-2.06-.94 2.06-2.06.94z\"/><path d=\"M17.41 7.96l-1.37-1.37c-.4-.4-.92-.59-1.43-.59-.52 0-1.04.2-1.43.59L10.3 9.45l-7.72 7.72c-.78.78-.78 2.05 0 2.83L4 21.41c.39.39.9.59 1.41.59.51 0 1.02-.2 1.41-.59l7.78-7.78 2.81-2.81c.8-.78.8-2.07 0-2.86zM5.41 20L4 18.59l7.72-7.72 1.47 1.35L5.41 20z\"/>\n",
              "  </svg>\n",
              "      </button>\n",
              "      \n",
              "  <style>\n",
              "    .colab-df-container {\n",
              "      display:flex;\n",
              "      flex-wrap:wrap;\n",
              "      gap: 12px;\n",
              "    }\n",
              "\n",
              "    .colab-df-convert {\n",
              "      background-color: #E8F0FE;\n",
              "      border: none;\n",
              "      border-radius: 50%;\n",
              "      cursor: pointer;\n",
              "      display: none;\n",
              "      fill: #1967D2;\n",
              "      height: 32px;\n",
              "      padding: 0 0 0 0;\n",
              "      width: 32px;\n",
              "    }\n",
              "\n",
              "    .colab-df-convert:hover {\n",
              "      background-color: #E2EBFA;\n",
              "      box-shadow: 0px 1px 2px rgba(60, 64, 67, 0.3), 0px 1px 3px 1px rgba(60, 64, 67, 0.15);\n",
              "      fill: #174EA6;\n",
              "    }\n",
              "\n",
              "    [theme=dark] .colab-df-convert {\n",
              "      background-color: #3B4455;\n",
              "      fill: #D2E3FC;\n",
              "    }\n",
              "\n",
              "    [theme=dark] .colab-df-convert:hover {\n",
              "      background-color: #434B5C;\n",
              "      box-shadow: 0px 1px 3px 1px rgba(0, 0, 0, 0.15);\n",
              "      filter: drop-shadow(0px 1px 2px rgba(0, 0, 0, 0.3));\n",
              "      fill: #FFFFFF;\n",
              "    }\n",
              "  </style>\n",
              "\n",
              "      <script>\n",
              "        const buttonEl =\n",
              "          document.querySelector('#df-88e71384-744a-4dc8-91e6-226c96ced52d button.colab-df-convert');\n",
              "        buttonEl.style.display =\n",
              "          google.colab.kernel.accessAllowed ? 'block' : 'none';\n",
              "\n",
              "        async function convertToInteractive(key) {\n",
              "          const element = document.querySelector('#df-88e71384-744a-4dc8-91e6-226c96ced52d');\n",
              "          const dataTable =\n",
              "            await google.colab.kernel.invokeFunction('convertToInteractive',\n",
              "                                                     [key], {});\n",
              "          if (!dataTable) return;\n",
              "\n",
              "          const docLinkHtml = 'Like what you see? Visit the ' +\n",
              "            '<a target=\"_blank\" href=https://colab.research.google.com/notebooks/data_table.ipynb>data table notebook</a>'\n",
              "            + ' to learn more about interactive tables.';\n",
              "          element.innerHTML = '';\n",
              "          dataTable['output_type'] = 'display_data';\n",
              "          await google.colab.output.renderOutput(dataTable, element);\n",
              "          const docLink = document.createElement('div');\n",
              "          docLink.innerHTML = docLinkHtml;\n",
              "          element.appendChild(docLink);\n",
              "        }\n",
              "      </script>\n",
              "    </div>\n",
              "  </div>\n",
              "  "
            ]
          },
          "metadata": {},
          "execution_count": 95
        }
      ]
    },
    {
      "cell_type": "code",
      "source": [
        "test_data[\"target\"] = df[\"target\"]"
      ],
      "metadata": {
        "id": "9PIU1DQj45oT"
      },
      "id": "9PIU1DQj45oT",
      "execution_count": null,
      "outputs": []
    },
    {
      "cell_type": "code",
      "source": [
        "export_RN = test_data[[\"id\", \"target\"]]"
      ],
      "metadata": {
        "id": "PFeg-PE9PH3v"
      },
      "id": "PFeg-PE9PH3v",
      "execution_count": null,
      "outputs": []
    },
    {
      "cell_type": "code",
      "source": [
        "export_RN[\"target\"] = export_RN[\"target\"].apply(lambda x: \"Rice\" if 1 else \"Non Rice\")"
      ],
      "metadata": {
        "id": "FVUyWmCPPLU4"
      },
      "id": "FVUyWmCPPLU4",
      "execution_count": null,
      "outputs": []
    },
    {
      "cell_type": "code",
      "source": [
        "export_RN.to_csv(\".../file_name.csv\", index = False)"
      ],
      "metadata": {
        "id": "WLU7aTq6PPNx"
      },
      "id": "WLU7aTq6PPNx",
      "execution_count": null,
      "outputs": []
    },
    {
      "cell_type": "markdown",
      "source": [
        "Use DT and LR for predict"
      ],
      "metadata": {
        "id": "6OQgAyx2113h"
      },
      "id": "6OQgAyx2113h"
    },
    {
      "cell_type": "code",
      "execution_count": null,
      "id": "895b6a48",
      "metadata": {
        "id": "895b6a48"
      },
      "outputs": [],
      "source": [
        "for inx in range(125):\n",
        "    test_lst_np_1[inx] = np.resize(test_lst_np_1[inx], (3, 557, 557)).reshape(3*557*557)\n",
        "    test_lst_np_2[inx] = np.resize(test_lst_np_2[inx], (3, 557, 557)).reshape(3*557*557)"
      ]
    },
    {
      "cell_type": "code",
      "execution_count": null,
      "id": "b3f85570",
      "metadata": {
        "id": "b3f85570"
      },
      "outputs": [],
      "source": [
        "my_test = np.concatenate([np.array(test_lst_np_1), np.array(test_lst_np_2)], axis = 0)"
      ]
    },
    {
      "cell_type": "code",
      "execution_count": null,
      "id": "70cdf941",
      "metadata": {
        "id": "70cdf941"
      },
      "outputs": [],
      "source": [
        "pred_test = clf.predict(my_test)"
      ]
    },
    {
      "cell_type": "code",
      "execution_count": null,
      "id": "99c385e2",
      "metadata": {
        "id": "99c385e2"
      },
      "outputs": [],
      "source": [
        "len(pred_test)"
      ]
    },
    {
      "cell_type": "code",
      "execution_count": null,
      "id": "e6c2795d",
      "metadata": {
        "id": "e6c2795d"
      },
      "outputs": [],
      "source": [
        "test_data[\"target\"] = pd.DataFrame({\"target\": pred_test})"
      ]
    },
    {
      "cell_type": "code",
      "execution_count": null,
      "id": "302a186e",
      "metadata": {
        "id": "302a186e"
      },
      "outputs": [],
      "source": [
        "test_data.head()"
      ]
    },
    {
      "cell_type": "code",
      "execution_count": null,
      "id": "eceda7ec",
      "metadata": {
        "id": "eceda7ec"
      },
      "outputs": [],
      "source": [
        "export = test_data[[\"id\", \"target\"]]"
      ]
    },
    {
      "cell_type": "code",
      "execution_count": null,
      "id": "ec8b12c8",
      "metadata": {
        "id": "ec8b12c8"
      },
      "outputs": [],
      "source": [
        "export[\"target\"] = export[\"target\"].apply(lambda x: \"Rice\" if 1 else \"Non Rice\")"
      ]
    },
    {
      "cell_type": "code",
      "execution_count": null,
      "id": "22a91370",
      "metadata": {
        "id": "22a91370"
      },
      "outputs": [],
      "source": [
        "export.to_csv(\".../Test_result_colab.csv\", index = False)"
      ]
    }
  ],
  "metadata": {
    "kernelspec": {
      "display_name": "Python 3 (ipykernel)",
      "language": "python",
      "name": "python3"
    },
    "language_info": {
      "codemirror_mode": {
        "name": "ipython",
        "version": 3
      },
      "file_extension": ".py",
      "mimetype": "text/x-python",
      "name": "python",
      "nbconvert_exporter": "python",
      "pygments_lexer": "ipython3",
      "version": "3.9.13"
    },
    "colab": {
      "provenance": [],
      "toc_visible": true
    },
    "accelerator": "GPU",
    "gpuClass": "standard"
  },
  "nbformat": 4,
  "nbformat_minor": 5
}