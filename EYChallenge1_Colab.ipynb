{
  "cells": [
    {
      "cell_type": "markdown",
      "id": "nRpNmCmpMpuJ",
      "metadata": {
        "id": "nRpNmCmpMpuJ"
      },
      "source": [
        "#### Installation code for the Colab session"
      ]
    },
    {
      "cell_type": "code",
      "execution_count": null,
      "id": "z_ESIHC0WJMg",
      "metadata": {
        "colab": {
          "base_uri": "https://localhost:8080/"
        },
        "id": "z_ESIHC0WJMg",
        "outputId": "6cc744d8-5487-449d-c19a-8f005ffd1f5e"
      },
      "outputs": [
        {
          "name": "stdout",
          "output_type": "stream",
          "text": [
            "Looking in indexes: https://pypi.org/simple, https://us-python.pkg.dev/colab-wheels/public/simple/\n",
            "Collecting rasterio\n",
            "  Downloading rasterio-1.3.6-cp38-cp38-manylinux_2_17_x86_64.manylinux2014_x86_64.whl (20.1 MB)\n",
            "\u001b[2K     \u001b[90m━━━━━━━━━━━━━━━━━━━━━━━━━━━━━━━━━━━━━━━━\u001b[0m \u001b[32m20.1/20.1 MB\u001b[0m \u001b[31m42.9 MB/s\u001b[0m eta \u001b[36m0:00:00\u001b[0m\n",
            "\u001b[?25hCollecting cligj>=0.5\n",
            "  Downloading cligj-0.7.2-py3-none-any.whl (7.1 kB)\n",
            "Requirement already satisfied: click>=4.0 in /usr/local/lib/python3.8/dist-packages (from rasterio) (8.1.3)\n",
            "Requirement already satisfied: attrs in /usr/local/lib/python3.8/dist-packages (from rasterio) (22.2.0)\n",
            "Requirement already satisfied: numpy>=1.18 in /usr/local/lib/python3.8/dist-packages (from rasterio) (1.22.4)\n",
            "Collecting snuggs>=1.4.1\n",
            "  Downloading snuggs-1.4.7-py3-none-any.whl (5.4 kB)\n",
            "Collecting click-plugins\n",
            "  Downloading click_plugins-1.1.1-py2.py3-none-any.whl (7.5 kB)\n",
            "Collecting affine\n",
            "  Downloading affine-2.4.0-py3-none-any.whl (15 kB)\n",
            "Requirement already satisfied: setuptools in /usr/local/lib/python3.8/dist-packages (from rasterio) (57.4.0)\n",
            "Requirement already satisfied: certifi in /usr/local/lib/python3.8/dist-packages (from rasterio) (2022.12.7)\n",
            "Requirement already satisfied: pyparsing>=2.1.6 in /usr/local/lib/python3.8/dist-packages (from snuggs>=1.4.1->rasterio) (3.0.9)\n",
            "Installing collected packages: snuggs, cligj, click-plugins, affine, rasterio\n",
            "Successfully installed affine-2.4.0 click-plugins-1.1.1 cligj-0.7.2 rasterio-1.3.6 snuggs-1.4.7\n"
          ]
        }
      ],
      "source": [
        "pip install rasterio"
      ]
    },
    {
      "cell_type": "code",
      "execution_count": null,
      "id": "cQMQy_IpWYhC",
      "metadata": {
        "colab": {
          "base_uri": "https://localhost:8080/"
        },
        "id": "cQMQy_IpWYhC",
        "outputId": "f11fde04-16d9-41d0-d3f1-663e8cf4b058"
      },
      "outputs": [
        {
          "name": "stdout",
          "output_type": "stream",
          "text": [
            "Looking in indexes: https://pypi.org/simple, https://us-python.pkg.dev/colab-wheels/public/simple/\n",
            "Collecting rioxarray\n",
            "  Downloading rioxarray-0.13.4-py3-none-any.whl (53 kB)\n",
            "\u001b[2K     \u001b[90m━━━━━━━━━━━━━━━━━━━━━━━━━━━━━━━━━━━━━━━━\u001b[0m \u001b[32m53.4/53.4 KB\u001b[0m \u001b[31m5.9 MB/s\u001b[0m eta \u001b[36m0:00:00\u001b[0m\n",
            "\u001b[?25hRequirement already satisfied: xarray>=0.17 in /usr/local/lib/python3.8/dist-packages (from rioxarray) (2022.12.0)\n",
            "Requirement already satisfied: numpy>=1.21 in /usr/local/lib/python3.8/dist-packages (from rioxarray) (1.22.4)\n",
            "Requirement already satisfied: rasterio>=1.1.1 in /usr/local/lib/python3.8/dist-packages (from rioxarray) (1.3.6)\n",
            "Requirement already satisfied: packaging in /usr/local/lib/python3.8/dist-packages (from rioxarray) (23.0)\n",
            "Collecting pyproj>=2.2\n",
            "  Downloading pyproj-3.4.1-cp38-cp38-manylinux_2_17_x86_64.manylinux2014_x86_64.whl (7.8 MB)\n",
            "\u001b[2K     \u001b[90m━━━━━━━━━━━━━━━━━━━━━━━━━━━━━━━━━━━━━━━━\u001b[0m \u001b[32m7.8/7.8 MB\u001b[0m \u001b[31m29.9 MB/s\u001b[0m eta \u001b[36m0:00:00\u001b[0m\n",
            "\u001b[?25hRequirement already satisfied: certifi in /usr/local/lib/python3.8/dist-packages (from pyproj>=2.2->rioxarray) (2022.12.7)\n",
            "Requirement already satisfied: affine in /usr/local/lib/python3.8/dist-packages (from rasterio>=1.1.1->rioxarray) (2.4.0)\n",
            "Requirement already satisfied: snuggs>=1.4.1 in /usr/local/lib/python3.8/dist-packages (from rasterio>=1.1.1->rioxarray) (1.4.7)\n",
            "Requirement already satisfied: setuptools in /usr/local/lib/python3.8/dist-packages (from rasterio>=1.1.1->rioxarray) (57.4.0)\n",
            "Requirement already satisfied: click-plugins in /usr/local/lib/python3.8/dist-packages (from rasterio>=1.1.1->rioxarray) (1.1.1)\n",
            "Requirement already satisfied: click>=4.0 in /usr/local/lib/python3.8/dist-packages (from rasterio>=1.1.1->rioxarray) (8.1.3)\n",
            "Requirement already satisfied: attrs in /usr/local/lib/python3.8/dist-packages (from rasterio>=1.1.1->rioxarray) (22.2.0)\n",
            "Requirement already satisfied: cligj>=0.5 in /usr/local/lib/python3.8/dist-packages (from rasterio>=1.1.1->rioxarray) (0.7.2)\n",
            "Requirement already satisfied: pandas>=1.3 in /usr/local/lib/python3.8/dist-packages (from xarray>=0.17->rioxarray) (1.3.5)\n",
            "Requirement already satisfied: pytz>=2017.3 in /usr/local/lib/python3.8/dist-packages (from pandas>=1.3->xarray>=0.17->rioxarray) (2022.7.1)\n",
            "Requirement already satisfied: python-dateutil>=2.7.3 in /usr/local/lib/python3.8/dist-packages (from pandas>=1.3->xarray>=0.17->rioxarray) (2.8.2)\n",
            "Requirement already satisfied: pyparsing>=2.1.6 in /usr/local/lib/python3.8/dist-packages (from snuggs>=1.4.1->rasterio>=1.1.1->rioxarray) (3.0.9)\n",
            "Requirement already satisfied: six>=1.5 in /usr/local/lib/python3.8/dist-packages (from python-dateutil>=2.7.3->pandas>=1.3->xarray>=0.17->rioxarray) (1.15.0)\n",
            "Installing collected packages: pyproj, rioxarray\n",
            "Successfully installed pyproj-3.4.1 rioxarray-0.13.4\n"
          ]
        }
      ],
      "source": [
        "pip install rioxarray"
      ]
    },
    {
      "cell_type": "code",
      "execution_count": null,
      "id": "WhhXeuHKWr8g",
      "metadata": {
        "colab": {
          "base_uri": "https://localhost:8080/"
        },
        "id": "WhhXeuHKWr8g",
        "outputId": "2c8facbc-3870-4078-826a-bd34287481af"
      },
      "outputs": [
        {
          "name": "stdout",
          "output_type": "stream",
          "text": [
            "Looking in indexes: https://pypi.org/simple, https://us-python.pkg.dev/colab-wheels/public/simple/\n",
            "Collecting xarray-spatial\n",
            "  Downloading xarray_spatial-0.3.5-py3-none-any.whl (10.9 MB)\n",
            "\u001b[2K     \u001b[90m━━━━━━━━━━━━━━━━━━━━━━━━━━━━━━━━━━━━━━━━\u001b[0m \u001b[32m10.9/10.9 MB\u001b[0m \u001b[31m80.9 MB/s\u001b[0m eta \u001b[36m0:00:00\u001b[0m\n",
            "\u001b[?25hCollecting datashader\n",
            "  Downloading datashader-0.14.4-py2.py3-none-any.whl (18.2 MB)\n",
            "\u001b[2K     \u001b[90m━━━━━━━━━━━━━━━━━━━━━━━━━━━━━━━━━━━━━━━━\u001b[0m \u001b[32m18.2/18.2 MB\u001b[0m \u001b[31m74.1 MB/s\u001b[0m eta \u001b[36m0:00:00\u001b[0m\n",
            "\u001b[?25hRequirement already satisfied: numba in /usr/local/lib/python3.8/dist-packages (from xarray-spatial) (0.56.4)\n",
            "Requirement already satisfied: xarray in /usr/local/lib/python3.8/dist-packages (from xarray-spatial) (2022.12.0)\n",
            "Requirement already satisfied: toolz in /usr/local/lib/python3.8/dist-packages (from datashader->xarray-spatial) (0.12.0)\n",
            "Requirement already satisfied: scipy in /usr/local/lib/python3.8/dist-packages (from datashader->xarray-spatial) (1.10.1)\n",
            "Requirement already satisfied: pillow in /usr/local/lib/python3.8/dist-packages (from datashader->xarray-spatial) (8.4.0)\n",
            "Requirement already satisfied: requests in /usr/local/lib/python3.8/dist-packages (from datashader->xarray-spatial) (2.25.1)\n",
            "Requirement already satisfied: param in /usr/local/lib/python3.8/dist-packages (from datashader->xarray-spatial) (1.12.3)\n",
            "Collecting datashape\n",
            "  Downloading datashape-0.5.2.tar.gz (76 kB)\n",
            "\u001b[2K     \u001b[90m━━━━━━━━━━━━━━━━━━━━━━━━━━━━━━━━━━━━━━━━\u001b[0m \u001b[32m76.5/76.5 KB\u001b[0m \u001b[31m10.6 MB/s\u001b[0m eta \u001b[36m0:00:00\u001b[0m\n",
            "\u001b[?25h  Preparing metadata (setup.py) ... \u001b[?25l\u001b[?25hdone\n",
            "Requirement already satisfied: pandas in /usr/local/lib/python3.8/dist-packages (from datashader->xarray-spatial) (1.3.5)\n",
            "Requirement already satisfied: pyct in /usr/local/lib/python3.8/dist-packages (from datashader->xarray-spatial) (0.5.0)\n",
            "Requirement already satisfied: colorcet in /usr/local/lib/python3.8/dist-packages (from datashader->xarray-spatial) (3.0.1)\n",
            "Requirement already satisfied: numpy in /usr/local/lib/python3.8/dist-packages (from datashader->xarray-spatial) (1.22.4)\n",
            "Requirement already satisfied: dask in /usr/local/lib/python3.8/dist-packages (from datashader->xarray-spatial) (2022.2.1)\n",
            "Requirement already satisfied: llvmlite<0.40,>=0.39.0dev0 in /usr/local/lib/python3.8/dist-packages (from numba->xarray-spatial) (0.39.1)\n",
            "Requirement already satisfied: importlib-metadata in /usr/local/lib/python3.8/dist-packages (from numba->xarray-spatial) (6.0.0)\n",
            "Requirement already satisfied: setuptools in /usr/local/lib/python3.8/dist-packages (from numba->xarray-spatial) (57.4.0)\n",
            "Requirement already satisfied: packaging>=21.3 in /usr/local/lib/python3.8/dist-packages (from xarray->xarray-spatial) (23.0)\n",
            "Requirement already satisfied: python-dateutil>=2.7.3 in /usr/local/lib/python3.8/dist-packages (from pandas->datashader->xarray-spatial) (2.8.2)\n",
            "Requirement already satisfied: pytz>=2017.3 in /usr/local/lib/python3.8/dist-packages (from pandas->datashader->xarray-spatial) (2022.7.1)\n",
            "Requirement already satisfied: pyyaml>=5.3.1 in /usr/local/lib/python3.8/dist-packages (from dask->datashader->xarray-spatial) (6.0)\n",
            "Requirement already satisfied: partd>=0.3.10 in /usr/local/lib/python3.8/dist-packages (from dask->datashader->xarray-spatial) (1.3.0)\n",
            "Requirement already satisfied: cloudpickle>=1.1.1 in /usr/local/lib/python3.8/dist-packages (from dask->datashader->xarray-spatial) (2.2.1)\n",
            "Requirement already satisfied: fsspec>=0.6.0 in /usr/local/lib/python3.8/dist-packages (from dask->datashader->xarray-spatial) (2023.1.0)\n",
            "Requirement already satisfied: multipledispatch>=0.4.7 in /usr/local/lib/python3.8/dist-packages (from datashape->datashader->xarray-spatial) (0.6.0)\n",
            "Requirement already satisfied: zipp>=0.5 in /usr/local/lib/python3.8/dist-packages (from importlib-metadata->numba->xarray-spatial) (3.15.0)\n",
            "Requirement already satisfied: urllib3<1.27,>=1.21.1 in /usr/local/lib/python3.8/dist-packages (from requests->datashader->xarray-spatial) (1.26.14)\n",
            "Requirement already satisfied: certifi>=2017.4.17 in /usr/local/lib/python3.8/dist-packages (from requests->datashader->xarray-spatial) (2022.12.7)\n",
            "Requirement already satisfied: idna<3,>=2.5 in /usr/local/lib/python3.8/dist-packages (from requests->datashader->xarray-spatial) (2.10)\n",
            "Requirement already satisfied: chardet<5,>=3.0.2 in /usr/local/lib/python3.8/dist-packages (from requests->datashader->xarray-spatial) (4.0.0)\n",
            "Requirement already satisfied: six in /usr/local/lib/python3.8/dist-packages (from multipledispatch>=0.4.7->datashape->datashader->xarray-spatial) (1.15.0)\n",
            "Requirement already satisfied: locket in /usr/local/lib/python3.8/dist-packages (from partd>=0.3.10->dask->datashader->xarray-spatial) (1.0.0)\n",
            "Building wheels for collected packages: datashape\n",
            "  Building wheel for datashape (setup.py) ... \u001b[?25l\u001b[?25hdone\n",
            "  Created wheel for datashape: filename=datashape-0.5.2-py3-none-any.whl size=59439 sha256=d16347615f706ad3fd7dc08e00a1fec68ecdc70675bb58a6717748495bf743a9\n",
            "  Stored in directory: /root/.cache/pip/wheels/6d/79/c4/c425774559165f472d32e5ef592ff9a71179abb31f05dbc98b\n",
            "Successfully built datashape\n",
            "Installing collected packages: datashape, datashader, xarray-spatial\n",
            "Successfully installed datashader-0.14.4 datashape-0.5.2 xarray-spatial-0.3.5\n"
          ]
        }
      ],
      "source": [
        "pip install xarray-spatial"
      ]
    },
    {
      "cell_type": "code",
      "execution_count": null,
      "id": "qO72y3kNW6X9",
      "metadata": {
        "colab": {
          "base_uri": "https://localhost:8080/"
        },
        "id": "qO72y3kNW6X9",
        "outputId": "75e0dbd2-6477-4942-c35b-b698982317fe"
      },
      "outputs": [
        {
          "name": "stdout",
          "output_type": "stream",
          "text": [
            "Looking in indexes: https://pypi.org/simple, https://us-python.pkg.dev/colab-wheels/public/simple/\n",
            "Collecting pystac-client\n",
            "  Downloading pystac_client-0.6.0-py3-none-any.whl (30 kB)\n",
            "Requirement already satisfied: python-dateutil>=2.7.0 in /usr/local/lib/python3.8/dist-packages (from pystac-client) (2.8.2)\n",
            "Collecting requests>=2.27.1\n",
            "  Downloading requests-2.28.2-py3-none-any.whl (62 kB)\n",
            "\u001b[2K     \u001b[90m━━━━━━━━━━━━━━━━━━━━━━━━━━━━━━━━━━━━━━━━\u001b[0m \u001b[32m62.8/62.8 KB\u001b[0m \u001b[31m8.7 MB/s\u001b[0m eta \u001b[36m0:00:00\u001b[0m\n",
            "\u001b[?25hCollecting pystac>=1.4.0\n",
            "  Downloading pystac-1.6.1-py3-none-any.whl (146 kB)\n",
            "\u001b[2K     \u001b[90m━━━━━━━━━━━━━━━━━━━━━━━━━━━━━━━━━━━━━━━\u001b[0m \u001b[32m146.0/146.0 KB\u001b[0m \u001b[31m7.9 MB/s\u001b[0m eta \u001b[36m0:00:00\u001b[0m\n",
            "\u001b[?25hRequirement already satisfied: six>=1.5 in /usr/local/lib/python3.8/dist-packages (from python-dateutil>=2.7.0->pystac-client) (1.15.0)\n",
            "Requirement already satisfied: certifi>=2017.4.17 in /usr/local/lib/python3.8/dist-packages (from requests>=2.27.1->pystac-client) (2022.12.7)\n",
            "Requirement already satisfied: urllib3<1.27,>=1.21.1 in /usr/local/lib/python3.8/dist-packages (from requests>=2.27.1->pystac-client) (1.26.14)\n",
            "Requirement already satisfied: idna<4,>=2.5 in /usr/local/lib/python3.8/dist-packages (from requests>=2.27.1->pystac-client) (2.10)\n",
            "Requirement already satisfied: charset-normalizer<4,>=2 in /usr/local/lib/python3.8/dist-packages (from requests>=2.27.1->pystac-client) (3.0.1)\n",
            "Installing collected packages: requests, pystac, pystac-client\n",
            "  Attempting uninstall: requests\n",
            "    Found existing installation: requests 2.25.1\n",
            "    Uninstalling requests-2.25.1:\n",
            "      Successfully uninstalled requests-2.25.1\n",
            "Successfully installed pystac-1.6.1 pystac-client-0.6.0 requests-2.28.2\n"
          ]
        }
      ],
      "source": [
        "pip install pystac-client"
      ]
    },
    {
      "cell_type": "code",
      "execution_count": null,
      "id": "_Uy9NNJ7XDYj",
      "metadata": {
        "colab": {
          "base_uri": "https://localhost:8080/"
        },
        "id": "_Uy9NNJ7XDYj",
        "outputId": "e438a4c4-f1aa-4eb7-b7b5-2ab2cecb7fc4"
      },
      "outputs": [
        {
          "name": "stdout",
          "output_type": "stream",
          "text": [
            "Looking in indexes: https://pypi.org/simple, https://us-python.pkg.dev/colab-wheels/public/simple/\n",
            "Collecting planetary-computer\n",
            "  Downloading planetary_computer-0.4.9-py3-none-any.whl (17 kB)\n",
            "Requirement already satisfied: requests>=2.25.1 in /usr/local/lib/python3.8/dist-packages (from planetary-computer) (2.28.2)\n",
            "Requirement already satisfied: pystac>=1.0.0 in /usr/local/lib/python3.8/dist-packages (from planetary-computer) (1.6.1)\n",
            "Requirement already satisfied: pystac-client>=0.2.0 in /usr/local/lib/python3.8/dist-packages (from planetary-computer) (0.6.0)\n",
            "Requirement already satisfied: pydantic[dotenv]>=1.7.3 in /usr/local/lib/python3.8/dist-packages (from planetary-computer) (1.10.5)\n",
            "Requirement already satisfied: pytz>=2020.5 in /usr/local/lib/python3.8/dist-packages (from planetary-computer) (2022.7.1)\n",
            "Requirement already satisfied: click>=7.1 in /usr/local/lib/python3.8/dist-packages (from planetary-computer) (8.1.3)\n",
            "Requirement already satisfied: typing-extensions>=4.2.0 in /usr/local/lib/python3.8/dist-packages (from pydantic[dotenv]>=1.7.3->planetary-computer) (4.5.0)\n",
            "Collecting python-dotenv>=0.10.4\n",
            "  Downloading python_dotenv-1.0.0-py3-none-any.whl (19 kB)\n",
            "Requirement already satisfied: python-dateutil>=2.7.0 in /usr/local/lib/python3.8/dist-packages (from pystac>=1.0.0->planetary-computer) (2.8.2)\n",
            "Requirement already satisfied: certifi>=2017.4.17 in /usr/local/lib/python3.8/dist-packages (from requests>=2.25.1->planetary-computer) (2022.12.7)\n",
            "Requirement already satisfied: charset-normalizer<4,>=2 in /usr/local/lib/python3.8/dist-packages (from requests>=2.25.1->planetary-computer) (3.0.1)\n",
            "Requirement already satisfied: idna<4,>=2.5 in /usr/local/lib/python3.8/dist-packages (from requests>=2.25.1->planetary-computer) (2.10)\n",
            "Requirement already satisfied: urllib3<1.27,>=1.21.1 in /usr/local/lib/python3.8/dist-packages (from requests>=2.25.1->planetary-computer) (1.26.14)\n",
            "Requirement already satisfied: six>=1.5 in /usr/local/lib/python3.8/dist-packages (from python-dateutil>=2.7.0->pystac>=1.0.0->planetary-computer) (1.15.0)\n",
            "Installing collected packages: python-dotenv, planetary-computer\n",
            "Successfully installed planetary-computer-0.4.9 python-dotenv-1.0.0\n"
          ]
        }
      ],
      "source": [
        "pip install planetary-computer"
      ]
    },
    {
      "cell_type": "code",
      "execution_count": null,
      "id": "nd16zVWfXI54",
      "metadata": {
        "colab": {
          "base_uri": "https://localhost:8080/"
        },
        "id": "nd16zVWfXI54",
        "outputId": "f345d1bf-8612-4ea8-9245-2ea55eff3cd1"
      },
      "outputs": [
        {
          "name": "stdout",
          "output_type": "stream",
          "text": [
            "Looking in indexes: https://pypi.org/simple, https://us-python.pkg.dev/colab-wheels/public/simple/\n",
            "Collecting odc-stac\n",
            "  Downloading odc_stac-0.3.5-py3-none-any.whl (55 kB)\n",
            "\u001b[2K     \u001b[90m━━━━━━━━━━━━━━━━━━━━━━━━━━━━━━━━━━━━━━━━\u001b[0m \u001b[32m55.9/55.9 KB\u001b[0m \u001b[31m5.3 MB/s\u001b[0m eta \u001b[36m0:00:00\u001b[0m\n",
            "\u001b[?25hRequirement already satisfied: dask[array] in /usr/local/lib/python3.8/dist-packages (from odc-stac) (2022.2.1)\n",
            "Requirement already satisfied: rasterio!=1.3.0,!=1.3.1,>=1.0.0 in /usr/local/lib/python3.8/dist-packages (from odc-stac) (1.3.6)\n",
            "Collecting odc-geo>=0.3.0\n",
            "  Downloading odc_geo-0.3.3-py3-none-any.whl (114 kB)\n",
            "\u001b[2K     \u001b[90m━━━━━━━━━━━━━━━━━━━━━━━━━━━━━━━━━━━━━━\u001b[0m \u001b[32m114.4/114.4 KB\u001b[0m \u001b[31m13.4 MB/s\u001b[0m eta \u001b[36m0:00:00\u001b[0m\n",
            "\u001b[?25hRequirement already satisfied: toolz in /usr/local/lib/python3.8/dist-packages (from odc-stac) (0.12.0)\n",
            "Requirement already satisfied: xarray>=0.19 in /usr/local/lib/python3.8/dist-packages (from odc-stac) (2022.12.0)\n",
            "Requirement already satisfied: affine in /usr/local/lib/python3.8/dist-packages (from odc-stac) (2.4.0)\n",
            "Requirement already satisfied: pandas in /usr/local/lib/python3.8/dist-packages (from odc-stac) (1.3.5)\n",
            "Requirement already satisfied: pystac<2,>=1.0.0 in /usr/local/lib/python3.8/dist-packages (from odc-stac) (1.6.1)\n",
            "Requirement already satisfied: numpy>=1.20.0 in /usr/local/lib/python3.8/dist-packages (from odc-stac) (1.22.4)\n",
            "Requirement already satisfied: cachetools in /usr/local/lib/python3.8/dist-packages (from odc-geo>=0.3.0->odc-stac) (5.3.0)\n",
            "Requirement already satisfied: shapely in /usr/local/lib/python3.8/dist-packages (from odc-geo>=0.3.0->odc-stac) (2.0.1)\n",
            "Requirement already satisfied: pyproj>=3.0.0 in /usr/local/lib/python3.8/dist-packages (from odc-geo>=0.3.0->odc-stac) (3.4.1)\n",
            "Requirement already satisfied: python-dateutil>=2.7.0 in /usr/local/lib/python3.8/dist-packages (from pystac<2,>=1.0.0->odc-stac) (2.8.2)\n",
            "Requirement already satisfied: setuptools in /usr/local/lib/python3.8/dist-packages (from rasterio!=1.3.0,!=1.3.1,>=1.0.0->odc-stac) (57.4.0)\n",
            "Requirement already satisfied: attrs in /usr/local/lib/python3.8/dist-packages (from rasterio!=1.3.0,!=1.3.1,>=1.0.0->odc-stac) (22.2.0)\n",
            "Requirement already satisfied: certifi in /usr/local/lib/python3.8/dist-packages (from rasterio!=1.3.0,!=1.3.1,>=1.0.0->odc-stac) (2022.12.7)\n",
            "Requirement already satisfied: cligj>=0.5 in /usr/local/lib/python3.8/dist-packages (from rasterio!=1.3.0,!=1.3.1,>=1.0.0->odc-stac) (0.7.2)\n",
            "Requirement already satisfied: snuggs>=1.4.1 in /usr/local/lib/python3.8/dist-packages (from rasterio!=1.3.0,!=1.3.1,>=1.0.0->odc-stac) (1.4.7)\n",
            "Requirement already satisfied: click>=4.0 in /usr/local/lib/python3.8/dist-packages (from rasterio!=1.3.0,!=1.3.1,>=1.0.0->odc-stac) (8.1.3)\n",
            "Requirement already satisfied: click-plugins in /usr/local/lib/python3.8/dist-packages (from rasterio!=1.3.0,!=1.3.1,>=1.0.0->odc-stac) (1.1.1)\n",
            "Requirement already satisfied: packaging>=21.3 in /usr/local/lib/python3.8/dist-packages (from xarray>=0.19->odc-stac) (23.0)\n",
            "Requirement already satisfied: pytz>=2017.3 in /usr/local/lib/python3.8/dist-packages (from pandas->odc-stac) (2022.7.1)\n",
            "Requirement already satisfied: partd>=0.3.10 in /usr/local/lib/python3.8/dist-packages (from dask[array]->odc-stac) (1.3.0)\n",
            "Requirement already satisfied: fsspec>=0.6.0 in /usr/local/lib/python3.8/dist-packages (from dask[array]->odc-stac) (2023.1.0)\n",
            "Requirement already satisfied: pyyaml>=5.3.1 in /usr/local/lib/python3.8/dist-packages (from dask[array]->odc-stac) (6.0)\n",
            "Requirement already satisfied: cloudpickle>=1.1.1 in /usr/local/lib/python3.8/dist-packages (from dask[array]->odc-stac) (2.2.1)\n",
            "Requirement already satisfied: locket in /usr/local/lib/python3.8/dist-packages (from partd>=0.3.10->dask[array]->odc-stac) (1.0.0)\n",
            "Requirement already satisfied: six>=1.5 in /usr/local/lib/python3.8/dist-packages (from python-dateutil>=2.7.0->pystac<2,>=1.0.0->odc-stac) (1.15.0)\n",
            "Requirement already satisfied: pyparsing>=2.1.6 in /usr/local/lib/python3.8/dist-packages (from snuggs>=1.4.1->rasterio!=1.3.0,!=1.3.1,>=1.0.0->odc-stac) (3.0.9)\n",
            "Installing collected packages: odc-geo, odc-stac\n",
            "Successfully installed odc-geo-0.3.3 odc-stac-0.3.5\n"
          ]
        }
      ],
      "source": [
        "pip install odc-stac"
      ]
    },
    {
      "cell_type": "code",
      "execution_count": null,
      "id": "ZoGzt2naXN0x",
      "metadata": {
        "colab": {
          "base_uri": "https://localhost:8080/"
        },
        "id": "ZoGzt2naXN0x",
        "outputId": "26a7d3be-d2a7-4603-be0b-2666ea3efa6b"
      },
      "outputs": [
        {
          "name": "stdout",
          "output_type": "stream",
          "text": [
            "Looking in indexes: https://pypi.org/simple, https://us-python.pkg.dev/colab-wheels/public/simple/\n",
            "Collecting odc-algo\n",
            "  Downloading odc_algo-0.2.3-py3-none-any.whl (52 kB)\n",
            "\u001b[2K     \u001b[90m━━━━━━━━━━━━━━━━━━━━━━━━━━━━━━━━━━━━━━━━\u001b[0m \u001b[32m52.0/52.0 KB\u001b[0m \u001b[31m7.0 MB/s\u001b[0m eta \u001b[36m0:00:00\u001b[0m\n",
            "\u001b[?25hRequirement already satisfied: numpy in /usr/local/lib/python3.8/dist-packages (from odc-algo) (1.22.4)\n",
            "Requirement already satisfied: xarray in /usr/local/lib/python3.8/dist-packages (from odc-algo) (2022.12.0)\n",
            "Requirement already satisfied: affine in /usr/local/lib/python3.8/dist-packages (from odc-algo) (2.4.0)\n",
            "Requirement already satisfied: distributed in /usr/local/lib/python3.8/dist-packages (from odc-algo) (2022.2.1)\n",
            "Requirement already satisfied: toolz in /usr/local/lib/python3.8/dist-packages (from odc-algo) (0.12.0)\n",
            "Requirement already satisfied: dask in /usr/local/lib/python3.8/dist-packages (from odc-algo) (2022.2.1)\n",
            "Requirement already satisfied: scikit-image in /usr/local/lib/python3.8/dist-packages (from odc-algo) (0.19.3)\n",
            "Collecting dask-image\n",
            "  Downloading dask-image-2022.9.0.tar.gz (82 kB)\n",
            "\u001b[2K     \u001b[90m━━━━━━━━━━━━━━━━━━━━━━━━━━━━━━━━━━━━━━━━\u001b[0m \u001b[32m82.7/82.7 KB\u001b[0m \u001b[31m11.5 MB/s\u001b[0m eta \u001b[36m0:00:00\u001b[0m\n",
            "\u001b[?25h  Preparing metadata (setup.py) ... \u001b[?25l\u001b[?25hdone\n",
            "Collecting datacube>=1.8.5\n",
            "  Downloading datacube-1.8.11-py2.py3-none-any.whl (371 kB)\n",
            "\u001b[2K     \u001b[90m━━━━━━━━━━━━━━━━━━━━━━━━━━━━━━━━━━━━━━\u001b[0m \u001b[32m371.2/371.2 KB\u001b[0m \u001b[31m39.0 MB/s\u001b[0m eta \u001b[36m0:00:00\u001b[0m\n",
            "\u001b[?25hRequirement already satisfied: numexpr in /usr/local/lib/python3.8/dist-packages (from odc-algo) (2.8.4)\n",
            "Requirement already satisfied: rasterio>=1.3.2 in /usr/local/lib/python3.8/dist-packages (from odc-algo) (1.3.6)\n",
            "Collecting lark\n",
            "  Downloading lark-1.1.5-py3-none-any.whl (107 kB)\n",
            "\u001b[2K     \u001b[90m━━━━━━━━━━━━━━━━━━━━━━━━━━━━━━━━━━━━━━\u001b[0m \u001b[32m108.0/108.0 KB\u001b[0m \u001b[31m16.4 MB/s\u001b[0m eta \u001b[36m0:00:00\u001b[0m\n",
            "\u001b[?25hRequirement already satisfied: packaging in /usr/local/lib/python3.8/dist-packages (from datacube>=1.8.5->odc-algo) (23.0)\n",
            "Requirement already satisfied: python-dateutil in /usr/local/lib/python3.8/dist-packages (from datacube>=1.8.5->odc-algo) (2.8.2)\n",
            "Collecting GeoAlchemy2\n",
            "  Downloading GeoAlchemy2-0.13.1-py3-none-any.whl (43 kB)\n",
            "\u001b[2K     \u001b[90m━━━━━━━━━━━━━━━━━━━━━━━━━━━━━━━━━━━━━━━━\u001b[0m \u001b[32m43.1/43.1 KB\u001b[0m \u001b[31m5.2 MB/s\u001b[0m eta \u001b[36m0:00:00\u001b[0m\n",
            "\u001b[?25hRequirement already satisfied: cloudpickle>=0.4 in /usr/local/lib/python3.8/dist-packages (from datacube>=1.8.5->odc-algo) (2.2.1)\n",
            "Requirement already satisfied: netcdf4 in /usr/local/lib/python3.8/dist-packages (from datacube>=1.8.5->odc-algo) (1.6.2)\n",
            "Requirement already satisfied: cachetools in /usr/local/lib/python3.8/dist-packages (from datacube>=1.8.5->odc-algo) (5.3.0)\n",
            "Requirement already satisfied: psycopg2 in /usr/local/lib/python3.8/dist-packages (from datacube>=1.8.5->odc-algo) (2.9.5)\n",
            "Requirement already satisfied: pyyaml in /usr/local/lib/python3.8/dist-packages (from datacube>=1.8.5->odc-algo) (6.0)\n",
            "Requirement already satisfied: pandas in /usr/local/lib/python3.8/dist-packages (from datacube>=1.8.5->odc-algo) (1.3.5)\n",
            "Requirement already satisfied: attrs>=18.1 in /usr/local/lib/python3.8/dist-packages (from datacube>=1.8.5->odc-algo) (22.2.0)\n",
            "Requirement already satisfied: pyproj>=2.5 in /usr/local/lib/python3.8/dist-packages (from datacube>=1.8.5->odc-algo) (3.4.1)\n",
            "Requirement already satisfied: sqlalchemy<2.0,>=1.4 in /usr/local/lib/python3.8/dist-packages (from datacube>=1.8.5->odc-algo) (1.4.46)\n",
            "Requirement already satisfied: shapely>=2.0 in /usr/local/lib/python3.8/dist-packages (from datacube>=1.8.5->odc-algo) (2.0.1)\n",
            "Collecting ruamel.yaml\n",
            "  Downloading ruamel.yaml-0.17.21-py3-none-any.whl (109 kB)\n",
            "\u001b[2K     \u001b[90m━━━━━━━━━━━━━━━━━━━━━━━━━━━━━━━━━━━━━━\u001b[0m \u001b[32m109.5/109.5 KB\u001b[0m \u001b[31m16.3 MB/s\u001b[0m eta \u001b[36m0:00:00\u001b[0m\n",
            "\u001b[?25hRequirement already satisfied: jsonschema in /usr/local/lib/python3.8/dist-packages (from datacube>=1.8.5->odc-algo) (4.3.3)\n",
            "Requirement already satisfied: click>=5.0 in /usr/local/lib/python3.8/dist-packages (from datacube>=1.8.5->odc-algo) (8.1.3)\n",
            "Requirement already satisfied: setuptools in /usr/local/lib/python3.8/dist-packages (from rasterio>=1.3.2->odc-algo) (57.4.0)\n",
            "Requirement already satisfied: snuggs>=1.4.1 in /usr/local/lib/python3.8/dist-packages (from rasterio>=1.3.2->odc-algo) (1.4.7)\n",
            "Requirement already satisfied: certifi in /usr/local/lib/python3.8/dist-packages (from rasterio>=1.3.2->odc-algo) (2022.12.7)\n",
            "Requirement already satisfied: click-plugins in /usr/local/lib/python3.8/dist-packages (from rasterio>=1.3.2->odc-algo) (1.1.1)\n",
            "Requirement already satisfied: cligj>=0.5 in /usr/local/lib/python3.8/dist-packages (from rasterio>=1.3.2->odc-algo) (0.7.2)\n",
            "Requirement already satisfied: fsspec>=0.6.0 in /usr/local/lib/python3.8/dist-packages (from dask->odc-algo) (2023.1.0)\n",
            "Requirement already satisfied: partd>=0.3.10 in /usr/local/lib/python3.8/dist-packages (from dask->odc-algo) (1.3.0)\n",
            "Requirement already satisfied: scipy>=0.19.1 in /usr/local/lib/python3.8/dist-packages (from dask-image->odc-algo) (1.10.1)\n",
            "Collecting pims>=0.4.1\n",
            "  Downloading PIMS-0.6.1.tar.gz (86 kB)\n",
            "\u001b[2K     \u001b[90m━━━━━━━━━━━━━━━━━━━━━━━━━━━━━━━━━━━━━━━━\u001b[0m \u001b[32m86.0/86.0 KB\u001b[0m \u001b[31m5.9 MB/s\u001b[0m eta \u001b[36m0:00:00\u001b[0m\n",
            "\u001b[?25h  Preparing metadata (setup.py) ... \u001b[?25l\u001b[?25hdone\n",
            "Requirement already satisfied: psutil>=5.0 in /usr/local/lib/python3.8/dist-packages (from distributed->odc-algo) (5.4.8)\n",
            "Requirement already satisfied: jinja2 in /usr/local/lib/python3.8/dist-packages (from distributed->odc-algo) (3.1.2)\n",
            "Requirement already satisfied: sortedcontainers!=2.0.0,!=2.0.1 in /usr/local/lib/python3.8/dist-packages (from distributed->odc-algo) (2.4.0)\n",
            "Requirement already satisfied: tornado>=6.0.3 in /usr/local/lib/python3.8/dist-packages (from distributed->odc-algo) (6.2)\n",
            "Requirement already satisfied: zict>=0.1.3 in /usr/local/lib/python3.8/dist-packages (from distributed->odc-algo) (2.2.0)\n",
            "Requirement already satisfied: msgpack>=0.6.0 in /usr/local/lib/python3.8/dist-packages (from distributed->odc-algo) (1.0.4)\n",
            "Requirement already satisfied: tblib>=1.6.0 in /usr/local/lib/python3.8/dist-packages (from distributed->odc-algo) (1.7.0)\n",
            "Requirement already satisfied: PyWavelets>=1.1.1 in /usr/local/lib/python3.8/dist-packages (from scikit-image->odc-algo) (1.4.1)\n",
            "Requirement already satisfied: imageio>=2.4.1 in /usr/local/lib/python3.8/dist-packages (from scikit-image->odc-algo) (2.9.0)\n",
            "Requirement already satisfied: pillow!=7.1.0,!=7.1.1,!=8.3.0,>=6.1.0 in /usr/local/lib/python3.8/dist-packages (from scikit-image->odc-algo) (8.4.0)\n",
            "Requirement already satisfied: tifffile>=2019.7.26 in /usr/local/lib/python3.8/dist-packages (from scikit-image->odc-algo) (2023.2.27)\n",
            "Requirement already satisfied: networkx>=2.2 in /usr/local/lib/python3.8/dist-packages (from scikit-image->odc-algo) (3.0)\n",
            "Requirement already satisfied: pytz>=2017.3 in /usr/local/lib/python3.8/dist-packages (from pandas->datacube>=1.8.5->odc-algo) (2022.7.1)\n",
            "Requirement already satisfied: locket in /usr/local/lib/python3.8/dist-packages (from partd>=0.3.10->dask->odc-algo) (1.0.0)\n",
            "Collecting slicerator>=0.9.8\n",
            "  Downloading slicerator-1.1.0-py3-none-any.whl (10 kB)\n",
            "Requirement already satisfied: six>=1.5 in /usr/local/lib/python3.8/dist-packages (from python-dateutil->datacube>=1.8.5->odc-algo) (1.15.0)\n",
            "Requirement already satisfied: pyparsing>=2.1.6 in /usr/local/lib/python3.8/dist-packages (from snuggs>=1.4.1->rasterio>=1.3.2->odc-algo) (3.0.9)\n",
            "Requirement already satisfied: greenlet!=0.4.17 in /usr/local/lib/python3.8/dist-packages (from sqlalchemy<2.0,>=1.4->datacube>=1.8.5->odc-algo) (2.0.2)\n",
            "Requirement already satisfied: heapdict in /usr/local/lib/python3.8/dist-packages (from zict>=0.1.3->distributed->odc-algo) (1.0.1)\n",
            "Requirement already satisfied: MarkupSafe>=2.0 in /usr/local/lib/python3.8/dist-packages (from jinja2->distributed->odc-algo) (2.1.2)\n",
            "Requirement already satisfied: pyrsistent!=0.17.0,!=0.17.1,!=0.17.2,>=0.14.0 in /usr/local/lib/python3.8/dist-packages (from jsonschema->datacube>=1.8.5->odc-algo) (0.19.3)\n",
            "Requirement already satisfied: importlib-resources>=1.4.0 in /usr/local/lib/python3.8/dist-packages (from jsonschema->datacube>=1.8.5->odc-algo) (5.12.0)\n",
            "Requirement already satisfied: cftime in /usr/local/lib/python3.8/dist-packages (from netcdf4->datacube>=1.8.5->odc-algo) (1.6.2)\n",
            "Collecting ruamel.yaml.clib>=0.2.6\n",
            "  Downloading ruamel.yaml.clib-0.2.7-cp38-cp38-manylinux_2_17_x86_64.manylinux2014_x86_64.manylinux_2_24_x86_64.whl (555 kB)\n",
            "\u001b[2K     \u001b[90m━━━━━━━━━━━━━━━━━━━━━━━━━━━━━━━━━━━━━━\u001b[0m \u001b[32m555.3/555.3 KB\u001b[0m \u001b[31m38.8 MB/s\u001b[0m eta \u001b[36m0:00:00\u001b[0m\n",
            "\u001b[?25hRequirement already satisfied: zipp>=3.1.0 in /usr/local/lib/python3.8/dist-packages (from importlib-resources>=1.4.0->jsonschema->datacube>=1.8.5->odc-algo) (3.15.0)\n",
            "Building wheels for collected packages: dask-image, pims\n",
            "  Building wheel for dask-image (setup.py) ... \u001b[?25l\u001b[?25hdone\n",
            "  Created wheel for dask-image: filename=dask_image-2022.9.0-py2.py3-none-any.whl size=41053 sha256=140d40ac7cd85fdee63939ca35a29d6a947dcf71770813e1e0f5d71aa86b3331\n",
            "  Stored in directory: /root/.cache/pip/wheels/1c/4e/15/f3d866f4869ff1a86d2b7fa532056f0e94fdab2448be7bd51c\n",
            "  Building wheel for pims (setup.py) ... \u001b[?25l\u001b[?25hdone\n",
            "  Created wheel for pims: filename=PIMS-0.6.1-py3-none-any.whl size=82635 sha256=21f00eac4daeab59144bbf82f7266d2f357f83f680a57917d2ccadffd7ef5ade\n",
            "  Stored in directory: /root/.cache/pip/wheels/5c/bd/a9/9cede777cb4fcdd2ba712cdb0d0c9082aba544322eb5ad7af1\n",
            "Successfully built dask-image pims\n",
            "Installing collected packages: slicerator, lark, ruamel.yaml.clib, ruamel.yaml, pims, GeoAlchemy2, datacube, dask-image, odc-algo\n",
            "Successfully installed GeoAlchemy2-0.13.1 dask-image-2022.9.0 datacube-1.8.11 lark-1.1.5 odc-algo-0.2.3 pims-0.6.1 ruamel.yaml-0.17.21 ruamel.yaml.clib-0.2.7 slicerator-1.1.0\n"
          ]
        }
      ],
      "source": [
        "pip install odc-algo"
      ]
    },
    {
      "cell_type": "markdown",
      "id": "KnMJW1sXMt7Y",
      "metadata": {
        "id": "KnMJW1sXMt7Y"
      },
      "source": [
        "#### Load the necessary libraries"
      ]
    },
    {
      "cell_type": "code",
      "execution_count": null,
      "id": "036e2e6d",
      "metadata": {
        "id": "036e2e6d"
      },
      "outputs": [],
      "source": [
        "# Supress Warnings \n",
        "import warnings\n",
        "warnings.filterwarnings('ignore')\n",
        "\n",
        "# Import common GIS tools\n",
        "import numpy as np\n",
        "import pandas as pd\n",
        "import xarray as xr\n",
        "import matplotlib.pyplot as plt\n",
        "import rasterio.features\n",
        "import rioxarray as rio\n",
        "import xrspatial.multispectral as ms\n",
        "\n",
        "# Import Planetary Computer tools\n",
        "import pystac_client\n",
        "import planetary_computer as pc\n",
        "pc.settings.set_subscription_key('99d0028b4d864147958f0b6b44663e5f')\n",
        "#import odc\n",
        "from odc.stac import stac_load\n",
        "from odc.algo import to_rgba\n",
        "from tqdm import tqdm\n",
        "\n",
        "# For finetuning ResNet-18\n",
        "import torch\n",
        "import torch.nn as nn\n",
        "import torch.optim as optim\n",
        "import torchvision\n",
        "from torchvision import models\n",
        "from torch.utils.data import DataLoader, TensorDataset\n",
        "\n",
        "device = torch.device(\"cuda:0\" if torch.cuda.is_available() else \"cpu\")\n",
        "\n",
        "import time"
      ]
    },
    {
      "cell_type": "markdown",
      "id": "5NPbfLO2MMs7",
      "metadata": {
        "id": "5NPbfLO2MMs7"
      },
      "source": [
        "#### Get the data from drive "
      ]
    },
    {
      "cell_type": "code",
      "execution_count": null,
      "id": "i9Btvbg3DDWf",
      "metadata": {
        "colab": {
          "base_uri": "https://localhost:8080/"
        },
        "id": "i9Btvbg3DDWf",
        "outputId": "e6aaeb45-c873-48f8-d93f-8bfda3c969c4"
      },
      "outputs": [
        {
          "name": "stdout",
          "output_type": "stream",
          "text": [
            "Mounted at /content/drive\n"
          ]
        }
      ],
      "source": [
        "from google.colab import drive\n",
        "drive.mount('/content/drive')"
      ]
    },
    {
      "cell_type": "code",
      "execution_count": null,
      "id": "fb2bb9d9",
      "metadata": {
        "id": "fb2bb9d9"
      },
      "outputs": [],
      "source": [
        "crop_presence_data = pd.read_csv(\"/content/drive/MyDrive/Crop_Location_Data_20221201.csv\")"
      ]
    },
    {
      "cell_type": "code",
      "execution_count": null,
      "id": "a57bd8cd",
      "metadata": {
        "id": "a57bd8cd"
      },
      "outputs": [],
      "source": [
        "crop_presence_data[\"Latitude\"] = crop_presence_data[\"Latitude and Longitude\"].apply(lambda x: float(x[1:-1].split(\",\")[0]))\n",
        "crop_presence_data[\"Longitude\"] = crop_presence_data[\"Latitude and Longitude\"].apply(lambda x: float(x[1:-1].split(\",\")[1]))"
      ]
    },
    {
      "cell_type": "code",
      "execution_count": null,
      "id": "7cc9bf5d",
      "metadata": {
        "id": "7cc9bf5d"
      },
      "outputs": [],
      "source": [
        "crop_presence_data[\"Class\"] = crop_presence_data[\"Class of Land\"].apply(lambda x: 1 if x == \"Rice\" else 0)"
      ]
    },
    {
      "cell_type": "code",
      "execution_count": null,
      "id": "3ef5784a",
      "metadata": {
        "colab": {
          "base_uri": "https://localhost:8080/",
          "height": 204
        },
        "id": "3ef5784a",
        "outputId": "fe01b21e-5a9b-4eca-92ff-346deeaf9513"
      },
      "outputs": [
        {
          "data": {
            "text/html": [
              "\n",
              "  <div id=\"df-2cb3ac68-c714-4d46-b18a-e489dfd6f5a3\">\n",
              "    <div class=\"colab-df-container\">\n",
              "      <div>\n",
              "<style scoped>\n",
              "    .dataframe tbody tr th:only-of-type {\n",
              "        vertical-align: middle;\n",
              "    }\n",
              "\n",
              "    .dataframe tbody tr th {\n",
              "        vertical-align: top;\n",
              "    }\n",
              "\n",
              "    .dataframe thead th {\n",
              "        text-align: right;\n",
              "    }\n",
              "</style>\n",
              "<table border=\"1\" class=\"dataframe\">\n",
              "  <thead>\n",
              "    <tr style=\"text-align: right;\">\n",
              "      <th></th>\n",
              "      <th>Latitude and Longitude</th>\n",
              "      <th>Class of Land</th>\n",
              "      <th>Latitude</th>\n",
              "      <th>Longitude</th>\n",
              "      <th>Class</th>\n",
              "    </tr>\n",
              "  </thead>\n",
              "  <tbody>\n",
              "    <tr>\n",
              "      <th>0</th>\n",
              "      <td>(10.323727047081501, 105.2516346045924)</td>\n",
              "      <td>Rice</td>\n",
              "      <td>10.323727</td>\n",
              "      <td>105.251635</td>\n",
              "      <td>1</td>\n",
              "    </tr>\n",
              "    <tr>\n",
              "      <th>1</th>\n",
              "      <td>(10.322364360592521, 105.27843410554115)</td>\n",
              "      <td>Rice</td>\n",
              "      <td>10.322364</td>\n",
              "      <td>105.278434</td>\n",
              "      <td>1</td>\n",
              "    </tr>\n",
              "    <tr>\n",
              "      <th>2</th>\n",
              "      <td>(10.321455902933202, 105.25254306225168)</td>\n",
              "      <td>Rice</td>\n",
              "      <td>10.321456</td>\n",
              "      <td>105.252543</td>\n",
              "      <td>1</td>\n",
              "    </tr>\n",
              "    <tr>\n",
              "      <th>3</th>\n",
              "      <td>(10.324181275911162, 105.25118037576274)</td>\n",
              "      <td>Rice</td>\n",
              "      <td>10.324181</td>\n",
              "      <td>105.251180</td>\n",
              "      <td>1</td>\n",
              "    </tr>\n",
              "    <tr>\n",
              "      <th>4</th>\n",
              "      <td>(10.324635504740822, 105.27389181724476)</td>\n",
              "      <td>Rice</td>\n",
              "      <td>10.324636</td>\n",
              "      <td>105.273892</td>\n",
              "      <td>1</td>\n",
              "    </tr>\n",
              "  </tbody>\n",
              "</table>\n",
              "</div>\n",
              "      <button class=\"colab-df-convert\" onclick=\"convertToInteractive('df-2cb3ac68-c714-4d46-b18a-e489dfd6f5a3')\"\n",
              "              title=\"Convert this dataframe to an interactive table.\"\n",
              "              style=\"display:none;\">\n",
              "        \n",
              "  <svg xmlns=\"http://www.w3.org/2000/svg\" height=\"24px\"viewBox=\"0 0 24 24\"\n",
              "       width=\"24px\">\n",
              "    <path d=\"M0 0h24v24H0V0z\" fill=\"none\"/>\n",
              "    <path d=\"M18.56 5.44l.94 2.06.94-2.06 2.06-.94-2.06-.94-.94-2.06-.94 2.06-2.06.94zm-11 1L8.5 8.5l.94-2.06 2.06-.94-2.06-.94L8.5 2.5l-.94 2.06-2.06.94zm10 10l.94 2.06.94-2.06 2.06-.94-2.06-.94-.94-2.06-.94 2.06-2.06.94z\"/><path d=\"M17.41 7.96l-1.37-1.37c-.4-.4-.92-.59-1.43-.59-.52 0-1.04.2-1.43.59L10.3 9.45l-7.72 7.72c-.78.78-.78 2.05 0 2.83L4 21.41c.39.39.9.59 1.41.59.51 0 1.02-.2 1.41-.59l7.78-7.78 2.81-2.81c.8-.78.8-2.07 0-2.86zM5.41 20L4 18.59l7.72-7.72 1.47 1.35L5.41 20z\"/>\n",
              "  </svg>\n",
              "      </button>\n",
              "      \n",
              "  <style>\n",
              "    .colab-df-container {\n",
              "      display:flex;\n",
              "      flex-wrap:wrap;\n",
              "      gap: 12px;\n",
              "    }\n",
              "\n",
              "    .colab-df-convert {\n",
              "      background-color: #E8F0FE;\n",
              "      border: none;\n",
              "      border-radius: 50%;\n",
              "      cursor: pointer;\n",
              "      display: none;\n",
              "      fill: #1967D2;\n",
              "      height: 32px;\n",
              "      padding: 0 0 0 0;\n",
              "      width: 32px;\n",
              "    }\n",
              "\n",
              "    .colab-df-convert:hover {\n",
              "      background-color: #E2EBFA;\n",
              "      box-shadow: 0px 1px 2px rgba(60, 64, 67, 0.3), 0px 1px 3px 1px rgba(60, 64, 67, 0.15);\n",
              "      fill: #174EA6;\n",
              "    }\n",
              "\n",
              "    [theme=dark] .colab-df-convert {\n",
              "      background-color: #3B4455;\n",
              "      fill: #D2E3FC;\n",
              "    }\n",
              "\n",
              "    [theme=dark] .colab-df-convert:hover {\n",
              "      background-color: #434B5C;\n",
              "      box-shadow: 0px 1px 3px 1px rgba(0, 0, 0, 0.15);\n",
              "      filter: drop-shadow(0px 1px 2px rgba(0, 0, 0, 0.3));\n",
              "      fill: #FFFFFF;\n",
              "    }\n",
              "  </style>\n",
              "\n",
              "      <script>\n",
              "        const buttonEl =\n",
              "          document.querySelector('#df-2cb3ac68-c714-4d46-b18a-e489dfd6f5a3 button.colab-df-convert');\n",
              "        buttonEl.style.display =\n",
              "          google.colab.kernel.accessAllowed ? 'block' : 'none';\n",
              "\n",
              "        async function convertToInteractive(key) {\n",
              "          const element = document.querySelector('#df-2cb3ac68-c714-4d46-b18a-e489dfd6f5a3');\n",
              "          const dataTable =\n",
              "            await google.colab.kernel.invokeFunction('convertToInteractive',\n",
              "                                                     [key], {});\n",
              "          if (!dataTable) return;\n",
              "\n",
              "          const docLinkHtml = 'Like what you see? Visit the ' +\n",
              "            '<a target=\"_blank\" href=https://colab.research.google.com/notebooks/data_table.ipynb>data table notebook</a>'\n",
              "            + ' to learn more about interactive tables.';\n",
              "          element.innerHTML = '';\n",
              "          dataTable['output_type'] = 'display_data';\n",
              "          await google.colab.output.renderOutput(dataTable, element);\n",
              "          const docLink = document.createElement('div');\n",
              "          docLink.innerHTML = docLinkHtml;\n",
              "          element.appendChild(docLink);\n",
              "        }\n",
              "      </script>\n",
              "    </div>\n",
              "  </div>\n",
              "  "
            ],
            "text/plain": [
              "                     Latitude and Longitude Class of Land   Latitude  \\\n",
              "0   (10.323727047081501, 105.2516346045924)          Rice  10.323727   \n",
              "1  (10.322364360592521, 105.27843410554115)          Rice  10.322364   \n",
              "2  (10.321455902933202, 105.25254306225168)          Rice  10.321456   \n",
              "3  (10.324181275911162, 105.25118037576274)          Rice  10.324181   \n",
              "4  (10.324635504740822, 105.27389181724476)          Rice  10.324636   \n",
              "\n",
              "    Longitude  Class  \n",
              "0  105.251635      1  \n",
              "1  105.278434      1  \n",
              "2  105.252543      1  \n",
              "3  105.251180      1  \n",
              "4  105.273892      1  "
            ]
          },
          "execution_count": 13,
          "metadata": {},
          "output_type": "execute_result"
        }
      ],
      "source": [
        "crop_presence_data.head()"
      ]
    },
    {
      "cell_type": "markdown",
      "id": "riKF2nIyMZas",
      "metadata": {
        "id": "riKF2nIyMZas"
      },
      "source": [
        "#### Get satellite data based on latitude and longitude"
      ]
    },
    {
      "cell_type": "code",
      "execution_count": null,
      "id": "9f85fba9",
      "metadata": {
        "id": "9f85fba9"
      },
      "outputs": [],
      "source": [
        "box_size_deg = 0.10\n",
        "resolution = 20  # meters per pixel \n",
        "scale = resolution / 111320.0 # degrees per pixel for CRS:4326 \n",
        "stac = pystac_client.Client.open(\"https://planetarycomputer.microsoft.com/api/stac/v1\")"
      ]
    },
    {
      "cell_type": "code",
      "execution_count": null,
      "id": "0cea0566",
      "metadata": {
        "id": "0cea0566"
      },
      "outputs": [],
      "source": [
        "def get_data_latlong(lat, long, time_window):\n",
        "    min_lon = long-box_size_deg/2\n",
        "    min_lat = lat-box_size_deg/2\n",
        "    max_lon = long+box_size_deg/2\n",
        "    max_lat = lat+box_size_deg/2\n",
        "    bounds = (min_lon, min_lat, max_lon, max_lat)\n",
        "    search = stac.search(collections=[\"sentinel-2-l2a\"], bbox=bounds, datetime=time_window)\n",
        "    items = list(search.get_all_items())\n",
        "    xx = stac_load(\n",
        "        items,\n",
        "        bands=[\"red\", \"green\", \"blue\", \"nir\", \"SCL\"],\n",
        "        crs=\"EPSG:4326\", # Latitude-Longitude\n",
        "        resolution=scale, # Degrees\n",
        "        chunks={\"x\": 2048, \"y\": 2048},\n",
        "        dtype=\"uint16\",\n",
        "        patch_url=pc.sign,\n",
        "        bbox=bounds\n",
        "    )\n",
        "    return xx"
      ]
    },
    {
      "cell_type": "code",
      "execution_count": null,
      "id": "0d72f613",
      "metadata": {
        "id": "0d72f613"
      },
      "outputs": [],
      "source": [
        "lat_arr = crop_presence_data[\"Latitude\"]\n",
        "long_arr = crop_presence_data[\"Longitude\"]"
      ]
    },
    {
      "cell_type": "code",
      "execution_count": null,
      "id": "202b3274",
      "metadata": {
        "colab": {
          "base_uri": "https://localhost:8080/"
        },
        "id": "202b3274",
        "outputId": "cb7e2603-318a-4852-bf17-28da97ce53c6",
        "scrolled": true
      },
      "outputs": [
        {
          "name": "stderr",
          "output_type": "stream",
          "text": [
            "Running: 100%|██████████| 600/600 [02:42<00:00,  3.69it/s]\n"
          ]
        }
      ],
      "source": [
        "xx_lst_1 = [0]*len(crop_presence_data)\n",
        "stac = pystac_client.Client.open(\"https://planetarycomputer.microsoft.com/api/stac/v1\")\n",
        "for inx in tqdm(range(len(crop_presence_data)), desc = \"Running\"):\n",
        "    xx = get_data_latlong(lat_arr[inx], long_arr[inx], \"2021-05-29/2021-05-30\")\n",
        "    xx_lst_1[inx] = xx"
      ]
    },
    {
      "cell_type": "code",
      "execution_count": null,
      "id": "euF4whacDfa7",
      "metadata": {
        "colab": {
          "base_uri": "https://localhost:8080/"
        },
        "id": "euF4whacDfa7",
        "outputId": "acb3451f-433c-4830-bc01-9539ff67cb02"
      },
      "outputs": [
        {
          "name": "stderr",
          "output_type": "stream",
          "text": [
            "Running: 100%|██████████| 600/600 [02:43<00:00,  3.67it/s]\n"
          ]
        }
      ],
      "source": [
        "xx_lst_2 = [0]*len(crop_presence_data)\n",
        "stac = pystac_client.Client.open(\"https://planetarycomputer.microsoft.com/api/stac/v1\")\n",
        "for inx in tqdm(range(len(crop_presence_data)), desc = \"Running\"):\n",
        "    xx = get_data_latlong(lat_arr[inx], long_arr[inx], \"2021-07-29/2021-07-30\")\n",
        "    xx_lst_2[inx] = xx"
      ]
    },
    {
      "cell_type": "code",
      "execution_count": null,
      "id": "IlckSmPcDfkf",
      "metadata": {
        "colab": {
          "base_uri": "https://localhost:8080/"
        },
        "id": "IlckSmPcDfkf",
        "outputId": "a7ddddc4-fec7-46b3-933d-279817c1e3db"
      },
      "outputs": [
        {
          "name": "stderr",
          "output_type": "stream",
          "text": [
            "Running: 100%|██████████| 600/600 [02:44<00:00,  3.65it/s]\n"
          ]
        }
      ],
      "source": [
        "xx_lst_3 = [0]*len(crop_presence_data)\n",
        "stac = pystac_client.Client.open(\"https://planetarycomputer.microsoft.com/api/stac/v1\")\n",
        "for inx in tqdm(range(len(crop_presence_data)), desc = \"Running\"):\n",
        "    xx = get_data_latlong(lat_arr[inx], long_arr[inx], \"2021-08-27/2021-08-28\")\n",
        "    xx_lst_3[inx] = xx"
      ]
    },
    {
      "cell_type": "markdown",
      "id": "b2SBKs29NWNb",
      "metadata": {
        "id": "b2SBKs29NWNb"
      },
      "source": [
        "Need to divide 600 location to 3 batchs in order to make the code works"
      ]
    },
    {
      "cell_type": "code",
      "execution_count": null,
      "id": "3649519a",
      "metadata": {
        "colab": {
          "base_uri": "https://localhost:8080/"
        },
        "id": "3649519a",
        "outputId": "140d0838-c097-4bba-c593-534378a73789"
      },
      "outputs": [
        {
          "name": "stderr",
          "output_type": "stream",
          "text": [
            "Running: 100%|██████████| 200/200 [02:42<00:00,  1.23it/s]\n"
          ]
        }
      ],
      "source": [
        "xx_lst_np_11 = [0] * 200\n",
        "for inx in tqdm(range(200), desc = \"Running\"):\n",
        "    temp = xx_lst_1[inx].isel(time=0)[[\"red\", \"green\", \"blue\"]].to_array()\n",
        "    xx_lst_np_11[inx] = temp.data.compute() # output: xarray.dataArray"
      ]
    },
    {
      "cell_type": "code",
      "execution_count": null,
      "id": "b7235990",
      "metadata": {
        "colab": {
          "base_uri": "https://localhost:8080/"
        },
        "id": "b7235990",
        "outputId": "2ef1c6bc-1aee-4e37-b758-18e9ff54b0b2"
      },
      "outputs": [
        {
          "name": "stderr",
          "output_type": "stream",
          "text": [
            "Running: 100%|██████████| 200/200 [02:55<00:00,  1.14it/s]\n"
          ]
        }
      ],
      "source": [
        "xx_lst_np_12 = [0] * 200\n",
        "for inx in tqdm(range(200), desc = \"Running\"):\n",
        "    temp = xx_lst_1[inx].isel(time=0)[[\"red\", \"green\", \"blue\"]].to_array()\n",
        "    xx_lst_np_12[inx] = temp.data.compute()"
      ]
    },
    {
      "cell_type": "code",
      "execution_count": null,
      "id": "2f8e34b7",
      "metadata": {
        "colab": {
          "base_uri": "https://localhost:8080/"
        },
        "id": "2f8e34b7",
        "outputId": "4950e7cb-562d-4066-94b6-eabd3e1ad0c8"
      },
      "outputs": [
        {
          "name": "stderr",
          "output_type": "stream",
          "text": [
            "Running: 100%|██████████| 200/200 [02:41<00:00,  1.23it/s]\n"
          ]
        }
      ],
      "source": [
        "xx_lst_np_13 = [0] * 200\n",
        "for inx in tqdm(range(200), desc = \"Running\"):\n",
        "    temp = xx_lst_1[400+inx].isel(time=0)[[\"red\", \"green\", \"blue\"]].to_array()\n",
        "    xx_lst_np_13[inx] = temp.data.compute()"
      ]
    },
    {
      "cell_type": "code",
      "execution_count": null,
      "id": "Z0gW--IBKTNR",
      "metadata": {
        "colab": {
          "base_uri": "https://localhost:8080/"
        },
        "id": "Z0gW--IBKTNR",
        "outputId": "df83d55d-5f69-4ae4-dee7-abd8b8d1b1a0"
      },
      "outputs": [
        {
          "name": "stderr",
          "output_type": "stream",
          "text": [
            "Running: 100%|██████████| 200/200 [02:09<00:00,  1.54it/s]\n"
          ]
        }
      ],
      "source": [
        "xx_lst_np_21 = [0] * 200\n",
        "for inx in tqdm(range(200), desc = \"Running\"):\n",
        "    temp = xx_lst_2[inx].isel(time=0)[[\"red\", \"green\", \"blue\"]].to_array()\n",
        "    xx_lst_np_21[inx] = temp.data.compute()"
      ]
    },
    {
      "cell_type": "code",
      "execution_count": null,
      "id": "mvfvDFDwKTVh",
      "metadata": {
        "colab": {
          "base_uri": "https://localhost:8080/"
        },
        "id": "mvfvDFDwKTVh",
        "outputId": "7b04bb5e-4898-49ff-9a04-dba411b5adee"
      },
      "outputs": [
        {
          "name": "stderr",
          "output_type": "stream",
          "text": [
            "Running: 100%|██████████| 200/200 [05:30<00:00,  1.65s/it]\n"
          ]
        }
      ],
      "source": [
        "xx_lst_np_22 = [0] * 200\n",
        "for inx in tqdm(range(200), desc = \"Running\"):\n",
        "    temp = xx_lst_2[inx].isel(time=0)[[\"red\", \"green\", \"blue\"]].to_array()\n",
        "    xx_lst_np_22[inx] = temp.data.compute()"
      ]
    },
    {
      "cell_type": "code",
      "execution_count": null,
      "id": "zPAUCiRgKTd5",
      "metadata": {
        "colab": {
          "base_uri": "https://localhost:8080/"
        },
        "id": "zPAUCiRgKTd5",
        "outputId": "661d1986-95f9-4da4-dedf-85c9d9644fb4"
      },
      "outputs": [
        {
          "name": "stderr",
          "output_type": "stream",
          "text": [
            "Running: 100%|██████████| 200/200 [05:22<00:00,  1.61s/it]\n"
          ]
        }
      ],
      "source": [
        "xx_lst_np_23 = [0] * 200\n",
        "for inx in tqdm(range(200), desc = \"Running\"):\n",
        "    temp = xx_lst_2[400+inx].isel(time=0)[[\"red\", \"green\", \"blue\"]].to_array()\n",
        "    xx_lst_np_23[inx] = temp.data.compute()"
      ]
    },
    {
      "cell_type": "code",
      "execution_count": null,
      "id": "qvMusZ0XKTlv",
      "metadata": {
        "colab": {
          "base_uri": "https://localhost:8080/"
        },
        "id": "qvMusZ0XKTlv",
        "outputId": "1b8ab9c3-4670-4085-eb8d-40b0238f0853"
      },
      "outputs": [
        {
          "name": "stderr",
          "output_type": "stream",
          "text": [
            "Running: 100%|██████████| 200/200 [02:21<00:00,  1.41it/s]\n"
          ]
        }
      ],
      "source": [
        "xx_lst_np_31 = [0] * 200\n",
        "for inx in tqdm(range(200), desc = \"Running\"):\n",
        "    temp = xx_lst_3[inx].isel(time=0)[[\"red\", \"green\", \"blue\"]].to_array()\n",
        "    xx_lst_np_31[inx] = temp.data.compute()"
      ]
    },
    {
      "cell_type": "code",
      "execution_count": null,
      "id": "Uszi12leKTuS",
      "metadata": {
        "colab": {
          "base_uri": "https://localhost:8080/"
        },
        "id": "Uszi12leKTuS",
        "outputId": "0a3b0236-a53f-45aa-aa13-c3a00b021e1e"
      },
      "outputs": [
        {
          "name": "stderr",
          "output_type": "stream",
          "text": [
            "Running: 100%|██████████| 200/200 [02:18<00:00,  1.45it/s]\n"
          ]
        }
      ],
      "source": [
        "xx_lst_np_32 = [0] * 200\n",
        "for inx in tqdm(range(200), desc = \"Running\"):\n",
        "    temp = xx_lst_3[inx].isel(time=0)[[\"red\", \"green\", \"blue\"]].to_array()\n",
        "    xx_lst_np_32[inx] = temp.data.compute()"
      ]
    },
    {
      "cell_type": "code",
      "execution_count": null,
      "id": "Qw_ACH2OKT3P",
      "metadata": {
        "colab": {
          "base_uri": "https://localhost:8080/"
        },
        "id": "Qw_ACH2OKT3P",
        "outputId": "91fc13d6-ba89-45c7-e9f5-69306fcf1577"
      },
      "outputs": [
        {
          "name": "stderr",
          "output_type": "stream",
          "text": [
            "Running: 100%|██████████| 200/200 [02:28<00:00,  1.35it/s]\n"
          ]
        }
      ],
      "source": [
        "xx_lst_np_33 = [0] * 200\n",
        "for inx in tqdm(range(200), desc = \"Running\"):\n",
        "    temp = xx_lst_3[400+inx].isel(time=0)[[\"red\", \"green\", \"blue\"]].to_array()\n",
        "    xx_lst_np_33[inx] = temp.data.compute()"
      ]
    },
    {
      "cell_type": "code",
      "execution_count": null,
      "id": "IKVGmSzzV9E0",
      "metadata": {
        "id": "IKVGmSzzV9E0"
      },
      "outputs": [],
      "source": [
        "# Convert this to this size before using on any model \n",
        "for inx in range(200):\n",
        "    xx_lst_np_11[inx] = np.resize(xx_lst_np_11[inx], (3, 557, 557))\n",
        "    xx_lst_np_12[inx] = np.resize(xx_lst_np_12[inx], (3, 557, 557))\n",
        "    xx_lst_np_13[inx] = np.resize(xx_lst_np_13[inx], (3, 557, 557))\n",
        "    xx_lst_np_21[inx] = np.resize(xx_lst_np_11[inx], (3, 557, 557))\n",
        "    xx_lst_np_22[inx] = np.resize(xx_lst_np_12[inx], (3, 557, 557))\n",
        "    xx_lst_np_23[inx] = np.resize(xx_lst_np_13[inx], (3, 557, 557))\n",
        "    xx_lst_np_31[inx] = np.resize(xx_lst_np_11[inx], (3, 557, 557))\n",
        "    xx_lst_np_32[inx] = np.resize(xx_lst_np_12[inx], (3, 557, 557))\n",
        "    xx_lst_np_33[inx] = np.resize(xx_lst_np_13[inx], (3, 557, 557))"
      ]
    },
    {
      "cell_type": "markdown",
      "id": "PJ2iBA2CJUSu",
      "metadata": {
        "id": "PJ2iBA2CJUSu"
      },
      "source": [
        "#### Training and Testing using Resnet-18"
      ]
    },
    {
      "cell_type": "markdown",
      "id": "AULeUgMNNvWy",
      "metadata": {
        "id": "AULeUgMNNvWy"
      },
      "source": [
        "Concat and transform the data to right format"
      ]
    },
    {
      "cell_type": "code",
      "execution_count": null,
      "id": "xzfI-sPpJXye",
      "metadata": {
        "id": "xzfI-sPpJXye"
      },
      "outputs": [],
      "source": [
        "data = xx_lst_np_11 + xx_lst_np_12 + xx_lst_np_13 + xx_lst_np_21 + xx_lst_np_22 + xx_lst_np_23 + xx_lst_np_31 + xx_lst_np_32 + xx_lst_np_33"
      ]
    },
    {
      "cell_type": "code",
      "execution_count": null,
      "id": "5p0OukdsLr8E",
      "metadata": {
        "id": "5p0OukdsLr8E"
      },
      "outputs": [],
      "source": [
        "transformations = torchvision.transforms.Compose([\n",
        "    torchvision.transforms.ToPILImage(),\n",
        "    torchvision.transforms.Resize(256),\n",
        "    torchvision.transforms.CenterCrop(224),\n",
        "    torchvision.transforms.ToTensor(),\n",
        "    torchvision.transforms.Normalize(mean=[0.485, 0.456, 0.406], std=[0.229, 0.224, 0.225])\n",
        "])"
      ]
    },
    {
      "cell_type": "code",
      "execution_count": null,
      "id": "derWlsheLu0b",
      "metadata": {
        "id": "derWlsheLu0b"
      },
      "outputs": [],
      "source": [
        "for i in range(1800):\n",
        "  data[i] = transformations(data[i].reshape(557,557,3).astype('uint8'))"
      ]
    },
    {
      "cell_type": "code",
      "execution_count": null,
      "id": "9lqTy4W1MdEr",
      "metadata": {
        "id": "9lqTy4W1MdEr"
      },
      "outputs": [],
      "source": [
        "import random\n",
        "# get sample index in order to divide into train and test set\n",
        "num_index = 1800\n",
        "random_sample_80 = random.sample(range(num_index), int(num_index * 0.8))\n",
        "train_arr = []\n",
        "test_arr = []\n",
        "train_label = []\n",
        "test_label = []\n",
        "for i in range(num_index):\n",
        "  if i in random_sample_80:\n",
        "    train_arr.append(data[i])\n",
        "    train_label.append(crop_presence_data[\"Class\"].iloc[i % 600])\n",
        "  else:\n",
        "    test_arr.append(data[i])\n",
        "    test_label.append(crop_presence_data[\"Class\"].iloc[i % 600])"
      ]
    },
    {
      "cell_type": "markdown",
      "id": "4FC7pKK0N5FN",
      "metadata": {
        "id": "4FC7pKK0N5FN"
      },
      "source": [
        "Create the train and testing data + label, then make it into a training and testing dataset, then convert it to dataloader as it will be divided into many batches."
      ]
    },
    {
      "cell_type": "code",
      "execution_count": null,
      "id": "58ADqK-GNweD",
      "metadata": {
        "id": "58ADqK-GNweD"
      },
      "outputs": [],
      "source": [
        "train_arr = torch.stack(train_arr)\n",
        "test_arr = torch.stack(test_arr)"
      ]
    },
    {
      "cell_type": "code",
      "execution_count": null,
      "id": "VP21aHg1N6Vz",
      "metadata": {
        "id": "VP21aHg1N6Vz"
      },
      "outputs": [],
      "source": [
        "train_label = torch.tensor(np.array(train_label))\n",
        "test_label = torch.tensor(np.array(test_label))"
      ]
    },
    {
      "cell_type": "code",
      "execution_count": null,
      "id": "KcXJxMqQOGzf",
      "metadata": {
        "id": "KcXJxMqQOGzf"
      },
      "outputs": [],
      "source": [
        "train_arr = torch.FloatTensor(train_arr)\n",
        "train_label = torch.LongTensor(train_label)\n",
        "test_arr = torch.FloatTensor(test_arr)\n",
        "test_label = torch.LongTensor(test_label)"
      ]
    },
    {
      "cell_type": "code",
      "execution_count": null,
      "id": "a_GZ1NOgOOdT",
      "metadata": {
        "id": "a_GZ1NOgOOdT"
      },
      "outputs": [],
      "source": [
        "train_dataset = TensorDataset(train_arr, train_label)\n",
        "test_dataset = TensorDataset(test_arr, test_label)"
      ]
    },
    {
      "cell_type": "code",
      "execution_count": null,
      "id": "l4pG4tPBOZ87",
      "metadata": {
        "id": "l4pG4tPBOZ87"
      },
      "outputs": [],
      "source": [
        "train_dataloader = torch.utils.data.DataLoader(train_dataset, batch_size=32, shuffle=True, num_workers=8)\n",
        "test_dataloader = torch.utils.data.DataLoader(test_dataset, batch_size=32, shuffle=False, num_workers=8)"
      ]
    },
    {
      "cell_type": "markdown",
      "id": "AeSpgmTNOFZS",
      "metadata": {
        "id": "AeSpgmTNOFZS"
      },
      "source": [
        "Load the model and train the model"
      ]
    },
    {
      "cell_type": "code",
      "execution_count": null,
      "id": "QDCBxULlMBe6",
      "metadata": {
        "id": "QDCBxULlMBe6"
      },
      "outputs": [],
      "source": [
        "model = models.resnet18(pretrained=True)   #load resnet18 model\n",
        "num_features = model.fc.in_features     #extract fc layers features\n",
        "model.fc = nn.Linear(num_features, 2) #(num_of_class == 2)\n",
        "model = model.to(device) \n",
        "criterion = nn.CrossEntropyLoss()  #(set loss function)\n",
        "optimizer = optim.SGD(model.parameters(), lr=0.001, momentum=0.9)"
      ]
    },
    {
      "cell_type": "code",
      "execution_count": null,
      "id": "plh3hklwPCJZ",
      "metadata": {
        "colab": {
          "base_uri": "https://localhost:8080/"
        },
        "id": "plh3hklwPCJZ",
        "outputId": "3be79d59-b27c-438f-c653-4fe9535750bb"
      },
      "outputs": [
        {
          "name": "stdout",
          "output_type": "stream",
          "text": [
            "Epoch 0 running\n",
            "[Train #0] Loss: 0.4973 Acc: 74.3750% Time: 13.8975s\n",
            "[Test #0] Loss: 0.3174 Acc: 83.0556% Time: 15.7656s\n",
            "Epoch 1 running\n",
            "[Train #1] Loss: 0.3329 Acc: 81.8056% Time: 22.0835s\n",
            "[Test #1] Loss: 0.3126 Acc: 82.2222% Time: 24.0969s\n",
            "Epoch 2 running\n",
            "[Train #2] Loss: 0.3049 Acc: 81.3194% Time: 29.8965s\n",
            "[Test #2] Loss: 0.2903 Acc: 83.6111% Time: 31.7732s\n",
            "Epoch 3 running\n",
            "[Train #3] Loss: 0.2851 Acc: 82.4306% Time: 38.1571s\n",
            "[Test #3] Loss: 0.2873 Acc: 78.6111% Time: 40.4766s\n",
            "Epoch 4 running\n",
            "[Train #4] Loss: 0.2750 Acc: 82.7778% Time: 46.3208s\n",
            "[Test #4] Loss: 0.2902 Acc: 78.0556% Time: 50.2598s\n",
            "Epoch 5 running\n",
            "[Train #5] Loss: 0.2760 Acc: 82.8472% Time: 56.5657s\n",
            "[Test #5] Loss: 0.3048 Acc: 78.3333% Time: 58.3958s\n",
            "Epoch 6 running\n",
            "[Train #6] Loss: 0.2769 Acc: 81.3194% Time: 64.7663s\n",
            "[Test #6] Loss: 0.2994 Acc: 83.6111% Time: 66.8962s\n",
            "Epoch 7 running\n",
            "[Train #7] Loss: 0.2653 Acc: 82.1528% Time: 72.7892s\n",
            "[Test #7] Loss: 0.2966 Acc: 78.3333% Time: 74.6951s\n",
            "Epoch 8 running\n",
            "[Train #8] Loss: 0.2583 Acc: 82.9167% Time: 81.0605s\n",
            "[Test #8] Loss: 0.3102 Acc: 78.3333% Time: 82.9114s\n",
            "Epoch 9 running\n",
            "[Train #9] Loss: 0.2583 Acc: 83.5417% Time: 88.8812s\n",
            "[Test #9] Loss: 0.3008 Acc: 79.4444% Time: 91.1110s\n",
            "Epoch 10 running\n",
            "[Train #10] Loss: 0.2545 Acc: 81.9445% Time: 97.7175s\n",
            "[Test #10] Loss: 0.3066 Acc: 77.7778% Time: 99.6256s\n",
            "Epoch 11 running\n",
            "[Train #11] Loss: 0.2515 Acc: 83.1944% Time: 105.9260s\n",
            "[Test #11] Loss: 0.2996 Acc: 78.0556% Time: 108.3280s\n",
            "Epoch 12 running\n",
            "[Train #12] Loss: 0.2506 Acc: 83.4722% Time: 114.2685s\n",
            "[Test #12] Loss: 0.3111 Acc: 76.9444% Time: 116.1725s\n",
            "Epoch 13 running\n",
            "[Train #13] Loss: 0.2519 Acc: 83.1944% Time: 122.5672s\n",
            "[Test #13] Loss: 0.3045 Acc: 77.7778% Time: 124.5377s\n",
            "Epoch 14 running\n",
            "[Train #14] Loss: 0.2522 Acc: 82.5000% Time: 130.6288s\n",
            "[Test #14] Loss: 0.3100 Acc: 77.2222% Time: 132.4880s\n",
            "Epoch 15 running\n",
            "[Train #15] Loss: 0.2538 Acc: 83.0556% Time: 139.1001s\n",
            "[Test #15] Loss: 0.3026 Acc: 76.6667% Time: 141.0954s\n",
            "Epoch 16 running\n",
            "[Train #16] Loss: 0.2476 Acc: 83.2639% Time: 147.4743s\n",
            "[Test #16] Loss: 0.3078 Acc: 78.6111% Time: 150.3695s\n",
            "Epoch 17 running\n",
            "[Train #17] Loss: 0.2423 Acc: 84.6528% Time: 156.6748s\n",
            "[Test #17] Loss: 0.3336 Acc: 77.7778% Time: 158.6044s\n",
            "Epoch 18 running\n",
            "[Train #18] Loss: 0.2478 Acc: 82.8472% Time: 165.0830s\n",
            "[Test #18] Loss: 0.3159 Acc: 77.5000% Time: 167.2647s\n",
            "Epoch 19 running\n",
            "[Train #19] Loss: 0.2418 Acc: 83.4028% Time: 173.3142s\n",
            "[Test #19] Loss: 0.3191 Acc: 76.9444% Time: 175.2665s\n",
            "Epoch 20 running\n",
            "[Train #20] Loss: 0.2442 Acc: 82.9167% Time: 181.9883s\n",
            "[Test #20] Loss: 0.3289 Acc: 77.5000% Time: 183.9113s\n",
            "Epoch 21 running\n",
            "[Train #21] Loss: 0.2428 Acc: 82.6389% Time: 189.9953s\n",
            "[Test #21] Loss: 0.3298 Acc: 77.2222% Time: 192.8049s\n",
            "Epoch 22 running\n",
            "[Train #22] Loss: 0.2426 Acc: 83.7500% Time: 199.2012s\n",
            "[Test #22] Loss: 0.3322 Acc: 78.0556% Time: 201.1205s\n",
            "Epoch 23 running\n",
            "[Train #23] Loss: 0.2389 Acc: 83.8889% Time: 207.6144s\n",
            "[Test #23] Loss: 0.3239 Acc: 77.2222% Time: 209.8288s\n",
            "Epoch 24 running\n",
            "[Train #24] Loss: 0.2414 Acc: 83.7500% Time: 215.9100s\n",
            "[Test #24] Loss: 0.3198 Acc: 77.7778% Time: 217.7804s\n",
            "Epoch 25 running\n",
            "[Train #25] Loss: 0.2458 Acc: 83.5417% Time: 224.2169s\n",
            "[Test #25] Loss: 0.3351 Acc: 77.2222% Time: 226.1141s\n",
            "Epoch 26 running\n",
            "[Train #26] Loss: 0.2406 Acc: 84.0972% Time: 232.1106s\n",
            "[Test #26] Loss: 0.3211 Acc: 78.0556% Time: 234.4443s\n",
            "Epoch 27 running\n",
            "[Train #27] Loss: 0.2418 Acc: 84.4444% Time: 241.1255s\n",
            "[Test #27] Loss: 0.3475 Acc: 77.7778% Time: 243.0276s\n",
            "Epoch 28 running\n",
            "[Train #28] Loss: 0.2376 Acc: 83.4028% Time: 249.5601s\n",
            "[Test #28] Loss: 0.3445 Acc: 76.3889% Time: 251.9059s\n",
            "Epoch 29 running\n",
            "[Train #29] Loss: 0.2394 Acc: 84.2361% Time: 257.8958s\n",
            "[Test #29] Loss: 0.3408 Acc: 76.6667% Time: 259.8475s\n",
            "Epoch 30 running\n",
            "[Train #30] Loss: 0.2389 Acc: 83.3333% Time: 266.1436s\n",
            "[Test #30] Loss: 0.3375 Acc: 76.3889% Time: 268.0351s\n",
            "Epoch 31 running\n",
            "[Train #31] Loss: 0.2363 Acc: 83.3333% Time: 274.0490s\n",
            "[Test #31] Loss: 0.3352 Acc: 76.9444% Time: 276.1804s\n",
            "Epoch 32 running\n",
            "[Train #32] Loss: 0.2379 Acc: 83.6806% Time: 282.8464s\n",
            "[Test #32] Loss: 0.3396 Acc: 76.1111% Time: 284.7235s\n",
            "Epoch 33 running\n",
            "[Train #33] Loss: 0.2367 Acc: 84.3750% Time: 291.1277s\n",
            "[Test #33] Loss: 0.3394 Acc: 77.5000% Time: 293.8394s\n",
            "Epoch 34 running\n",
            "[Train #34] Loss: 0.2358 Acc: 83.8195% Time: 299.8310s\n",
            "[Test #34] Loss: 0.3578 Acc: 77.2222% Time: 301.7279s\n",
            "Epoch 35 running\n",
            "[Train #35] Loss: 0.2364 Acc: 83.8889% Time: 308.1989s\n",
            "[Test #35] Loss: 0.3661 Acc: 76.3889% Time: 310.2974s\n",
            "Epoch 36 running\n",
            "[Train #36] Loss: 0.2415 Acc: 84.0278% Time: 316.3243s\n",
            "[Test #36] Loss: 0.3382 Acc: 81.6667% Time: 318.2598s\n",
            "Epoch 37 running\n",
            "[Train #37] Loss: 0.2405 Acc: 81.8056% Time: 324.9992s\n",
            "[Test #37] Loss: 0.3385 Acc: 76.1111% Time: 326.9420s\n",
            "Epoch 38 running\n",
            "[Train #38] Loss: 0.2340 Acc: 85.4167% Time: 333.1262s\n",
            "[Test #38] Loss: 0.3606 Acc: 75.8333% Time: 335.9430s\n",
            "Epoch 39 running\n",
            "[Train #39] Loss: 0.2398 Acc: 83.8889% Time: 342.2683s\n",
            "[Test #39] Loss: 0.3508 Acc: 76.1111% Time: 344.2197s\n",
            "Epoch 40 running\n",
            "[Train #40] Loss: 0.2352 Acc: 83.9583% Time: 350.7326s\n",
            "[Test #40] Loss: 0.3566 Acc: 76.6667% Time: 352.9361s\n",
            "Epoch 41 running\n",
            "[Train #41] Loss: 0.2358 Acc: 85.1389% Time: 358.9705s\n",
            "[Test #41] Loss: 0.3473 Acc: 76.3889% Time: 360.9032s\n",
            "Epoch 42 running\n",
            "[Train #42] Loss: 0.2332 Acc: 84.3750% Time: 367.6164s\n",
            "[Test #42] Loss: 0.3570 Acc: 76.1111% Time: 369.5725s\n",
            "Epoch 43 running\n",
            "[Train #43] Loss: 0.2328 Acc: 84.5139% Time: 375.7010s\n",
            "[Test #43] Loss: 0.3686 Acc: 76.1111% Time: 378.5463s\n",
            "Epoch 44 running\n",
            "[Train #44] Loss: 0.2350 Acc: 83.5417% Time: 384.9654s\n",
            "[Test #44] Loss: 0.3560 Acc: 76.1111% Time: 386.8952s\n",
            "Epoch 45 running\n",
            "[Train #45] Loss: 0.2352 Acc: 84.0972% Time: 393.4778s\n",
            "[Test #45] Loss: 0.3679 Acc: 76.1111% Time: 395.6879s\n",
            "Epoch 46 running\n",
            "[Train #46] Loss: 0.2362 Acc: 83.9583% Time: 401.7454s\n",
            "[Test #46] Loss: 0.3616 Acc: 76.3889% Time: 403.6581s\n",
            "Epoch 47 running\n",
            "[Train #47] Loss: 0.2342 Acc: 84.3750% Time: 410.3451s\n",
            "[Test #47] Loss: 0.3711 Acc: 76.1111% Time: 412.2691s\n",
            "Epoch 48 running\n",
            "[Train #48] Loss: 0.2324 Acc: 84.9306% Time: 418.3137s\n",
            "[Test #48] Loss: 0.3648 Acc: 75.8333% Time: 421.1239s\n",
            "Epoch 49 running\n",
            "[Train #49] Loss: 0.2351 Acc: 84.6528% Time: 427.7237s\n",
            "[Test #49] Loss: 0.3665 Acc: 76.1111% Time: 429.6426s\n",
            "Epoch 50 running\n",
            "[Train #50] Loss: 0.2318 Acc: 85.2083% Time: 436.2187s\n",
            "[Test #50] Loss: 0.3774 Acc: 76.1111% Time: 438.4685s\n",
            "Epoch 51 running\n",
            "[Train #51] Loss: 0.2342 Acc: 84.9306% Time: 444.5570s\n",
            "[Test #51] Loss: 0.3717 Acc: 76.3889% Time: 446.5585s\n",
            "Epoch 52 running\n",
            "[Train #52] Loss: 0.2357 Acc: 84.0972% Time: 453.2345s\n",
            "[Test #52] Loss: 0.3595 Acc: 76.6667% Time: 455.1787s\n",
            "Epoch 53 running\n",
            "[Train #53] Loss: 0.2346 Acc: 84.5833% Time: 461.2204s\n",
            "[Test #53] Loss: 0.3631 Acc: 76.1111% Time: 464.0043s\n",
            "Epoch 54 running\n",
            "[Train #54] Loss: 0.2329 Acc: 84.5833% Time: 470.5760s\n",
            "[Test #54] Loss: 0.3971 Acc: 76.1111% Time: 472.5231s\n",
            "Epoch 55 running\n",
            "[Train #55] Loss: 0.2349 Acc: 83.6111% Time: 480.0516s\n",
            "[Test #55] Loss: 0.3753 Acc: 75.8333% Time: 483.5193s\n",
            "Epoch 56 running\n",
            "[Train #56] Loss: 0.2342 Acc: 84.3750% Time: 490.8046s\n",
            "[Test #56] Loss: 0.3926 Acc: 75.8333% Time: 494.3010s\n",
            "Epoch 57 running\n",
            "[Train #57] Loss: 0.2315 Acc: 84.6528% Time: 501.2648s\n",
            "[Test #57] Loss: 0.3967 Acc: 76.1111% Time: 503.2046s\n",
            "Epoch 58 running\n",
            "[Train #58] Loss: 0.2343 Acc: 83.2639% Time: 510.1855s\n",
            "[Test #58] Loss: 0.3876 Acc: 76.3889% Time: 512.3091s\n",
            "Epoch 59 running\n",
            "[Train #59] Loss: 0.2351 Acc: 84.0972% Time: 518.9744s\n",
            "[Test #59] Loss: 0.3880 Acc: 76.1111% Time: 521.2127s\n"
          ]
        }
      ],
      "source": [
        "num_epochs = 60   #(set no of epochs)\n",
        "start_time = time.time() #(for showing time)\n",
        "for epoch in range(num_epochs): #(loop for every epoch)\n",
        "    print(\"Epoch {} running\".format(epoch)) #(printing message)\n",
        "    \"\"\" Training Phase \"\"\"\n",
        "    model.train()    #(training model)\n",
        "    running_loss = 0.   #(set loss 0)\n",
        "    running_corrects = 0 \n",
        "    # load a batch data of images\n",
        "    for i, (inputs, labels) in enumerate(train_dataloader):\n",
        "        inputs = inputs.to(device)\n",
        "        labels = labels.to(device) \n",
        "        # forward inputs and get output\n",
        "        optimizer.zero_grad()\n",
        "        outputs = model(inputs)\n",
        "        _, preds = torch.max(outputs, 1)\n",
        "        loss = criterion(outputs, labels)\n",
        "        # get loss value and update the network weights\n",
        "        loss.backward()\n",
        "        optimizer.step()\n",
        "        running_loss += loss.item() * inputs.size(0)\n",
        "        running_corrects += torch.sum(preds == labels.data)\n",
        "    epoch_loss = running_loss / len(train_dataset)\n",
        "    epoch_acc = running_corrects / len(train_dataset) * 100.\n",
        "    print('[Train #{}] Loss: {:.4f} Acc: {:.4f}% Time: {:.4f}s'.format(epoch, epoch_loss, epoch_acc, time.time() -start_time))\n",
        "    \n",
        "    \"\"\" Testing Phase \"\"\"\n",
        "    model.eval()\n",
        "    with torch.no_grad():\n",
        "        running_loss = 0.\n",
        "        running_corrects = 0\n",
        "        for inputs, labels in test_dataloader:\n",
        "            inputs = inputs.to(device)\n",
        "            labels = labels.to(device)\n",
        "            outputs = model(inputs)\n",
        "            _, preds = torch.max(outputs, 1)\n",
        "            loss = criterion(outputs, labels)\n",
        "            running_loss += loss.item() * inputs.size(0)\n",
        "            running_corrects += torch.sum(preds == labels.data)\n",
        "        epoch_loss = running_loss / len(test_dataset)\n",
        "        epoch_acc = running_corrects / len(test_dataset) * 100.\n",
        "        print('[Test #{}] Loss: {:.4f} Acc: {:.4f}% Time: {:.4f}s'.format(epoch, epoch_loss, epoch_acc, time.time()- start_time))"
      ]
    },
    {
      "cell_type": "markdown",
      "id": "lMQR7QPeONKq",
      "metadata": {
        "id": "lMQR7QPeONKq"
      },
      "source": [
        "Save the model as a pth file to use it later"
      ]
    },
    {
      "cell_type": "code",
      "execution_count": null,
      "id": "lgXEjmzbQ1oL",
      "metadata": {
        "id": "lgXEjmzbQ1oL"
      },
      "outputs": [],
      "source": [
        "save_path = '/content/drive/MyDrive/resnet18-3daydata-eychallenge.pth'\n",
        "torch.save(model.state_dict(), save_path)"
      ]
    },
    {
      "cell_type": "markdown",
      "id": "CmFEvjXmOV6z",
      "metadata": {
        "id": "CmFEvjXmOV6z"
      },
      "source": [
        "Testing process of the model"
      ]
    },
    {
      "cell_type": "code",
      "execution_count": null,
      "id": "mPRe9HD-zmVZ",
      "metadata": {
        "colab": {
          "base_uri": "https://localhost:8080/"
        },
        "id": "mPRe9HD-zmVZ",
        "outputId": "c606c409-b5aa-4dc2-cf2d-5c157e4008a2"
      },
      "outputs": [
        {
          "data": {
            "text/plain": [
              "ResNet(\n",
              "  (conv1): Conv2d(3, 64, kernel_size=(7, 7), stride=(2, 2), padding=(3, 3), bias=False)\n",
              "  (bn1): BatchNorm2d(64, eps=1e-05, momentum=0.1, affine=True, track_running_stats=True)\n",
              "  (relu): ReLU(inplace=True)\n",
              "  (maxpool): MaxPool2d(kernel_size=3, stride=2, padding=1, dilation=1, ceil_mode=False)\n",
              "  (layer1): Sequential(\n",
              "    (0): BasicBlock(\n",
              "      (conv1): Conv2d(64, 64, kernel_size=(3, 3), stride=(1, 1), padding=(1, 1), bias=False)\n",
              "      (bn1): BatchNorm2d(64, eps=1e-05, momentum=0.1, affine=True, track_running_stats=True)\n",
              "      (relu): ReLU(inplace=True)\n",
              "      (conv2): Conv2d(64, 64, kernel_size=(3, 3), stride=(1, 1), padding=(1, 1), bias=False)\n",
              "      (bn2): BatchNorm2d(64, eps=1e-05, momentum=0.1, affine=True, track_running_stats=True)\n",
              "    )\n",
              "    (1): BasicBlock(\n",
              "      (conv1): Conv2d(64, 64, kernel_size=(3, 3), stride=(1, 1), padding=(1, 1), bias=False)\n",
              "      (bn1): BatchNorm2d(64, eps=1e-05, momentum=0.1, affine=True, track_running_stats=True)\n",
              "      (relu): ReLU(inplace=True)\n",
              "      (conv2): Conv2d(64, 64, kernel_size=(3, 3), stride=(1, 1), padding=(1, 1), bias=False)\n",
              "      (bn2): BatchNorm2d(64, eps=1e-05, momentum=0.1, affine=True, track_running_stats=True)\n",
              "    )\n",
              "  )\n",
              "  (layer2): Sequential(\n",
              "    (0): BasicBlock(\n",
              "      (conv1): Conv2d(64, 128, kernel_size=(3, 3), stride=(2, 2), padding=(1, 1), bias=False)\n",
              "      (bn1): BatchNorm2d(128, eps=1e-05, momentum=0.1, affine=True, track_running_stats=True)\n",
              "      (relu): ReLU(inplace=True)\n",
              "      (conv2): Conv2d(128, 128, kernel_size=(3, 3), stride=(1, 1), padding=(1, 1), bias=False)\n",
              "      (bn2): BatchNorm2d(128, eps=1e-05, momentum=0.1, affine=True, track_running_stats=True)\n",
              "      (downsample): Sequential(\n",
              "        (0): Conv2d(64, 128, kernel_size=(1, 1), stride=(2, 2), bias=False)\n",
              "        (1): BatchNorm2d(128, eps=1e-05, momentum=0.1, affine=True, track_running_stats=True)\n",
              "      )\n",
              "    )\n",
              "    (1): BasicBlock(\n",
              "      (conv1): Conv2d(128, 128, kernel_size=(3, 3), stride=(1, 1), padding=(1, 1), bias=False)\n",
              "      (bn1): BatchNorm2d(128, eps=1e-05, momentum=0.1, affine=True, track_running_stats=True)\n",
              "      (relu): ReLU(inplace=True)\n",
              "      (conv2): Conv2d(128, 128, kernel_size=(3, 3), stride=(1, 1), padding=(1, 1), bias=False)\n",
              "      (bn2): BatchNorm2d(128, eps=1e-05, momentum=0.1, affine=True, track_running_stats=True)\n",
              "    )\n",
              "  )\n",
              "  (layer3): Sequential(\n",
              "    (0): BasicBlock(\n",
              "      (conv1): Conv2d(128, 256, kernel_size=(3, 3), stride=(2, 2), padding=(1, 1), bias=False)\n",
              "      (bn1): BatchNorm2d(256, eps=1e-05, momentum=0.1, affine=True, track_running_stats=True)\n",
              "      (relu): ReLU(inplace=True)\n",
              "      (conv2): Conv2d(256, 256, kernel_size=(3, 3), stride=(1, 1), padding=(1, 1), bias=False)\n",
              "      (bn2): BatchNorm2d(256, eps=1e-05, momentum=0.1, affine=True, track_running_stats=True)\n",
              "      (downsample): Sequential(\n",
              "        (0): Conv2d(128, 256, kernel_size=(1, 1), stride=(2, 2), bias=False)\n",
              "        (1): BatchNorm2d(256, eps=1e-05, momentum=0.1, affine=True, track_running_stats=True)\n",
              "      )\n",
              "    )\n",
              "    (1): BasicBlock(\n",
              "      (conv1): Conv2d(256, 256, kernel_size=(3, 3), stride=(1, 1), padding=(1, 1), bias=False)\n",
              "      (bn1): BatchNorm2d(256, eps=1e-05, momentum=0.1, affine=True, track_running_stats=True)\n",
              "      (relu): ReLU(inplace=True)\n",
              "      (conv2): Conv2d(256, 256, kernel_size=(3, 3), stride=(1, 1), padding=(1, 1), bias=False)\n",
              "      (bn2): BatchNorm2d(256, eps=1e-05, momentum=0.1, affine=True, track_running_stats=True)\n",
              "    )\n",
              "  )\n",
              "  (layer4): Sequential(\n",
              "    (0): BasicBlock(\n",
              "      (conv1): Conv2d(256, 512, kernel_size=(3, 3), stride=(2, 2), padding=(1, 1), bias=False)\n",
              "      (bn1): BatchNorm2d(512, eps=1e-05, momentum=0.1, affine=True, track_running_stats=True)\n",
              "      (relu): ReLU(inplace=True)\n",
              "      (conv2): Conv2d(512, 512, kernel_size=(3, 3), stride=(1, 1), padding=(1, 1), bias=False)\n",
              "      (bn2): BatchNorm2d(512, eps=1e-05, momentum=0.1, affine=True, track_running_stats=True)\n",
              "      (downsample): Sequential(\n",
              "        (0): Conv2d(256, 512, kernel_size=(1, 1), stride=(2, 2), bias=False)\n",
              "        (1): BatchNorm2d(512, eps=1e-05, momentum=0.1, affine=True, track_running_stats=True)\n",
              "      )\n",
              "    )\n",
              "    (1): BasicBlock(\n",
              "      (conv1): Conv2d(512, 512, kernel_size=(3, 3), stride=(1, 1), padding=(1, 1), bias=False)\n",
              "      (bn1): BatchNorm2d(512, eps=1e-05, momentum=0.1, affine=True, track_running_stats=True)\n",
              "      (relu): ReLU(inplace=True)\n",
              "      (conv2): Conv2d(512, 512, kernel_size=(3, 3), stride=(1, 1), padding=(1, 1), bias=False)\n",
              "      (bn2): BatchNorm2d(512, eps=1e-05, momentum=0.1, affine=True, track_running_stats=True)\n",
              "    )\n",
              "  )\n",
              "  (avgpool): AdaptiveAvgPool2d(output_size=(1, 1))\n",
              "  (fc): Linear(in_features=512, out_features=2, bias=True)\n",
              ")"
            ]
          },
          "execution_count": 54,
          "metadata": {},
          "output_type": "execute_result"
        }
      ],
      "source": [
        "model = models.resnet18(pretrained=True)   #load resnet18 model\n",
        "num_features = model.fc.in_features #extract fc layers features\n",
        "model.fc = nn.Linear(num_features, 2)#(num_of_class == 2)\n",
        "model.load_state_dict(torch.load('/content/drive/MyDrive/resnet18-3daydata-eychallenge.pth'))\n",
        "model.to(device)"
      ]
    },
    {
      "cell_type": "code",
      "execution_count": null,
      "id": "AEpPNchxzynL",
      "metadata": {
        "colab": {
          "base_uri": "https://localhost:8080/"
        },
        "id": "AEpPNchxzynL",
        "outputId": "9e1f63ed-a7bf-4e6c-c023-8f57cdc94d1e"
      },
      "outputs": [
        {
          "name": "stdout",
          "output_type": "stream",
          "text": [
            "[Test #59] Loss: 0.3880 Acc: 76.1111% Time: 2.0615s\n"
          ]
        }
      ],
      "source": [
        "model.eval()\n",
        "start_time = time.time()\n",
        "criterion = nn.CrossEntropyLoss()\n",
        "optimizer = optim.SGD(model.parameters(), lr=0.001, momentum=0.9)\n",
        "with torch.no_grad():\n",
        "    running_loss = 0.\n",
        "    running_corrects = 0\n",
        "    for i, (inputs, labels) in enumerate(test_dataloader):\n",
        "        inputs = inputs.to(device)\n",
        "        labels = labels.to(device)\n",
        "        outputs = model(inputs)\n",
        "        _, preds = torch.max(outputs, 1)\n",
        "        loss = criterion(outputs, labels)\n",
        "        running_loss += loss.item() * inputs.size(0)\n",
        "        running_corrects += torch.sum(preds == labels.data)\n",
        "    epoch_loss = running_loss / len(test_dataset)\n",
        "    epoch_acc = running_corrects / len(test_dataset) * 100.\n",
        "    print('[Test #{}] Loss: {:.4f} Acc: {:.4f}% Time: {:.4f}s'.\n",
        "          format(epoch, epoch_loss, epoch_acc, time.time() - start_time))"
      ]
    },
    {
      "cell_type": "markdown",
      "id": "Z50JNQlfJPq5",
      "metadata": {
        "id": "Z50JNQlfJPq5"
      },
      "source": [
        "#### Training and Testing using Decision Tree and Logistic Regression"
      ]
    },
    {
      "cell_type": "code",
      "execution_count": null,
      "id": "c76fc688",
      "metadata": {
        "id": "c76fc688"
      },
      "outputs": [],
      "source": [
        "# Now convert to 1D array to use\n",
        "for inx in range(200):\n",
        "    xx_lst_np_11[inx] = xx_lst_np_11[inx].reshape(3*557*557)\n",
        "    xx_lst_np_12[inx] = xx_lst_np_12[inx].reshape(3*557*557)\n",
        "    xx_lst_np_13[inx] = xx_lst_np_13[inx].reshape(3*557*557)"
      ]
    },
    {
      "cell_type": "code",
      "execution_count": null,
      "id": "c3940f04",
      "metadata": {
        "id": "c3940f04"
      },
      "outputs": [],
      "source": [
        "x = np.concatenate([np.array(xx_lst_np_11), np.array(xx_lst_np_12), np.array(xx_lst_np_13)], axis = 0)\n",
        "# np.array(xx_lst_np_21), np.array(xx_lst_np_22), np.array(xx_lst_np_23)\n",
        "# we now have 2D array"
      ]
    },
    {
      "cell_type": "code",
      "execution_count": null,
      "id": "H6eMRnRVM3s9",
      "metadata": {
        "id": "H6eMRnRVM3s9"
      },
      "outputs": [],
      "source": [
        "from sklearn.preprocessing import MinMaxScaler\n",
        "\n",
        "Scaler = MinMaxScaler()\n",
        "x = Scaler.fit_transform(x)"
      ]
    },
    {
      "cell_type": "code",
      "execution_count": null,
      "id": "d8ec0c01",
      "metadata": {
        "id": "d8ec0c01"
      },
      "outputs": [],
      "source": [
        "y = np.concatenate([np.array(crop_presence_data[\"Class\"])])"
      ]
    },
    {
      "cell_type": "code",
      "execution_count": null,
      "id": "dbedcc06",
      "metadata": {
        "id": "dbedcc06"
      },
      "outputs": [],
      "source": [
        "from sklearn.model_selection import train_test_split\n",
        "\n",
        "x_train, x_test, y_train, y_test = train_test_split(x, y, test_size = 0.3, random_state = 101)"
      ]
    },
    {
      "cell_type": "code",
      "execution_count": null,
      "id": "xyz7fOSkMsNI",
      "metadata": {
        "id": "xyz7fOSkMsNI"
      },
      "outputs": [],
      "source": [
        "from sklearn.linear_model import LogisticRegression"
      ]
    },
    {
      "cell_type": "code",
      "execution_count": null,
      "id": "0iB5DlJqNFd5",
      "metadata": {
        "id": "0iB5DlJqNFd5"
      },
      "outputs": [],
      "source": [
        "LR = LogisticRegression()"
      ]
    },
    {
      "cell_type": "code",
      "execution_count": null,
      "id": "LhUhmXtHPQ30",
      "metadata": {
        "id": "LhUhmXtHPQ30"
      },
      "outputs": [],
      "source": [
        "LR.fit(x_train, y_train)"
      ]
    },
    {
      "cell_type": "code",
      "execution_count": null,
      "id": "ed0q1YiSOmNR",
      "metadata": {
        "id": "ed0q1YiSOmNR"
      },
      "outputs": [],
      "source": [
        "pred_LR = LR.predict(x_test)"
      ]
    },
    {
      "cell_type": "code",
      "execution_count": null,
      "id": "b866624c",
      "metadata": {
        "id": "b866624c"
      },
      "outputs": [],
      "source": [
        "from sklearn.metrics import classification_report"
      ]
    },
    {
      "cell_type": "code",
      "execution_count": null,
      "id": "0huecoQSOhdH",
      "metadata": {
        "id": "0huecoQSOhdH"
      },
      "outputs": [],
      "source": [
        "print(classification_report(y_test, pred_LR))"
      ]
    },
    {
      "cell_type": "code",
      "execution_count": null,
      "id": "18a9a869",
      "metadata": {
        "id": "18a9a869"
      },
      "outputs": [],
      "source": [
        "from sklearn.tree import DecisionTreeClassifier\n",
        "\n",
        "clf = DecisionTreeClassifier()"
      ]
    },
    {
      "cell_type": "code",
      "execution_count": null,
      "id": "6af12e87",
      "metadata": {
        "colab": {
          "base_uri": "https://localhost:8080/",
          "height": 74
        },
        "id": "6af12e87",
        "outputId": "97dab6c9-1b62-49c7-d315-5d27cf6dd011"
      },
      "outputs": [
        {
          "data": {
            "text/html": [
              "<style>#sk-container-id-1 {color: black;background-color: white;}#sk-container-id-1 pre{padding: 0;}#sk-container-id-1 div.sk-toggleable {background-color: white;}#sk-container-id-1 label.sk-toggleable__label {cursor: pointer;display: block;width: 100%;margin-bottom: 0;padding: 0.3em;box-sizing: border-box;text-align: center;}#sk-container-id-1 label.sk-toggleable__label-arrow:before {content: \"▸\";float: left;margin-right: 0.25em;color: #696969;}#sk-container-id-1 label.sk-toggleable__label-arrow:hover:before {color: black;}#sk-container-id-1 div.sk-estimator:hover label.sk-toggleable__label-arrow:before {color: black;}#sk-container-id-1 div.sk-toggleable__content {max-height: 0;max-width: 0;overflow: hidden;text-align: left;background-color: #f0f8ff;}#sk-container-id-1 div.sk-toggleable__content pre {margin: 0.2em;color: black;border-radius: 0.25em;background-color: #f0f8ff;}#sk-container-id-1 input.sk-toggleable__control:checked~div.sk-toggleable__content {max-height: 200px;max-width: 100%;overflow: auto;}#sk-container-id-1 input.sk-toggleable__control:checked~label.sk-toggleable__label-arrow:before {content: \"▾\";}#sk-container-id-1 div.sk-estimator input.sk-toggleable__control:checked~label.sk-toggleable__label {background-color: #d4ebff;}#sk-container-id-1 div.sk-label input.sk-toggleable__control:checked~label.sk-toggleable__label {background-color: #d4ebff;}#sk-container-id-1 input.sk-hidden--visually {border: 0;clip: rect(1px 1px 1px 1px);clip: rect(1px, 1px, 1px, 1px);height: 1px;margin: -1px;overflow: hidden;padding: 0;position: absolute;width: 1px;}#sk-container-id-1 div.sk-estimator {font-family: monospace;background-color: #f0f8ff;border: 1px dotted black;border-radius: 0.25em;box-sizing: border-box;margin-bottom: 0.5em;}#sk-container-id-1 div.sk-estimator:hover {background-color: #d4ebff;}#sk-container-id-1 div.sk-parallel-item::after {content: \"\";width: 100%;border-bottom: 1px solid gray;flex-grow: 1;}#sk-container-id-1 div.sk-label:hover label.sk-toggleable__label {background-color: #d4ebff;}#sk-container-id-1 div.sk-serial::before {content: \"\";position: absolute;border-left: 1px solid gray;box-sizing: border-box;top: 0;bottom: 0;left: 50%;z-index: 0;}#sk-container-id-1 div.sk-serial {display: flex;flex-direction: column;align-items: center;background-color: white;padding-right: 0.2em;padding-left: 0.2em;position: relative;}#sk-container-id-1 div.sk-item {position: relative;z-index: 1;}#sk-container-id-1 div.sk-parallel {display: flex;align-items: stretch;justify-content: center;background-color: white;position: relative;}#sk-container-id-1 div.sk-item::before, #sk-container-id-1 div.sk-parallel-item::before {content: \"\";position: absolute;border-left: 1px solid gray;box-sizing: border-box;top: 0;bottom: 0;left: 50%;z-index: -1;}#sk-container-id-1 div.sk-parallel-item {display: flex;flex-direction: column;z-index: 1;position: relative;background-color: white;}#sk-container-id-1 div.sk-parallel-item:first-child::after {align-self: flex-end;width: 50%;}#sk-container-id-1 div.sk-parallel-item:last-child::after {align-self: flex-start;width: 50%;}#sk-container-id-1 div.sk-parallel-item:only-child::after {width: 0;}#sk-container-id-1 div.sk-dashed-wrapped {border: 1px dashed gray;margin: 0 0.4em 0.5em 0.4em;box-sizing: border-box;padding-bottom: 0.4em;background-color: white;}#sk-container-id-1 div.sk-label label {font-family: monospace;font-weight: bold;display: inline-block;line-height: 1.2em;}#sk-container-id-1 div.sk-label-container {text-align: center;}#sk-container-id-1 div.sk-container {/* jupyter's `normalize.less` sets `[hidden] { display: none; }` but bootstrap.min.css set `[hidden] { display: none !important; }` so we also need the `!important` here to be able to override the default hidden behavior on the sphinx rendered scikit-learn.org. See: https://github.com/scikit-learn/scikit-learn/issues/21755 */display: inline-block !important;position: relative;}#sk-container-id-1 div.sk-text-repr-fallback {display: none;}</style><div id=\"sk-container-id-1\" class=\"sk-top-container\"><div class=\"sk-text-repr-fallback\"><pre>DecisionTreeClassifier()</pre><b>In a Jupyter environment, please rerun this cell to show the HTML representation or trust the notebook. <br />On GitHub, the HTML representation is unable to render, please try loading this page with nbviewer.org.</b></div><div class=\"sk-container\" hidden><div class=\"sk-item\"><div class=\"sk-estimator sk-toggleable\"><input class=\"sk-toggleable__control sk-hidden--visually\" id=\"sk-estimator-id-1\" type=\"checkbox\" checked><label for=\"sk-estimator-id-1\" class=\"sk-toggleable__label sk-toggleable__label-arrow\">DecisionTreeClassifier</label><div class=\"sk-toggleable__content\"><pre>DecisionTreeClassifier()</pre></div></div></div></div></div>"
            ],
            "text/plain": [
              "DecisionTreeClassifier()"
            ]
          },
          "execution_count": 43,
          "metadata": {},
          "output_type": "execute_result"
        }
      ],
      "source": [
        "clf.fit(x_train, y_train)"
      ]
    },
    {
      "cell_type": "code",
      "execution_count": null,
      "id": "327dbfaa",
      "metadata": {
        "id": "327dbfaa"
      },
      "outputs": [],
      "source": [
        "pred_clf = clf.predict(x_test)"
      ]
    },
    {
      "cell_type": "code",
      "execution_count": null,
      "id": "d7c2d9f4",
      "metadata": {
        "colab": {
          "base_uri": "https://localhost:8080/"
        },
        "id": "d7c2d9f4",
        "outputId": "ef4149ec-7022-4b03-8078-79dfa278915b"
      },
      "outputs": [
        {
          "name": "stdout",
          "output_type": "stream",
          "text": [
            "              precision    recall  f1-score   support\n",
            "\n",
            "           0       0.64      0.78      0.70       166\n",
            "           1       0.77      0.62      0.69       194\n",
            "\n",
            "    accuracy                           0.69       360\n",
            "   macro avg       0.70      0.70      0.69       360\n",
            "weighted avg       0.71      0.69      0.69       360\n",
            "\n"
          ]
        }
      ],
      "source": [
        "print(classification_report(y_test, pred_clf))"
      ]
    },
    {
      "cell_type": "markdown",
      "id": "Kdli8jHfOrK0",
      "metadata": {
        "id": "Kdli8jHfOrK0"
      },
      "source": [
        "#### Make prediction on challenge's data"
      ]
    },
    {
      "cell_type": "markdown",
      "id": "YBIQS_fVO0Na",
      "metadata": {
        "id": "YBIQS_fVO0Na"
      },
      "source": [
        "Load the challenge's test data"
      ]
    },
    {
      "cell_type": "code",
      "execution_count": null,
      "id": "ec00d5d3",
      "metadata": {
        "id": "ec00d5d3"
      },
      "outputs": [],
      "source": [
        "test_data = pd.read_csv(\"/content/drive/MyDrive/challenge_1_submission_template_correct_columns_fixed.csv\")"
      ]
    },
    {
      "cell_type": "code",
      "execution_count": null,
      "id": "8f853a51",
      "metadata": {
        "colab": {
          "base_uri": "https://localhost:8080/",
          "height": 204
        },
        "id": "8f853a51",
        "outputId": "2d473dea-bd8f-46b9-aac7-70b04a61c0f9"
      },
      "outputs": [
        {
          "data": {
            "text/html": [
              "\n",
              "  <div id=\"df-82813432-bfc8-414d-9baa-758e7c0de13b\">\n",
              "    <div class=\"colab-df-container\">\n",
              "      <div>\n",
              "<style scoped>\n",
              "    .dataframe tbody tr th:only-of-type {\n",
              "        vertical-align: middle;\n",
              "    }\n",
              "\n",
              "    .dataframe tbody tr th {\n",
              "        vertical-align: top;\n",
              "    }\n",
              "\n",
              "    .dataframe thead th {\n",
              "        text-align: right;\n",
              "    }\n",
              "</style>\n",
              "<table border=\"1\" class=\"dataframe\">\n",
              "  <thead>\n",
              "    <tr style=\"text-align: right;\">\n",
              "      <th></th>\n",
              "      <th>id</th>\n",
              "      <th>target</th>\n",
              "    </tr>\n",
              "  </thead>\n",
              "  <tbody>\n",
              "    <tr>\n",
              "      <th>0</th>\n",
              "      <td>(10.18019073690894, 105.32022315786804)</td>\n",
              "      <td>NaN</td>\n",
              "    </tr>\n",
              "    <tr>\n",
              "      <th>1</th>\n",
              "      <td>(10.561107033461816, 105.12772097986661)</td>\n",
              "      <td>NaN</td>\n",
              "    </tr>\n",
              "    <tr>\n",
              "      <th>2</th>\n",
              "      <td>(10.623790611954897, 105.13771401411867)</td>\n",
              "      <td>NaN</td>\n",
              "    </tr>\n",
              "    <tr>\n",
              "      <th>3</th>\n",
              "      <td>(10.583364246115156, 105.23946127195805)</td>\n",
              "      <td>NaN</td>\n",
              "    </tr>\n",
              "    <tr>\n",
              "      <th>4</th>\n",
              "      <td>(10.20744446668854, 105.26844107128906)</td>\n",
              "      <td>NaN</td>\n",
              "    </tr>\n",
              "  </tbody>\n",
              "</table>\n",
              "</div>\n",
              "      <button class=\"colab-df-convert\" onclick=\"convertToInteractive('df-82813432-bfc8-414d-9baa-758e7c0de13b')\"\n",
              "              title=\"Convert this dataframe to an interactive table.\"\n",
              "              style=\"display:none;\">\n",
              "        \n",
              "  <svg xmlns=\"http://www.w3.org/2000/svg\" height=\"24px\"viewBox=\"0 0 24 24\"\n",
              "       width=\"24px\">\n",
              "    <path d=\"M0 0h24v24H0V0z\" fill=\"none\"/>\n",
              "    <path d=\"M18.56 5.44l.94 2.06.94-2.06 2.06-.94-2.06-.94-.94-2.06-.94 2.06-2.06.94zm-11 1L8.5 8.5l.94-2.06 2.06-.94-2.06-.94L8.5 2.5l-.94 2.06-2.06.94zm10 10l.94 2.06.94-2.06 2.06-.94-2.06-.94-.94-2.06-.94 2.06-2.06.94z\"/><path d=\"M17.41 7.96l-1.37-1.37c-.4-.4-.92-.59-1.43-.59-.52 0-1.04.2-1.43.59L10.3 9.45l-7.72 7.72c-.78.78-.78 2.05 0 2.83L4 21.41c.39.39.9.59 1.41.59.51 0 1.02-.2 1.41-.59l7.78-7.78 2.81-2.81c.8-.78.8-2.07 0-2.86zM5.41 20L4 18.59l7.72-7.72 1.47 1.35L5.41 20z\"/>\n",
              "  </svg>\n",
              "      </button>\n",
              "      \n",
              "  <style>\n",
              "    .colab-df-container {\n",
              "      display:flex;\n",
              "      flex-wrap:wrap;\n",
              "      gap: 12px;\n",
              "    }\n",
              "\n",
              "    .colab-df-convert {\n",
              "      background-color: #E8F0FE;\n",
              "      border: none;\n",
              "      border-radius: 50%;\n",
              "      cursor: pointer;\n",
              "      display: none;\n",
              "      fill: #1967D2;\n",
              "      height: 32px;\n",
              "      padding: 0 0 0 0;\n",
              "      width: 32px;\n",
              "    }\n",
              "\n",
              "    .colab-df-convert:hover {\n",
              "      background-color: #E2EBFA;\n",
              "      box-shadow: 0px 1px 2px rgba(60, 64, 67, 0.3), 0px 1px 3px 1px rgba(60, 64, 67, 0.15);\n",
              "      fill: #174EA6;\n",
              "    }\n",
              "\n",
              "    [theme=dark] .colab-df-convert {\n",
              "      background-color: #3B4455;\n",
              "      fill: #D2E3FC;\n",
              "    }\n",
              "\n",
              "    [theme=dark] .colab-df-convert:hover {\n",
              "      background-color: #434B5C;\n",
              "      box-shadow: 0px 1px 3px 1px rgba(0, 0, 0, 0.15);\n",
              "      filter: drop-shadow(0px 1px 2px rgba(0, 0, 0, 0.3));\n",
              "      fill: #FFFFFF;\n",
              "    }\n",
              "  </style>\n",
              "\n",
              "      <script>\n",
              "        const buttonEl =\n",
              "          document.querySelector('#df-82813432-bfc8-414d-9baa-758e7c0de13b button.colab-df-convert');\n",
              "        buttonEl.style.display =\n",
              "          google.colab.kernel.accessAllowed ? 'block' : 'none';\n",
              "\n",
              "        async function convertToInteractive(key) {\n",
              "          const element = document.querySelector('#df-82813432-bfc8-414d-9baa-758e7c0de13b');\n",
              "          const dataTable =\n",
              "            await google.colab.kernel.invokeFunction('convertToInteractive',\n",
              "                                                     [key], {});\n",
              "          if (!dataTable) return;\n",
              "\n",
              "          const docLinkHtml = 'Like what you see? Visit the ' +\n",
              "            '<a target=\"_blank\" href=https://colab.research.google.com/notebooks/data_table.ipynb>data table notebook</a>'\n",
              "            + ' to learn more about interactive tables.';\n",
              "          element.innerHTML = '';\n",
              "          dataTable['output_type'] = 'display_data';\n",
              "          await google.colab.output.renderOutput(dataTable, element);\n",
              "          const docLink = document.createElement('div');\n",
              "          docLink.innerHTML = docLinkHtml;\n",
              "          element.appendChild(docLink);\n",
              "        }\n",
              "      </script>\n",
              "    </div>\n",
              "  </div>\n",
              "  "
            ],
            "text/plain": [
              "                                         id  target\n",
              "0   (10.18019073690894, 105.32022315786804)     NaN\n",
              "1  (10.561107033461816, 105.12772097986661)     NaN\n",
              "2  (10.623790611954897, 105.13771401411867)     NaN\n",
              "3  (10.583364246115156, 105.23946127195805)     NaN\n",
              "4   (10.20744446668854, 105.26844107128906)     NaN"
            ]
          },
          "execution_count": 57,
          "metadata": {},
          "output_type": "execute_result"
        }
      ],
      "source": [
        "test_data.head()"
      ]
    },
    {
      "cell_type": "code",
      "execution_count": null,
      "id": "fd94e835",
      "metadata": {
        "id": "fd94e835"
      },
      "outputs": [],
      "source": [
        "test_data[\"Latitude\"] = test_data[\"id\"].apply(lambda x: float(x[1:-1].split(\",\")[0]))\n",
        "test_data[\"Longitude\"] = test_data[\"id\"].apply(lambda x: float(x[1:-1].split(\",\")[1]))"
      ]
    },
    {
      "cell_type": "code",
      "execution_count": null,
      "id": "08ab6a61",
      "metadata": {
        "colab": {
          "base_uri": "https://localhost:8080/",
          "height": 204
        },
        "id": "08ab6a61",
        "outputId": "92312cb0-789a-445c-8600-b09a25a241e2"
      },
      "outputs": [
        {
          "data": {
            "text/html": [
              "\n",
              "  <div id=\"df-c3f29b29-e11f-42c4-82c4-feac6a2a2cd6\">\n",
              "    <div class=\"colab-df-container\">\n",
              "      <div>\n",
              "<style scoped>\n",
              "    .dataframe tbody tr th:only-of-type {\n",
              "        vertical-align: middle;\n",
              "    }\n",
              "\n",
              "    .dataframe tbody tr th {\n",
              "        vertical-align: top;\n",
              "    }\n",
              "\n",
              "    .dataframe thead th {\n",
              "        text-align: right;\n",
              "    }\n",
              "</style>\n",
              "<table border=\"1\" class=\"dataframe\">\n",
              "  <thead>\n",
              "    <tr style=\"text-align: right;\">\n",
              "      <th></th>\n",
              "      <th>id</th>\n",
              "      <th>target</th>\n",
              "      <th>Latitude</th>\n",
              "      <th>Longitude</th>\n",
              "    </tr>\n",
              "  </thead>\n",
              "  <tbody>\n",
              "    <tr>\n",
              "      <th>0</th>\n",
              "      <td>(10.18019073690894, 105.32022315786804)</td>\n",
              "      <td>NaN</td>\n",
              "      <td>10.180191</td>\n",
              "      <td>105.320223</td>\n",
              "    </tr>\n",
              "    <tr>\n",
              "      <th>1</th>\n",
              "      <td>(10.561107033461816, 105.12772097986661)</td>\n",
              "      <td>NaN</td>\n",
              "      <td>10.561107</td>\n",
              "      <td>105.127721</td>\n",
              "    </tr>\n",
              "    <tr>\n",
              "      <th>2</th>\n",
              "      <td>(10.623790611954897, 105.13771401411867)</td>\n",
              "      <td>NaN</td>\n",
              "      <td>10.623791</td>\n",
              "      <td>105.137714</td>\n",
              "    </tr>\n",
              "    <tr>\n",
              "      <th>3</th>\n",
              "      <td>(10.583364246115156, 105.23946127195805)</td>\n",
              "      <td>NaN</td>\n",
              "      <td>10.583364</td>\n",
              "      <td>105.239461</td>\n",
              "    </tr>\n",
              "    <tr>\n",
              "      <th>4</th>\n",
              "      <td>(10.20744446668854, 105.26844107128906)</td>\n",
              "      <td>NaN</td>\n",
              "      <td>10.207444</td>\n",
              "      <td>105.268441</td>\n",
              "    </tr>\n",
              "  </tbody>\n",
              "</table>\n",
              "</div>\n",
              "      <button class=\"colab-df-convert\" onclick=\"convertToInteractive('df-c3f29b29-e11f-42c4-82c4-feac6a2a2cd6')\"\n",
              "              title=\"Convert this dataframe to an interactive table.\"\n",
              "              style=\"display:none;\">\n",
              "        \n",
              "  <svg xmlns=\"http://www.w3.org/2000/svg\" height=\"24px\"viewBox=\"0 0 24 24\"\n",
              "       width=\"24px\">\n",
              "    <path d=\"M0 0h24v24H0V0z\" fill=\"none\"/>\n",
              "    <path d=\"M18.56 5.44l.94 2.06.94-2.06 2.06-.94-2.06-.94-.94-2.06-.94 2.06-2.06.94zm-11 1L8.5 8.5l.94-2.06 2.06-.94-2.06-.94L8.5 2.5l-.94 2.06-2.06.94zm10 10l.94 2.06.94-2.06 2.06-.94-2.06-.94-.94-2.06-.94 2.06-2.06.94z\"/><path d=\"M17.41 7.96l-1.37-1.37c-.4-.4-.92-.59-1.43-.59-.52 0-1.04.2-1.43.59L10.3 9.45l-7.72 7.72c-.78.78-.78 2.05 0 2.83L4 21.41c.39.39.9.59 1.41.59.51 0 1.02-.2 1.41-.59l7.78-7.78 2.81-2.81c.8-.78.8-2.07 0-2.86zM5.41 20L4 18.59l7.72-7.72 1.47 1.35L5.41 20z\"/>\n",
              "  </svg>\n",
              "      </button>\n",
              "      \n",
              "  <style>\n",
              "    .colab-df-container {\n",
              "      display:flex;\n",
              "      flex-wrap:wrap;\n",
              "      gap: 12px;\n",
              "    }\n",
              "\n",
              "    .colab-df-convert {\n",
              "      background-color: #E8F0FE;\n",
              "      border: none;\n",
              "      border-radius: 50%;\n",
              "      cursor: pointer;\n",
              "      display: none;\n",
              "      fill: #1967D2;\n",
              "      height: 32px;\n",
              "      padding: 0 0 0 0;\n",
              "      width: 32px;\n",
              "    }\n",
              "\n",
              "    .colab-df-convert:hover {\n",
              "      background-color: #E2EBFA;\n",
              "      box-shadow: 0px 1px 2px rgba(60, 64, 67, 0.3), 0px 1px 3px 1px rgba(60, 64, 67, 0.15);\n",
              "      fill: #174EA6;\n",
              "    }\n",
              "\n",
              "    [theme=dark] .colab-df-convert {\n",
              "      background-color: #3B4455;\n",
              "      fill: #D2E3FC;\n",
              "    }\n",
              "\n",
              "    [theme=dark] .colab-df-convert:hover {\n",
              "      background-color: #434B5C;\n",
              "      box-shadow: 0px 1px 3px 1px rgba(0, 0, 0, 0.15);\n",
              "      filter: drop-shadow(0px 1px 2px rgba(0, 0, 0, 0.3));\n",
              "      fill: #FFFFFF;\n",
              "    }\n",
              "  </style>\n",
              "\n",
              "      <script>\n",
              "        const buttonEl =\n",
              "          document.querySelector('#df-c3f29b29-e11f-42c4-82c4-feac6a2a2cd6 button.colab-df-convert');\n",
              "        buttonEl.style.display =\n",
              "          google.colab.kernel.accessAllowed ? 'block' : 'none';\n",
              "\n",
              "        async function convertToInteractive(key) {\n",
              "          const element = document.querySelector('#df-c3f29b29-e11f-42c4-82c4-feac6a2a2cd6');\n",
              "          const dataTable =\n",
              "            await google.colab.kernel.invokeFunction('convertToInteractive',\n",
              "                                                     [key], {});\n",
              "          if (!dataTable) return;\n",
              "\n",
              "          const docLinkHtml = 'Like what you see? Visit the ' +\n",
              "            '<a target=\"_blank\" href=https://colab.research.google.com/notebooks/data_table.ipynb>data table notebook</a>'\n",
              "            + ' to learn more about interactive tables.';\n",
              "          element.innerHTML = '';\n",
              "          dataTable['output_type'] = 'display_data';\n",
              "          await google.colab.output.renderOutput(dataTable, element);\n",
              "          const docLink = document.createElement('div');\n",
              "          docLink.innerHTML = docLinkHtml;\n",
              "          element.appendChild(docLink);\n",
              "        }\n",
              "      </script>\n",
              "    </div>\n",
              "  </div>\n",
              "  "
            ],
            "text/plain": [
              "                                         id  target   Latitude   Longitude\n",
              "0   (10.18019073690894, 105.32022315786804)     NaN  10.180191  105.320223\n",
              "1  (10.561107033461816, 105.12772097986661)     NaN  10.561107  105.127721\n",
              "2  (10.623790611954897, 105.13771401411867)     NaN  10.623791  105.137714\n",
              "3  (10.583364246115156, 105.23946127195805)     NaN  10.583364  105.239461\n",
              "4   (10.20744446668854, 105.26844107128906)     NaN  10.207444  105.268441"
            ]
          },
          "execution_count": 59,
          "metadata": {},
          "output_type": "execute_result"
        }
      ],
      "source": [
        "test_data.head()"
      ]
    },
    {
      "cell_type": "code",
      "execution_count": null,
      "id": "cBihjNP0aa0g",
      "metadata": {
        "id": "cBihjNP0aa0g"
      },
      "outputs": [],
      "source": [
        "lat_arr_test = test_data[\"Latitude\"]\n",
        "long_arr_test = test_data[\"Longitude\"]"
      ]
    },
    {
      "cell_type": "markdown",
      "id": "MdL-HDjlO6zM",
      "metadata": {
        "id": "MdL-HDjlO6zM"
      },
      "source": [
        "Get the satellite data of new location"
      ]
    },
    {
      "cell_type": "code",
      "execution_count": null,
      "id": "93faf7ec",
      "metadata": {
        "colab": {
          "base_uri": "https://localhost:8080/"
        },
        "id": "93faf7ec",
        "outputId": "0ad5f233-aed1-4b85-f037-6aaa57b4d027"
      },
      "outputs": [
        {
          "name": "stderr",
          "output_type": "stream",
          "text": [
            "Running: 100%|██████████| 250/250 [01:13<00:00,  3.39it/s]\n"
          ]
        }
      ],
      "source": [
        "test_lst_1 = [0]*250\n",
        "for inx in tqdm(range(250), desc=\"Running\"):\n",
        "    xx = get_data_latlong(lat_arr_test[inx], long_arr_test[inx], \"2022-05-29/2022-05-30\")\n",
        "    test_lst_1[inx] = xx"
      ]
    },
    {
      "cell_type": "code",
      "execution_count": null,
      "id": "yh4iwGp2aohy",
      "metadata": {
        "colab": {
          "base_uri": "https://localhost:8080/"
        },
        "id": "yh4iwGp2aohy",
        "outputId": "f042393b-25ae-4c00-999a-97fcaa3d8ffa"
      },
      "outputs": [
        {
          "name": "stderr",
          "output_type": "stream",
          "text": [
            "Running: 100%|██████████| 250/250 [01:10<00:00,  3.52it/s]\n"
          ]
        }
      ],
      "source": [
        "test_lst_2 = [0]*250\n",
        "for inx in tqdm(range(250), desc=\"Running\"):\n",
        "    xx = get_data_latlong(lat_arr_test[inx], long_arr_test[inx], \"2022-07-29/2022-07-30\")\n",
        "    test_lst_2[inx] = xx"
      ]
    },
    {
      "cell_type": "code",
      "execution_count": null,
      "id": "yPgvZPnwasVA",
      "metadata": {
        "colab": {
          "base_uri": "https://localhost:8080/"
        },
        "id": "yPgvZPnwasVA",
        "outputId": "c7467a9d-dc18-4e40-b4fc-5eea9fad3324"
      },
      "outputs": [
        {
          "name": "stderr",
          "output_type": "stream",
          "text": [
            "Running: 100%|██████████| 250/250 [01:09<00:00,  3.60it/s]\n"
          ]
        }
      ],
      "source": [
        "test_lst_3 = [0]*250\n",
        "for inx in tqdm(range(250), desc=\"Running\"):\n",
        "    xx = get_data_latlong(lat_arr_test[inx], long_arr_test[inx], \"2022-08-23/2022-08-24\")\n",
        "    test_lst_3[inx] = xx"
      ]
    },
    {
      "cell_type": "code",
      "execution_count": null,
      "id": "54d1a58b",
      "metadata": {
        "colab": {
          "base_uri": "https://localhost:8080/"
        },
        "id": "54d1a58b",
        "outputId": "e8f28ad0-b8f8-4820-b427-340265fdd4cf",
        "scrolled": true
      },
      "outputs": [
        {
          "name": "stderr",
          "output_type": "stream",
          "text": [
            "Running: 100%|██████████| 125/125 [02:14<00:00,  1.08s/it]\n"
          ]
        }
      ],
      "source": [
        "test_lst_np_11 = [0] * 125\n",
        "for inx in tqdm(range(125), desc=\"Running\"):\n",
        "    temp = test_lst_1[inx].isel(time=0)[[\"red\", \"green\", \"blue\"]].to_array()\n",
        "    test_lst_np_11[inx] = temp.data.compute()"
      ]
    },
    {
      "cell_type": "code",
      "execution_count": null,
      "id": "997e3115",
      "metadata": {
        "colab": {
          "base_uri": "https://localhost:8080/",
          "height": 358
        },
        "id": "997e3115",
        "outputId": "53e417f5-4f08-46ce-9d83-520ed5e7b6e9"
      },
      "outputs": [
        {
          "name": "stderr",
          "output_type": "stream",
          "text": [
            "Running:  30%|███       | 38/125 [03:42<08:29,  5.86s/it]\n"
          ]
        },
        {
          "ename": "KeyboardInterrupt",
          "evalue": "ignored",
          "output_type": "error",
          "traceback": [
            "\u001b[0;31m---------------------------------------------------------------------------\u001b[0m",
            "\u001b[0;31mKeyboardInterrupt\u001b[0m                         Traceback (most recent call last)",
            "\u001b[0;32m<ipython-input-144-46a90f64f633>\u001b[0m in \u001b[0;36m<module>\u001b[0;34m\u001b[0m\n\u001b[1;32m      2\u001b[0m \u001b[0;32mfor\u001b[0m \u001b[0minx\u001b[0m \u001b[0;32min\u001b[0m \u001b[0mtqdm\u001b[0m\u001b[0;34m(\u001b[0m\u001b[0mrange\u001b[0m\u001b[0;34m(\u001b[0m\u001b[0;36m125\u001b[0m\u001b[0;34m)\u001b[0m\u001b[0;34m,\u001b[0m \u001b[0mdesc\u001b[0m\u001b[0;34m=\u001b[0m\u001b[0;34m\"Running\"\u001b[0m\u001b[0;34m)\u001b[0m\u001b[0;34m:\u001b[0m\u001b[0;34m\u001b[0m\u001b[0;34m\u001b[0m\u001b[0m\n\u001b[1;32m      3\u001b[0m     \u001b[0mtemp\u001b[0m \u001b[0;34m=\u001b[0m \u001b[0mtest_lst_1\u001b[0m\u001b[0;34m[\u001b[0m\u001b[0;36m125\u001b[0m\u001b[0;34m+\u001b[0m\u001b[0minx\u001b[0m\u001b[0;34m]\u001b[0m\u001b[0;34m.\u001b[0m\u001b[0misel\u001b[0m\u001b[0;34m(\u001b[0m\u001b[0mtime\u001b[0m\u001b[0;34m=\u001b[0m\u001b[0;36m0\u001b[0m\u001b[0;34m)\u001b[0m\u001b[0;34m[\u001b[0m\u001b[0;34m[\u001b[0m\u001b[0;34m\"red\"\u001b[0m\u001b[0;34m,\u001b[0m \u001b[0;34m\"green\"\u001b[0m\u001b[0;34m,\u001b[0m \u001b[0;34m\"blue\"\u001b[0m\u001b[0;34m]\u001b[0m\u001b[0;34m]\u001b[0m\u001b[0;34m.\u001b[0m\u001b[0mto_array\u001b[0m\u001b[0;34m(\u001b[0m\u001b[0;34m)\u001b[0m\u001b[0;34m\u001b[0m\u001b[0;34m\u001b[0m\u001b[0m\n\u001b[0;32m----> 4\u001b[0;31m     \u001b[0mtest_lst_np_12\u001b[0m\u001b[0;34m[\u001b[0m\u001b[0minx\u001b[0m\u001b[0;34m]\u001b[0m \u001b[0;34m=\u001b[0m \u001b[0mtemp\u001b[0m\u001b[0;34m.\u001b[0m\u001b[0mdata\u001b[0m\u001b[0;34m.\u001b[0m\u001b[0mcompute\u001b[0m\u001b[0;34m(\u001b[0m\u001b[0;34m)\u001b[0m\u001b[0;34m\u001b[0m\u001b[0;34m\u001b[0m\u001b[0m\n\u001b[0m",
            "\u001b[0;32m/usr/local/lib/python3.8/dist-packages/dask/base.py\u001b[0m in \u001b[0;36mcompute\u001b[0;34m(self, **kwargs)\u001b[0m\n\u001b[1;32m    288\u001b[0m         \u001b[0mdask\u001b[0m\u001b[0;34m.\u001b[0m\u001b[0mbase\u001b[0m\u001b[0;34m.\u001b[0m\u001b[0mcompute\u001b[0m\u001b[0;34m\u001b[0m\u001b[0;34m\u001b[0m\u001b[0m\n\u001b[1;32m    289\u001b[0m         \"\"\"\n\u001b[0;32m--> 290\u001b[0;31m         \u001b[0;34m(\u001b[0m\u001b[0mresult\u001b[0m\u001b[0;34m,\u001b[0m\u001b[0;34m)\u001b[0m \u001b[0;34m=\u001b[0m \u001b[0mcompute\u001b[0m\u001b[0;34m(\u001b[0m\u001b[0mself\u001b[0m\u001b[0;34m,\u001b[0m \u001b[0mtraverse\u001b[0m\u001b[0;34m=\u001b[0m\u001b[0;32mFalse\u001b[0m\u001b[0;34m,\u001b[0m \u001b[0;34m**\u001b[0m\u001b[0mkwargs\u001b[0m\u001b[0;34m)\u001b[0m\u001b[0;34m\u001b[0m\u001b[0;34m\u001b[0m\u001b[0m\n\u001b[0m\u001b[1;32m    291\u001b[0m         \u001b[0;32mreturn\u001b[0m \u001b[0mresult\u001b[0m\u001b[0;34m\u001b[0m\u001b[0;34m\u001b[0m\u001b[0m\n\u001b[1;32m    292\u001b[0m \u001b[0;34m\u001b[0m\u001b[0m\n",
            "\u001b[0;32m/usr/local/lib/python3.8/dist-packages/dask/base.py\u001b[0m in \u001b[0;36mcompute\u001b[0;34m(traverse, optimize_graph, scheduler, get, *args, **kwargs)\u001b[0m\n\u001b[1;32m    571\u001b[0m         \u001b[0mpostcomputes\u001b[0m\u001b[0;34m.\u001b[0m\u001b[0mappend\u001b[0m\u001b[0;34m(\u001b[0m\u001b[0mx\u001b[0m\u001b[0;34m.\u001b[0m\u001b[0m__dask_postcompute__\u001b[0m\u001b[0;34m(\u001b[0m\u001b[0;34m)\u001b[0m\u001b[0;34m)\u001b[0m\u001b[0;34m\u001b[0m\u001b[0;34m\u001b[0m\u001b[0m\n\u001b[1;32m    572\u001b[0m \u001b[0;34m\u001b[0m\u001b[0m\n\u001b[0;32m--> 573\u001b[0;31m     \u001b[0mresults\u001b[0m \u001b[0;34m=\u001b[0m \u001b[0mschedule\u001b[0m\u001b[0;34m(\u001b[0m\u001b[0mdsk\u001b[0m\u001b[0;34m,\u001b[0m \u001b[0mkeys\u001b[0m\u001b[0;34m,\u001b[0m \u001b[0;34m**\u001b[0m\u001b[0mkwargs\u001b[0m\u001b[0;34m)\u001b[0m\u001b[0;34m\u001b[0m\u001b[0;34m\u001b[0m\u001b[0m\n\u001b[0m\u001b[1;32m    574\u001b[0m     \u001b[0;32mreturn\u001b[0m \u001b[0mrepack\u001b[0m\u001b[0;34m(\u001b[0m\u001b[0;34m[\u001b[0m\u001b[0mf\u001b[0m\u001b[0;34m(\u001b[0m\u001b[0mr\u001b[0m\u001b[0;34m,\u001b[0m \u001b[0;34m*\u001b[0m\u001b[0ma\u001b[0m\u001b[0;34m)\u001b[0m \u001b[0;32mfor\u001b[0m \u001b[0mr\u001b[0m\u001b[0;34m,\u001b[0m \u001b[0;34m(\u001b[0m\u001b[0mf\u001b[0m\u001b[0;34m,\u001b[0m \u001b[0ma\u001b[0m\u001b[0;34m)\u001b[0m \u001b[0;32min\u001b[0m \u001b[0mzip\u001b[0m\u001b[0;34m(\u001b[0m\u001b[0mresults\u001b[0m\u001b[0;34m,\u001b[0m \u001b[0mpostcomputes\u001b[0m\u001b[0;34m)\u001b[0m\u001b[0;34m]\u001b[0m\u001b[0;34m)\u001b[0m\u001b[0;34m\u001b[0m\u001b[0;34m\u001b[0m\u001b[0m\n\u001b[1;32m    575\u001b[0m \u001b[0;34m\u001b[0m\u001b[0m\n",
            "\u001b[0;32m/usr/local/lib/python3.8/dist-packages/dask/threaded.py\u001b[0m in \u001b[0;36mget\u001b[0;34m(dsk, result, cache, num_workers, pool, **kwargs)\u001b[0m\n\u001b[1;32m     79\u001b[0m             \u001b[0mpool\u001b[0m \u001b[0;34m=\u001b[0m \u001b[0mMultiprocessingPoolExecutor\u001b[0m\u001b[0;34m(\u001b[0m\u001b[0mpool\u001b[0m\u001b[0;34m)\u001b[0m\u001b[0;34m\u001b[0m\u001b[0;34m\u001b[0m\u001b[0m\n\u001b[1;32m     80\u001b[0m \u001b[0;34m\u001b[0m\u001b[0m\n\u001b[0;32m---> 81\u001b[0;31m     results = get_async(\n\u001b[0m\u001b[1;32m     82\u001b[0m         \u001b[0mpool\u001b[0m\u001b[0;34m.\u001b[0m\u001b[0msubmit\u001b[0m\u001b[0;34m,\u001b[0m\u001b[0;34m\u001b[0m\u001b[0;34m\u001b[0m\u001b[0m\n\u001b[1;32m     83\u001b[0m         \u001b[0mpool\u001b[0m\u001b[0;34m.\u001b[0m\u001b[0m_max_workers\u001b[0m\u001b[0;34m,\u001b[0m\u001b[0;34m\u001b[0m\u001b[0;34m\u001b[0m\u001b[0m\n",
            "\u001b[0;32m/usr/local/lib/python3.8/dist-packages/dask/local.py\u001b[0m in \u001b[0;36mget_async\u001b[0;34m(submit, num_workers, dsk, result, cache, get_id, rerun_exceptions_locally, pack_exception, raise_exception, callbacks, dumps, loads, chunksize, **kwargs)\u001b[0m\n\u001b[1;32m    493\u001b[0m             \u001b[0;32mwhile\u001b[0m \u001b[0mstate\u001b[0m\u001b[0;34m[\u001b[0m\u001b[0;34m\"waiting\"\u001b[0m\u001b[0;34m]\u001b[0m \u001b[0;32mor\u001b[0m \u001b[0mstate\u001b[0m\u001b[0;34m[\u001b[0m\u001b[0;34m\"ready\"\u001b[0m\u001b[0;34m]\u001b[0m \u001b[0;32mor\u001b[0m \u001b[0mstate\u001b[0m\u001b[0;34m[\u001b[0m\u001b[0;34m\"running\"\u001b[0m\u001b[0;34m]\u001b[0m\u001b[0;34m:\u001b[0m\u001b[0;34m\u001b[0m\u001b[0;34m\u001b[0m\u001b[0m\n\u001b[1;32m    494\u001b[0m                 \u001b[0mfire_tasks\u001b[0m\u001b[0;34m(\u001b[0m\u001b[0mchunksize\u001b[0m\u001b[0;34m)\u001b[0m\u001b[0;34m\u001b[0m\u001b[0;34m\u001b[0m\u001b[0m\n\u001b[0;32m--> 495\u001b[0;31m                 \u001b[0;32mfor\u001b[0m \u001b[0mkey\u001b[0m\u001b[0;34m,\u001b[0m \u001b[0mres_info\u001b[0m\u001b[0;34m,\u001b[0m \u001b[0mfailed\u001b[0m \u001b[0;32min\u001b[0m \u001b[0mqueue_get\u001b[0m\u001b[0;34m(\u001b[0m\u001b[0mqueue\u001b[0m\u001b[0;34m)\u001b[0m\u001b[0;34m.\u001b[0m\u001b[0mresult\u001b[0m\u001b[0;34m(\u001b[0m\u001b[0;34m)\u001b[0m\u001b[0;34m:\u001b[0m\u001b[0;34m\u001b[0m\u001b[0;34m\u001b[0m\u001b[0m\n\u001b[0m\u001b[1;32m    496\u001b[0m                     \u001b[0;32mif\u001b[0m \u001b[0mfailed\u001b[0m\u001b[0;34m:\u001b[0m\u001b[0;34m\u001b[0m\u001b[0;34m\u001b[0m\u001b[0m\n\u001b[1;32m    497\u001b[0m                         \u001b[0mexc\u001b[0m\u001b[0;34m,\u001b[0m \u001b[0mtb\u001b[0m \u001b[0;34m=\u001b[0m \u001b[0mloads\u001b[0m\u001b[0;34m(\u001b[0m\u001b[0mres_info\u001b[0m\u001b[0;34m)\u001b[0m\u001b[0;34m\u001b[0m\u001b[0;34m\u001b[0m\u001b[0m\n",
            "\u001b[0;32m/usr/local/lib/python3.8/dist-packages/dask/local.py\u001b[0m in \u001b[0;36mqueue_get\u001b[0;34m(q)\u001b[0m\n\u001b[1;32m    131\u001b[0m \u001b[0;34m\u001b[0m\u001b[0m\n\u001b[1;32m    132\u001b[0m     \u001b[0;32mdef\u001b[0m \u001b[0mqueue_get\u001b[0m\u001b[0;34m(\u001b[0m\u001b[0mq\u001b[0m\u001b[0;34m)\u001b[0m\u001b[0;34m:\u001b[0m\u001b[0;34m\u001b[0m\u001b[0;34m\u001b[0m\u001b[0m\n\u001b[0;32m--> 133\u001b[0;31m         \u001b[0;32mreturn\u001b[0m \u001b[0mq\u001b[0m\u001b[0;34m.\u001b[0m\u001b[0mget\u001b[0m\u001b[0;34m(\u001b[0m\u001b[0;34m)\u001b[0m\u001b[0;34m\u001b[0m\u001b[0;34m\u001b[0m\u001b[0m\n\u001b[0m\u001b[1;32m    134\u001b[0m \u001b[0;34m\u001b[0m\u001b[0m\n\u001b[1;32m    135\u001b[0m \u001b[0;34m\u001b[0m\u001b[0m\n",
            "\u001b[0;32m/usr/lib/python3.8/queue.py\u001b[0m in \u001b[0;36mget\u001b[0;34m(self, block, timeout)\u001b[0m\n\u001b[1;32m    168\u001b[0m             \u001b[0;32melif\u001b[0m \u001b[0mtimeout\u001b[0m \u001b[0;32mis\u001b[0m \u001b[0;32mNone\u001b[0m\u001b[0;34m:\u001b[0m\u001b[0;34m\u001b[0m\u001b[0;34m\u001b[0m\u001b[0m\n\u001b[1;32m    169\u001b[0m                 \u001b[0;32mwhile\u001b[0m \u001b[0;32mnot\u001b[0m \u001b[0mself\u001b[0m\u001b[0;34m.\u001b[0m\u001b[0m_qsize\u001b[0m\u001b[0;34m(\u001b[0m\u001b[0;34m)\u001b[0m\u001b[0;34m:\u001b[0m\u001b[0;34m\u001b[0m\u001b[0;34m\u001b[0m\u001b[0m\n\u001b[0;32m--> 170\u001b[0;31m                     \u001b[0mself\u001b[0m\u001b[0;34m.\u001b[0m\u001b[0mnot_empty\u001b[0m\u001b[0;34m.\u001b[0m\u001b[0mwait\u001b[0m\u001b[0;34m(\u001b[0m\u001b[0;34m)\u001b[0m\u001b[0;34m\u001b[0m\u001b[0;34m\u001b[0m\u001b[0m\n\u001b[0m\u001b[1;32m    171\u001b[0m             \u001b[0;32melif\u001b[0m \u001b[0mtimeout\u001b[0m \u001b[0;34m<\u001b[0m \u001b[0;36m0\u001b[0m\u001b[0;34m:\u001b[0m\u001b[0;34m\u001b[0m\u001b[0;34m\u001b[0m\u001b[0m\n\u001b[1;32m    172\u001b[0m                 \u001b[0;32mraise\u001b[0m \u001b[0mValueError\u001b[0m\u001b[0;34m(\u001b[0m\u001b[0;34m\"'timeout' must be a non-negative number\"\u001b[0m\u001b[0;34m)\u001b[0m\u001b[0;34m\u001b[0m\u001b[0;34m\u001b[0m\u001b[0m\n",
            "\u001b[0;32m/usr/lib/python3.8/threading.py\u001b[0m in \u001b[0;36mwait\u001b[0;34m(self, timeout)\u001b[0m\n\u001b[1;32m    300\u001b[0m         \u001b[0;32mtry\u001b[0m\u001b[0;34m:\u001b[0m    \u001b[0;31m# restore state no matter what (e.g., KeyboardInterrupt)\u001b[0m\u001b[0;34m\u001b[0m\u001b[0;34m\u001b[0m\u001b[0m\n\u001b[1;32m    301\u001b[0m             \u001b[0;32mif\u001b[0m \u001b[0mtimeout\u001b[0m \u001b[0;32mis\u001b[0m \u001b[0;32mNone\u001b[0m\u001b[0;34m:\u001b[0m\u001b[0;34m\u001b[0m\u001b[0;34m\u001b[0m\u001b[0m\n\u001b[0;32m--> 302\u001b[0;31m                 \u001b[0mwaiter\u001b[0m\u001b[0;34m.\u001b[0m\u001b[0macquire\u001b[0m\u001b[0;34m(\u001b[0m\u001b[0;34m)\u001b[0m\u001b[0;34m\u001b[0m\u001b[0;34m\u001b[0m\u001b[0m\n\u001b[0m\u001b[1;32m    303\u001b[0m                 \u001b[0mgotit\u001b[0m \u001b[0;34m=\u001b[0m \u001b[0;32mTrue\u001b[0m\u001b[0;34m\u001b[0m\u001b[0;34m\u001b[0m\u001b[0m\n\u001b[1;32m    304\u001b[0m             \u001b[0;32melse\u001b[0m\u001b[0;34m:\u001b[0m\u001b[0;34m\u001b[0m\u001b[0;34m\u001b[0m\u001b[0m\n",
            "\u001b[0;31mKeyboardInterrupt\u001b[0m: "
          ]
        }
      ],
      "source": [
        "test_lst_np_12 = [0] * 125\n",
        "for inx in tqdm(range(125), desc=\"Running\"):\n",
        "    temp = test_lst_1[125+inx].isel(time=0)[[\"red\", \"green\", \"blue\"]].to_array()\n",
        "    test_lst_np_12[inx] = temp.data.compute()"
      ]
    },
    {
      "cell_type": "code",
      "execution_count": null,
      "id": "Hv5roDavbYue",
      "metadata": {
        "colab": {
          "base_uri": "https://localhost:8080/"
        },
        "id": "Hv5roDavbYue",
        "outputId": "55f17c90-c130-4fb2-f2a1-f05e1618e8d7"
      },
      "outputs": [
        {
          "name": "stderr",
          "output_type": "stream",
          "text": [
            "Running: 100%|██████████| 125/125 [02:11<00:00,  1.05s/it]\n"
          ]
        }
      ],
      "source": [
        "test_lst_np_21 = [0] * 125\n",
        "for inx in tqdm(range(125), desc=\"Running\"):\n",
        "    temp = test_lst_2[inx].isel(time=0)[[\"red\", \"green\", \"blue\"]].to_array()\n",
        "    test_lst_np_21[inx] = temp.data.compute()"
      ]
    },
    {
      "cell_type": "code",
      "execution_count": null,
      "id": "WgTrE2qJbY0_",
      "metadata": {
        "colab": {
          "base_uri": "https://localhost:8080/"
        },
        "id": "WgTrE2qJbY0_",
        "outputId": "19af84a0-e319-4814-c03d-05dfa1ec7880"
      },
      "outputs": [
        {
          "name": "stderr",
          "output_type": "stream",
          "text": [
            "Running: 100%|██████████| 125/125 [02:48<00:00,  1.35s/it]\n"
          ]
        }
      ],
      "source": [
        "test_lst_np_22 = [0] * 125\n",
        "for inx in tqdm(range(125), desc=\"Running\"):\n",
        "    temp = test_lst_2[125+inx].isel(time=0)[[\"red\", \"green\", \"blue\"]].to_array()\n",
        "    test_lst_np_22[inx] = temp.data.compute()"
      ]
    },
    {
      "cell_type": "code",
      "execution_count": null,
      "id": "LtlYkx13bY_0",
      "metadata": {
        "colab": {
          "base_uri": "https://localhost:8080/"
        },
        "id": "LtlYkx13bY_0",
        "outputId": "4afd5145-75ad-489c-a0fb-a124aa544959"
      },
      "outputs": [
        {
          "name": "stderr",
          "output_type": "stream",
          "text": [
            "Running: 100%|██████████| 125/125 [02:58<00:00,  1.43s/it]\n"
          ]
        }
      ],
      "source": [
        "test_lst_np_31 = [0] * 125\n",
        "for inx in tqdm(range(125), desc=\"Running\"):\n",
        "    temp = test_lst_3[inx].isel(time=0)[[\"red\", \"green\", \"blue\"]].to_array()\n",
        "    test_lst_np_31[inx] = temp.data.compute()"
      ]
    },
    {
      "cell_type": "code",
      "execution_count": null,
      "id": "YbQU2SW3bZLF",
      "metadata": {
        "colab": {
          "base_uri": "https://localhost:8080/"
        },
        "id": "YbQU2SW3bZLF",
        "outputId": "495fccd6-aa43-44e0-d285-f76ea5704f24"
      },
      "outputs": [
        {
          "name": "stderr",
          "output_type": "stream",
          "text": [
            "Running: 100%|██████████| 125/125 [02:55<00:00,  1.40s/it]\n"
          ]
        }
      ],
      "source": [
        "test_lst_np_32 = [0] * 125\n",
        "for inx in tqdm(range(125), desc=\"Running\"):\n",
        "    temp = test_lst_3[125+inx].isel(time=0)[[\"red\", \"green\", \"blue\"]].to_array()\n",
        "    test_lst_np_32[inx] = temp.data.compute()"
      ]
    },
    {
      "cell_type": "code",
      "execution_count": null,
      "id": "a597cbbe",
      "metadata": {
        "id": "a597cbbe"
      },
      "outputs": [],
      "source": [
        "for inx in range(125):\n",
        "    test_lst_np_11[inx] = np.resize(test_lst_np_11[inx], (3, 557, 557))\n",
        "    test_lst_np_12[inx] = np.resize(test_lst_np_12[inx], (3, 557, 557))\n",
        "    test_lst_np_21[inx] = np.resize(test_lst_np_21[inx], (3, 557, 557))\n",
        "    test_lst_np_22[inx] = np.resize(test_lst_np_22[inx], (3, 557, 557))\n",
        "    test_lst_np_31[inx] = np.resize(test_lst_np_31[inx], (3, 557, 557))\n",
        "    test_lst_np_32[inx] = np.resize(test_lst_np_32[inx], (3, 557, 557))"
      ]
    },
    {
      "cell_type": "markdown",
      "id": "D5Z-cGfy1zB-",
      "metadata": {
        "id": "D5Z-cGfy1zB-"
      },
      "source": [
        "Use resnet-18 to predict"
      ]
    },
    {
      "cell_type": "code",
      "execution_count": null,
      "id": "gzYOXyA7AF3o",
      "metadata": {
        "id": "gzYOXyA7AF3o"
      },
      "outputs": [],
      "source": [
        "my_test_data_1 = test_lst_np_11 + test_lst_np_12\n",
        "my_test_data_2 = test_lst_np_21 + test_lst_np_22\n",
        "my_test_data_3 = test_lst_np_31 + test_lst_np_32"
      ]
    },
    {
      "cell_type": "code",
      "execution_count": null,
      "id": "UDWqtW8016pW",
      "metadata": {
        "id": "UDWqtW8016pW"
      },
      "outputs": [],
      "source": [
        "transformations = torchvision.transforms.Compose([\n",
        "    torchvision.transforms.ToPILImage(),\n",
        "    torchvision.transforms.Resize(256),\n",
        "    torchvision.transforms.CenterCrop(224),\n",
        "    torchvision.transforms.ToTensor(),\n",
        "    torchvision.transforms.Normalize(mean=[0.485, 0.456, 0.406], std=[0.229, 0.224, 0.225])\n",
        "])"
      ]
    },
    {
      "cell_type": "code",
      "execution_count": null,
      "id": "jeDMXYgv2HJM",
      "metadata": {
        "id": "jeDMXYgv2HJM"
      },
      "outputs": [],
      "source": [
        "for i in range(250):\n",
        "  my_test_data_1[i] = transformations(my_test_data_1[i].reshape(557,557,3).astype('uint8'))\n",
        "  my_test_data_2[i] = transformations(my_test_data_2[i].reshape(557,557,3).astype('uint8'))\n",
        "  my_test_data_3[i] = transformations(my_test_data_3[i].reshape(557,557,3).astype('uint8'))"
      ]
    },
    {
      "cell_type": "code",
      "execution_count": null,
      "id": "62YZu96v2NQF",
      "metadata": {
        "id": "62YZu96v2NQF"
      },
      "outputs": [],
      "source": [
        "my_test_arr_1 = torch.stack(my_test_data_1)\n",
        "my_test_arr_1 = torch.FloatTensor(my_test_arr_1)\n",
        "my_test_arr_2 = torch.stack(my_test_data_2)\n",
        "my_test_arr_2 = torch.FloatTensor(my_test_arr_2)\n",
        "my_test_arr_3 = torch.stack(my_test_data_3)\n",
        "my_test_arr_3 = torch.FloatTensor(my_test_arr_3)"
      ]
    },
    {
      "cell_type": "code",
      "execution_count": null,
      "id": "mYDVkg934UiN",
      "metadata": {
        "id": "mYDVkg934UiN"
      },
      "outputs": [],
      "source": [
        "my_dummy_label = [0] * 250\n",
        "my_dummy_label = torch.LongTensor(np.array(my_dummy_label))"
      ]
    },
    {
      "cell_type": "code",
      "execution_count": null,
      "id": "087v_aS12kvN",
      "metadata": {
        "id": "087v_aS12kvN"
      },
      "outputs": [],
      "source": [
        "my_test_dataset_1 = TensorDataset(my_test_arr_1, my_dummy_label)\n",
        "my_test_dataset_2 = TensorDataset(my_test_arr_2, my_dummy_label)\n",
        "my_test_dataset_3 = TensorDataset(my_test_arr_3, my_dummy_label)"
      ]
    },
    {
      "cell_type": "code",
      "execution_count": null,
      "id": "bVhheaxm2p7K",
      "metadata": {
        "id": "bVhheaxm2p7K"
      },
      "outputs": [],
      "source": [
        "my_test_dataloader_1 = torch.utils.data.DataLoader(my_test_dataset_1, batch_size=32, shuffle=False, num_workers=8)\n",
        "my_test_dataloader_2 = torch.utils.data.DataLoader(my_test_dataset_2, batch_size=32, shuffle=False, num_workers=8)\n",
        "my_test_dataloader_3 = torch.utils.data.DataLoader(my_test_dataset_3, batch_size=32, shuffle=False, num_workers=8)"
      ]
    },
    {
      "cell_type": "code",
      "execution_count": null,
      "id": "K-x3yQIN20O4",
      "metadata": {
        "id": "K-x3yQIN20O4"
      },
      "outputs": [],
      "source": [
        "# Loop over the DataLoader and pass the data through the model\n",
        "def predict(aDataloader):\n",
        "  predictions = []\n",
        "  with torch.no_grad():\n",
        "      for i, (inputs, labels) in enumerate(aDataloader):\n",
        "          inputs = inputs.to(device)\n",
        "          labels = labels.to(device)\n",
        "          outputs = model(inputs)\n",
        "          _, preds = torch.max(outputs, 1)\n",
        "          predictions += preds.tolist()\n",
        "  return predictions"
      ]
    },
    {
      "cell_type": "code",
      "execution_count": null,
      "id": "yjQNELxDdv_L",
      "metadata": {
        "id": "yjQNELxDdv_L"
      },
      "outputs": [],
      "source": [
        "pred1 = predict(my_test_dataloader_1)"
      ]
    },
    {
      "cell_type": "code",
      "execution_count": null,
      "id": "0TGQJRuveM3a",
      "metadata": {
        "id": "0TGQJRuveM3a"
      },
      "outputs": [],
      "source": [
        "pred2 = predict(my_test_dataloader_2)"
      ]
    },
    {
      "cell_type": "code",
      "execution_count": null,
      "id": "wigUYOfSeNBW",
      "metadata": {
        "id": "wigUYOfSeNBW"
      },
      "outputs": [],
      "source": [
        "pred3 = predict(my_test_dataloader_3)"
      ]
    },
    {
      "cell_type": "code",
      "execution_count": null,
      "id": "zen6Lpv2iWqo",
      "metadata": {
        "id": "zen6Lpv2iWqo"
      },
      "outputs": [],
      "source": [
        "df = pd.DataFrame({\"target1\": pred1, \"target2\" : pred2, \"target3\": pred3})"
      ]
    },
    {
      "cell_type": "code",
      "execution_count": null,
      "id": "IzqjOHJGicls",
      "metadata": {
        "id": "IzqjOHJGicls"
      },
      "outputs": [],
      "source": [
        "df[\"target\"] = (df[\"target1\"] + df[\"target2\"] + df[\"target3\"]) / 3\n",
        "df[\"target\"] = df[\"target\"].apply(lambda x: 1 if x > 0.5 else 0)"
      ]
    },
    {
      "cell_type": "code",
      "execution_count": null,
      "id": "s-u7JvejkUVZ",
      "metadata": {
        "colab": {
          "base_uri": "https://localhost:8080/",
          "height": 204
        },
        "id": "s-u7JvejkUVZ",
        "outputId": "1ec2ede9-455f-45e3-ee24-0db598a276d6"
      },
      "outputs": [
        {
          "data": {
            "text/html": [
              "\n",
              "  <div id=\"df-be8b1158-cbbe-4883-8172-67f087b1a873\">\n",
              "    <div class=\"colab-df-container\">\n",
              "      <div>\n",
              "<style scoped>\n",
              "    .dataframe tbody tr th:only-of-type {\n",
              "        vertical-align: middle;\n",
              "    }\n",
              "\n",
              "    .dataframe tbody tr th {\n",
              "        vertical-align: top;\n",
              "    }\n",
              "\n",
              "    .dataframe thead th {\n",
              "        text-align: right;\n",
              "    }\n",
              "</style>\n",
              "<table border=\"1\" class=\"dataframe\">\n",
              "  <thead>\n",
              "    <tr style=\"text-align: right;\">\n",
              "      <th></th>\n",
              "      <th>target1</th>\n",
              "      <th>target2</th>\n",
              "      <th>target3</th>\n",
              "      <th>target</th>\n",
              "    </tr>\n",
              "  </thead>\n",
              "  <tbody>\n",
              "    <tr>\n",
              "      <th>0</th>\n",
              "      <td>1</td>\n",
              "      <td>0</td>\n",
              "      <td>1</td>\n",
              "      <td>1</td>\n",
              "    </tr>\n",
              "    <tr>\n",
              "      <th>1</th>\n",
              "      <td>0</td>\n",
              "      <td>0</td>\n",
              "      <td>0</td>\n",
              "      <td>0</td>\n",
              "    </tr>\n",
              "    <tr>\n",
              "      <th>2</th>\n",
              "      <td>0</td>\n",
              "      <td>0</td>\n",
              "      <td>0</td>\n",
              "      <td>0</td>\n",
              "    </tr>\n",
              "    <tr>\n",
              "      <th>3</th>\n",
              "      <td>1</td>\n",
              "      <td>0</td>\n",
              "      <td>0</td>\n",
              "      <td>0</td>\n",
              "    </tr>\n",
              "    <tr>\n",
              "      <th>4</th>\n",
              "      <td>1</td>\n",
              "      <td>0</td>\n",
              "      <td>1</td>\n",
              "      <td>1</td>\n",
              "    </tr>\n",
              "  </tbody>\n",
              "</table>\n",
              "</div>\n",
              "      <button class=\"colab-df-convert\" onclick=\"convertToInteractive('df-be8b1158-cbbe-4883-8172-67f087b1a873')\"\n",
              "              title=\"Convert this dataframe to an interactive table.\"\n",
              "              style=\"display:none;\">\n",
              "        \n",
              "  <svg xmlns=\"http://www.w3.org/2000/svg\" height=\"24px\"viewBox=\"0 0 24 24\"\n",
              "       width=\"24px\">\n",
              "    <path d=\"M0 0h24v24H0V0z\" fill=\"none\"/>\n",
              "    <path d=\"M18.56 5.44l.94 2.06.94-2.06 2.06-.94-2.06-.94-.94-2.06-.94 2.06-2.06.94zm-11 1L8.5 8.5l.94-2.06 2.06-.94-2.06-.94L8.5 2.5l-.94 2.06-2.06.94zm10 10l.94 2.06.94-2.06 2.06-.94-2.06-.94-.94-2.06-.94 2.06-2.06.94z\"/><path d=\"M17.41 7.96l-1.37-1.37c-.4-.4-.92-.59-1.43-.59-.52 0-1.04.2-1.43.59L10.3 9.45l-7.72 7.72c-.78.78-.78 2.05 0 2.83L4 21.41c.39.39.9.59 1.41.59.51 0 1.02-.2 1.41-.59l7.78-7.78 2.81-2.81c.8-.78.8-2.07 0-2.86zM5.41 20L4 18.59l7.72-7.72 1.47 1.35L5.41 20z\"/>\n",
              "  </svg>\n",
              "      </button>\n",
              "      \n",
              "  <style>\n",
              "    .colab-df-container {\n",
              "      display:flex;\n",
              "      flex-wrap:wrap;\n",
              "      gap: 12px;\n",
              "    }\n",
              "\n",
              "    .colab-df-convert {\n",
              "      background-color: #E8F0FE;\n",
              "      border: none;\n",
              "      border-radius: 50%;\n",
              "      cursor: pointer;\n",
              "      display: none;\n",
              "      fill: #1967D2;\n",
              "      height: 32px;\n",
              "      padding: 0 0 0 0;\n",
              "      width: 32px;\n",
              "    }\n",
              "\n",
              "    .colab-df-convert:hover {\n",
              "      background-color: #E2EBFA;\n",
              "      box-shadow: 0px 1px 2px rgba(60, 64, 67, 0.3), 0px 1px 3px 1px rgba(60, 64, 67, 0.15);\n",
              "      fill: #174EA6;\n",
              "    }\n",
              "\n",
              "    [theme=dark] .colab-df-convert {\n",
              "      background-color: #3B4455;\n",
              "      fill: #D2E3FC;\n",
              "    }\n",
              "\n",
              "    [theme=dark] .colab-df-convert:hover {\n",
              "      background-color: #434B5C;\n",
              "      box-shadow: 0px 1px 3px 1px rgba(0, 0, 0, 0.15);\n",
              "      filter: drop-shadow(0px 1px 2px rgba(0, 0, 0, 0.3));\n",
              "      fill: #FFFFFF;\n",
              "    }\n",
              "  </style>\n",
              "\n",
              "      <script>\n",
              "        const buttonEl =\n",
              "          document.querySelector('#df-be8b1158-cbbe-4883-8172-67f087b1a873 button.colab-df-convert');\n",
              "        buttonEl.style.display =\n",
              "          google.colab.kernel.accessAllowed ? 'block' : 'none';\n",
              "\n",
              "        async function convertToInteractive(key) {\n",
              "          const element = document.querySelector('#df-be8b1158-cbbe-4883-8172-67f087b1a873');\n",
              "          const dataTable =\n",
              "            await google.colab.kernel.invokeFunction('convertToInteractive',\n",
              "                                                     [key], {});\n",
              "          if (!dataTable) return;\n",
              "\n",
              "          const docLinkHtml = 'Like what you see? Visit the ' +\n",
              "            '<a target=\"_blank\" href=https://colab.research.google.com/notebooks/data_table.ipynb>data table notebook</a>'\n",
              "            + ' to learn more about interactive tables.';\n",
              "          element.innerHTML = '';\n",
              "          dataTable['output_type'] = 'display_data';\n",
              "          await google.colab.output.renderOutput(dataTable, element);\n",
              "          const docLink = document.createElement('div');\n",
              "          docLink.innerHTML = docLinkHtml;\n",
              "          element.appendChild(docLink);\n",
              "        }\n",
              "      </script>\n",
              "    </div>\n",
              "  </div>\n",
              "  "
            ],
            "text/plain": [
              "   target1  target2  target3  target\n",
              "0        1        0        1       1\n",
              "1        0        0        0       0\n",
              "2        0        0        0       0\n",
              "3        1        0        0       0\n",
              "4        1        0        1       1"
            ]
          },
          "execution_count": 120,
          "metadata": {},
          "output_type": "execute_result"
        }
      ],
      "source": [
        "df.head()"
      ]
    },
    {
      "cell_type": "code",
      "execution_count": null,
      "id": "9PIU1DQj45oT",
      "metadata": {
        "id": "9PIU1DQj45oT"
      },
      "outputs": [],
      "source": [
        "test_data[\"target\"] = df[\"target\"]"
      ]
    },
    {
      "cell_type": "code",
      "execution_count": null,
      "id": "xVKk8f21kjIK",
      "metadata": {
        "colab": {
          "base_uri": "https://localhost:8080/",
          "height": 204
        },
        "id": "xVKk8f21kjIK",
        "outputId": "bd0909b4-e3e1-486c-9c8b-37e5f7b12d6f"
      },
      "outputs": [
        {
          "data": {
            "text/html": [
              "\n",
              "  <div id=\"df-63960386-dc46-458c-a63a-2fc418856842\">\n",
              "    <div class=\"colab-df-container\">\n",
              "      <div>\n",
              "<style scoped>\n",
              "    .dataframe tbody tr th:only-of-type {\n",
              "        vertical-align: middle;\n",
              "    }\n",
              "\n",
              "    .dataframe tbody tr th {\n",
              "        vertical-align: top;\n",
              "    }\n",
              "\n",
              "    .dataframe thead th {\n",
              "        text-align: right;\n",
              "    }\n",
              "</style>\n",
              "<table border=\"1\" class=\"dataframe\">\n",
              "  <thead>\n",
              "    <tr style=\"text-align: right;\">\n",
              "      <th></th>\n",
              "      <th>id</th>\n",
              "      <th>target</th>\n",
              "      <th>Latitude</th>\n",
              "      <th>Longitude</th>\n",
              "    </tr>\n",
              "  </thead>\n",
              "  <tbody>\n",
              "    <tr>\n",
              "      <th>0</th>\n",
              "      <td>(10.18019073690894, 105.32022315786804)</td>\n",
              "      <td>1</td>\n",
              "      <td>10.180191</td>\n",
              "      <td>105.320223</td>\n",
              "    </tr>\n",
              "    <tr>\n",
              "      <th>1</th>\n",
              "      <td>(10.561107033461816, 105.12772097986661)</td>\n",
              "      <td>0</td>\n",
              "      <td>10.561107</td>\n",
              "      <td>105.127721</td>\n",
              "    </tr>\n",
              "    <tr>\n",
              "      <th>2</th>\n",
              "      <td>(10.623790611954897, 105.13771401411867)</td>\n",
              "      <td>0</td>\n",
              "      <td>10.623791</td>\n",
              "      <td>105.137714</td>\n",
              "    </tr>\n",
              "    <tr>\n",
              "      <th>3</th>\n",
              "      <td>(10.583364246115156, 105.23946127195805)</td>\n",
              "      <td>0</td>\n",
              "      <td>10.583364</td>\n",
              "      <td>105.239461</td>\n",
              "    </tr>\n",
              "    <tr>\n",
              "      <th>4</th>\n",
              "      <td>(10.20744446668854, 105.26844107128906)</td>\n",
              "      <td>1</td>\n",
              "      <td>10.207444</td>\n",
              "      <td>105.268441</td>\n",
              "    </tr>\n",
              "  </tbody>\n",
              "</table>\n",
              "</div>\n",
              "      <button class=\"colab-df-convert\" onclick=\"convertToInteractive('df-63960386-dc46-458c-a63a-2fc418856842')\"\n",
              "              title=\"Convert this dataframe to an interactive table.\"\n",
              "              style=\"display:none;\">\n",
              "        \n",
              "  <svg xmlns=\"http://www.w3.org/2000/svg\" height=\"24px\"viewBox=\"0 0 24 24\"\n",
              "       width=\"24px\">\n",
              "    <path d=\"M0 0h24v24H0V0z\" fill=\"none\"/>\n",
              "    <path d=\"M18.56 5.44l.94 2.06.94-2.06 2.06-.94-2.06-.94-.94-2.06-.94 2.06-2.06.94zm-11 1L8.5 8.5l.94-2.06 2.06-.94-2.06-.94L8.5 2.5l-.94 2.06-2.06.94zm10 10l.94 2.06.94-2.06 2.06-.94-2.06-.94-.94-2.06-.94 2.06-2.06.94z\"/><path d=\"M17.41 7.96l-1.37-1.37c-.4-.4-.92-.59-1.43-.59-.52 0-1.04.2-1.43.59L10.3 9.45l-7.72 7.72c-.78.78-.78 2.05 0 2.83L4 21.41c.39.39.9.59 1.41.59.51 0 1.02-.2 1.41-.59l7.78-7.78 2.81-2.81c.8-.78.8-2.07 0-2.86zM5.41 20L4 18.59l7.72-7.72 1.47 1.35L5.41 20z\"/>\n",
              "  </svg>\n",
              "      </button>\n",
              "      \n",
              "  <style>\n",
              "    .colab-df-container {\n",
              "      display:flex;\n",
              "      flex-wrap:wrap;\n",
              "      gap: 12px;\n",
              "    }\n",
              "\n",
              "    .colab-df-convert {\n",
              "      background-color: #E8F0FE;\n",
              "      border: none;\n",
              "      border-radius: 50%;\n",
              "      cursor: pointer;\n",
              "      display: none;\n",
              "      fill: #1967D2;\n",
              "      height: 32px;\n",
              "      padding: 0 0 0 0;\n",
              "      width: 32px;\n",
              "    }\n",
              "\n",
              "    .colab-df-convert:hover {\n",
              "      background-color: #E2EBFA;\n",
              "      box-shadow: 0px 1px 2px rgba(60, 64, 67, 0.3), 0px 1px 3px 1px rgba(60, 64, 67, 0.15);\n",
              "      fill: #174EA6;\n",
              "    }\n",
              "\n",
              "    [theme=dark] .colab-df-convert {\n",
              "      background-color: #3B4455;\n",
              "      fill: #D2E3FC;\n",
              "    }\n",
              "\n",
              "    [theme=dark] .colab-df-convert:hover {\n",
              "      background-color: #434B5C;\n",
              "      box-shadow: 0px 1px 3px 1px rgba(0, 0, 0, 0.15);\n",
              "      filter: drop-shadow(0px 1px 2px rgba(0, 0, 0, 0.3));\n",
              "      fill: #FFFFFF;\n",
              "    }\n",
              "  </style>\n",
              "\n",
              "      <script>\n",
              "        const buttonEl =\n",
              "          document.querySelector('#df-63960386-dc46-458c-a63a-2fc418856842 button.colab-df-convert');\n",
              "        buttonEl.style.display =\n",
              "          google.colab.kernel.accessAllowed ? 'block' : 'none';\n",
              "\n",
              "        async function convertToInteractive(key) {\n",
              "          const element = document.querySelector('#df-63960386-dc46-458c-a63a-2fc418856842');\n",
              "          const dataTable =\n",
              "            await google.colab.kernel.invokeFunction('convertToInteractive',\n",
              "                                                     [key], {});\n",
              "          if (!dataTable) return;\n",
              "\n",
              "          const docLinkHtml = 'Like what you see? Visit the ' +\n",
              "            '<a target=\"_blank\" href=https://colab.research.google.com/notebooks/data_table.ipynb>data table notebook</a>'\n",
              "            + ' to learn more about interactive tables.';\n",
              "          element.innerHTML = '';\n",
              "          dataTable['output_type'] = 'display_data';\n",
              "          await google.colab.output.renderOutput(dataTable, element);\n",
              "          const docLink = document.createElement('div');\n",
              "          docLink.innerHTML = docLinkHtml;\n",
              "          element.appendChild(docLink);\n",
              "        }\n",
              "      </script>\n",
              "    </div>\n",
              "  </div>\n",
              "  "
            ],
            "text/plain": [
              "                                         id  target   Latitude   Longitude\n",
              "0   (10.18019073690894, 105.32022315786804)       1  10.180191  105.320223\n",
              "1  (10.561107033461816, 105.12772097986661)       0  10.561107  105.127721\n",
              "2  (10.623790611954897, 105.13771401411867)       0  10.623791  105.137714\n",
              "3  (10.583364246115156, 105.23946127195805)       0  10.583364  105.239461\n",
              "4   (10.20744446668854, 105.26844107128906)       1  10.207444  105.268441"
            ]
          },
          "execution_count": 125,
          "metadata": {},
          "output_type": "execute_result"
        }
      ],
      "source": [
        "test_data.head()"
      ]
    },
    {
      "cell_type": "code",
      "execution_count": null,
      "id": "PFeg-PE9PH3v",
      "metadata": {
        "id": "PFeg-PE9PH3v"
      },
      "outputs": [],
      "source": [
        "export_RN = test_data[[\"id\", \"target\"]]"
      ]
    },
    {
      "cell_type": "code",
      "execution_count": null,
      "id": "FVUyWmCPPLU4",
      "metadata": {
        "id": "FVUyWmCPPLU4"
      },
      "outputs": [],
      "source": [
        "export_RN[\"target\"] = export_RN[\"target\"].apply(lambda x: \"Rice\" if x == 1 else \"Non Rice\")"
      ]
    },
    {
      "cell_type": "code",
      "execution_count": null,
      "id": "WLU7aTq6PPNx",
      "metadata": {
        "id": "WLU7aTq6PPNx"
      },
      "outputs": [],
      "source": [
        "export_RN.to_csv(\"/content/drive/MyDrive/resnet_3day.csv\", index = False)"
      ]
    },
    {
      "cell_type": "markdown",
      "id": "6OQgAyx2113h",
      "metadata": {
        "id": "6OQgAyx2113h"
      },
      "source": [
        "Use DT and LR for predict"
      ]
    },
    {
      "cell_type": "code",
      "execution_count": null,
      "id": "895b6a48",
      "metadata": {
        "id": "895b6a48"
      },
      "outputs": [],
      "source": [
        "for inx in range(125):\n",
        "    test_lst_np_1[inx] = np.resize(test_lst_np_1[inx], (3, 557, 557)).reshape(3*557*557)\n",
        "    test_lst_np_2[inx] = np.resize(test_lst_np_2[inx], (3, 557, 557)).reshape(3*557*557)"
      ]
    },
    {
      "cell_type": "code",
      "execution_count": null,
      "id": "b3f85570",
      "metadata": {
        "id": "b3f85570"
      },
      "outputs": [],
      "source": [
        "my_test = np.concatenate([np.array(test_lst_np_1), np.array(test_lst_np_2)], axis = 0)"
      ]
    },
    {
      "cell_type": "code",
      "execution_count": null,
      "id": "70cdf941",
      "metadata": {
        "id": "70cdf941"
      },
      "outputs": [],
      "source": [
        "pred_test = clf.predict(my_test)"
      ]
    },
    {
      "cell_type": "code",
      "execution_count": null,
      "id": "99c385e2",
      "metadata": {
        "id": "99c385e2"
      },
      "outputs": [],
      "source": [
        "len(pred_test)"
      ]
    },
    {
      "cell_type": "code",
      "execution_count": null,
      "id": "e6c2795d",
      "metadata": {
        "id": "e6c2795d"
      },
      "outputs": [],
      "source": [
        "test_data[\"target\"] = pd.DataFrame({\"target\": pred_test})"
      ]
    },
    {
      "cell_type": "code",
      "execution_count": null,
      "id": "302a186e",
      "metadata": {
        "id": "302a186e"
      },
      "outputs": [],
      "source": [
        "test_data.head()"
      ]
    },
    {
      "cell_type": "code",
      "execution_count": null,
      "id": "eceda7ec",
      "metadata": {
        "id": "eceda7ec"
      },
      "outputs": [],
      "source": [
        "export = test_data[[\"id\", \"target\"]]"
      ]
    },
    {
      "cell_type": "code",
      "execution_count": null,
      "id": "ec8b12c8",
      "metadata": {
        "id": "ec8b12c8"
      },
      "outputs": [],
      "source": [
        "export[\"target\"] = export[\"target\"].apply(lambda x: \"Rice\" if x == 1 else \"Non Rice\")"
      ]
    },
    {
      "cell_type": "code",
      "execution_count": null,
      "id": "22a91370",
      "metadata": {
        "id": "22a91370"
      },
      "outputs": [],
      "source": [
        "export.to_csv(\".../Test_result_colab.csv\", index = False)"
      ]
    }
  ],
  "metadata": {
    "accelerator": "GPU",
    "colab": {
      "provenance": []
    },
    "gpuClass": "standard",
    "kernelspec": {
      "display_name": "Python 3 (ipykernel)",
      "language": "python",
      "name": "python3"
    },
    "language_info": {
      "codemirror_mode": {
        "name": "ipython",
        "version": 3
      },
      "file_extension": ".py",
      "mimetype": "text/x-python",
      "name": "python",
      "nbconvert_exporter": "python",
      "pygments_lexer": "ipython3",
      "version": "3.9.13"
    }
  },
  "nbformat": 4,
  "nbformat_minor": 5
}
